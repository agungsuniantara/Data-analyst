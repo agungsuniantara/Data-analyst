{
 "cells": [
  {
   "cell_type": "code",
   "execution_count": 14,
   "id": "7b0086c1",
   "metadata": {},
   "outputs": [
    {
     "name": "stdout",
     "output_type": "stream",
     "text": [
      "0\n",
      "()\n",
      "0\n",
      "1\n",
      "\n",
      "[1 2 3 4 5]\n",
      "(5,)\n",
      "1\n",
      "5\n",
      "\n",
      "[[ 1  2  3  4  5]\n",
      " [ 6  7  8  9 10]\n",
      " [ 1  2  3  4  5]\n",
      " [ 1  2  3  4  5]]\n",
      "(4, 5)\n",
      "2\n",
      "20\n",
      "\n",
      "[[[ 1  2  3  4  5]\n",
      "  [ 6  7  8  9 10]\n",
      "  [ 2  3  4  5  6]]\n",
      "\n",
      " [[11  2  3  4  5]\n",
      "  [ 6  7  8  9 10]\n",
      "  [ 1  2  3  4  5]]]\n",
      "(2, 3, 5)\n",
      "3\n",
      "30\n",
      "\n"
     ]
    }
   ],
   "source": [
    "import numpy as np\n",
    "\n",
    "# array 0 dimensi\n",
    "a = np.array(0)\n",
    "print(a)\n",
    "print(a.shape)\n",
    "print(a.ndim)\n",
    "print(a.size)\n",
    "print(\"\")\n",
    "\n",
    "# array 1 dimensi\n",
    "b = np.array([1,2,3,4,5])\n",
    "print(b)\n",
    "print(b.shape)\n",
    "print(b.ndim)\n",
    "print(b.size)\n",
    "print(\"\")\n",
    "\n",
    "# array 2 dimensi\n",
    "c = np.array([[1,2,3,4,5], [6,7,8,9,10], [1,2,3,4,5], [1,2,3,4,5]])\n",
    "print(c)\n",
    "print(c.shape)\n",
    "print(c.ndim)\n",
    "print(c.size)\n",
    "print(\"\")\n",
    "\n",
    "# array 3 dimensi\n",
    "\n",
    "d = np.array([[[1,2,3,4,5], [6,7,8,9,10], [2,3,4,5,6]], [[11,2,3,4,5], [6,7,8,9,10], [1,2,3,4,5]]])\n",
    "print(d)\n",
    "print(d.shape)\n",
    "print(d.ndim)\n",
    "print(d.size)\n",
    "print(\"\")"
   ]
  },
  {
   "cell_type": "code",
   "execution_count": 16,
   "id": "8f2a3d49",
   "metadata": {},
   "outputs": [
    {
     "name": "stdout",
     "output_type": "stream",
     "text": [
      "[[10 20 30]\n",
      " [ 5 10 20]\n",
      " [ 2  4  6]]\n"
     ]
    }
   ],
   "source": [
    "#assignment\n",
    "\n",
    "c = np.array([[10, 20, 30], [5, 10, 20], [2, 4, 6]])\n",
    "print(c)\n"
   ]
  },
  {
   "cell_type": "code",
   "execution_count": 20,
   "id": "ce827458",
   "metadata": {},
   "outputs": [
    {
     "name": "stdout",
     "output_type": "stream",
     "text": [
      "[[[10 11 12]\n",
      "  [13 14 15]\n",
      "  [16 17 18]]\n",
      "\n",
      " [[20 21 22]\n",
      "  [23 24 25]\n",
      "  [26 27 28]]\n",
      "\n",
      " [[30 31 32]\n",
      "  [33 34 35]\n",
      "  [36 37 38]]]\n",
      "(3, 3, 3)\n",
      "3\n",
      "27\n"
     ]
    }
   ],
   "source": [
    "#assignment\n",
    "\n",
    "d = np.array([[[10,11,12], [13,14,15], [16,17,18]], [[20,21,22], [23,24,25], [26,27,28]], [[30,31,32], [33,34,35], [36,37,38]]])\n",
    "print(d)\n",
    "print(d.shape)\n",
    "print(d.ndim)\n",
    "print(d.size)\n"
   ]
  },
  {
   "cell_type": "code",
   "execution_count": 21,
   "id": "3c244feb",
   "metadata": {},
   "outputs": [
    {
     "name": "stdout",
     "output_type": "stream",
     "text": [
      "[[['macbook' '3' '25jt']\n",
      "  ['asus' '14' '11jt']\n",
      "  ['hp' '17' '8jt']]\n",
      "\n",
      " [['iphone' '21' '13jt']\n",
      "  ['oppo' '24' '5jt']\n",
      "  ['vivo' '27' '4jt']]]\n",
      "(2, 3, 3)\n",
      "3\n",
      "18\n"
     ]
    }
   ],
   "source": [
    "d = np.array([[[\"macbook\",3,\"25jt\"], [\"asus\",14,\"11jt\"], [\"hp\",17,\"8jt\"]], [[\"iphone\",21,\"13jt\"], [\"oppo\",24,\"5jt\"], [\"vivo\",27,\"4jt\"]]])\n",
    "print(d)\n",
    "print(d.shape)\n",
    "print(d.ndim)\n",
    "print(d.size)"
   ]
  },
  {
   "cell_type": "code",
   "execution_count": null,
   "id": "40dc859e",
   "metadata": {},
   "outputs": [],
   "source": [
    "#assignment\n",
    "\n",
    "c = np.array([[10, 20, 30], [5, 10, 20], [2, 4, 6]])\n",
    "print(c)"
   ]
  }
 ],
 "metadata": {
  "kernelspec": {
   "display_name": "Python 3 (ipykernel)",
   "language": "python",
   "name": "python3"
  },
  "language_info": {
   "codemirror_mode": {
    "name": "ipython",
    "version": 3
   },
   "file_extension": ".py",
   "mimetype": "text/x-python",
   "name": "python",
   "nbconvert_exporter": "python",
   "pygments_lexer": "ipython3",
   "version": "3.9.13"
  }
 },
 "nbformat": 4,
 "nbformat_minor": 5
}
