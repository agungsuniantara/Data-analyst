{
 "cells": [
  {
   "cell_type": "code",
   "execution_count": 103,
   "id": "c941759c",
   "metadata": {},
   "outputs": [
    {
     "name": "stdout",
     "output_type": "stream",
     "text": [
      "Sapi\n",
      "Ayam\n",
      "Kambing\n",
      "Kuda\n",
      "Book\n",
      "23\n",
      "1984\n",
      "True\n",
      "Pencil\n"
     ]
    }
   ],
   "source": [
    "hewan = [\"Sapi\", \"Ayam\", \"Kambing\", \"Kuda\"]\n",
    "item_list = [\"Book\", 23, 1984, True, \"Pencil\"]\n",
    "\n",
    "for h in hewan:\n",
    "    print(h)\n",
    "for item in item_list:\n",
    "    print(item)"
   ]
  },
  {
   "cell_type": "code",
   "execution_count": 101,
   "id": "ea7e42b0",
   "metadata": {},
   "outputs": [
    {
     "name": "stdout",
     "output_type": "stream",
     "text": [
      "Sapi\n",
      "Ayam\n",
      "Kambing\n",
      "Kuda\n"
     ]
    }
   ],
   "source": [
    "hewan = [\"Sapi\", \"Ayam\", \"Kambing\", \"Kuda\"]\n",
    "\n",
    "\"Mengambil Data Pertama\"\n",
    "print(hewan[0])\n",
    "\n",
    "\"Mengambil Data Kedua\"\n",
    "print(hewan[1])\n",
    "\n",
    "\"Mengambil Data Ketiga\"\n",
    "print(hewan[2])\n",
    "\n",
    "\"Mengambil Data Keempat\"\n",
    "print(hewan[3])"
   ]
  },
  {
   "cell_type": "code",
   "execution_count": 105,
   "id": "bc78be47",
   "metadata": {},
   "outputs": [
    {
     "name": "stdout",
     "output_type": "stream",
     "text": [
      "['merah', 'putih', 'kuning', 'hijau', 'orange']\n",
      "['kuning', 'hijau', 'orange']\n",
      "['merah', 'putih', 'kuning']\n",
      "['putih', 'kuning', 'hijau']\n",
      "False\n",
      "['kuning', 'hijau', 'orange']\n",
      "['merah', 'putih', 'kuning', 'hijau', 'orange']\n"
     ]
    }
   ],
   "source": [
    "a = ['merah', 'putih', 'kuning', 'hijau','orange']\n",
    "\n",
    "print(a)\n",
    "print(a[2:5])\n",
    "print(a[-5:-2])\n",
    "print(a[1:4])\n",
    "print(a[-5:-2] == a[1:4])\n",
    "\n",
    "# slice dari index 2 ke akhir\n",
    "print(a[2:])\n",
    "\n",
    "# slice awal ke akhir\n",
    "print(a[:])"
   ]
  },
  {
   "cell_type": "code",
   "execution_count": 111,
   "id": "ad5d6674",
   "metadata": {},
   "outputs": [
    {
     "name": "stdout",
     "output_type": "stream",
     "text": [
      "['merah', 'kuning']\n"
     ]
    }
   ],
   "source": [
    "a = ['merah', 'putih', 'kuning', 'hijau','orange']\n",
    "\n",
    "print(a[0:3:2])"
   ]
  },
  {
   "cell_type": "code",
   "execution_count": 16,
   "id": "17c74b73",
   "metadata": {},
   "outputs": [
    {
     "name": "stdout",
     "output_type": "stream",
     "text": [
      "Sebelum diubah\n",
      "Sapi\n",
      "Setelah diubah\n",
      "Kangguru\n"
     ]
    }
   ],
   "source": [
    "hewan = [\"Sapi\", \"Ayam\", \"Kambing\", \"Kuda\"]\n",
    "print(\"Sebelum diubah\")\n",
    "print(hewan[0])\n",
    "hewan[0] = \"Kangguru\"\n",
    "print(\"Setelah diubah\")\n",
    "print(hewan[0])"
   ]
  },
  {
   "cell_type": "code",
   "execution_count": 18,
   "id": "1412a63a",
   "metadata": {},
   "outputs": [
    {
     "name": "stdout",
     "output_type": "stream",
     "text": [
      "['Red', 'Blue', 'Green', 'Brown']\n"
     ]
    }
   ],
   "source": [
    "colors = [\"Red\", \"Blue\", \"Green\"]\n",
    "colors.append(\"Brown\")\n",
    "\n",
    "print(colors)"
   ]
  },
  {
   "cell_type": "code",
   "execution_count": 20,
   "id": "f9b37999",
   "metadata": {},
   "outputs": [
    {
     "name": "stdout",
     "output_type": "stream",
     "text": [
      "['Brown', 'Red', 'Blue', 'Green']\n"
     ]
    }
   ],
   "source": [
    "colors = [\"Red\", \"Blue\", \"Green\"]\n",
    "colors.insert(0, \"Brown\")\n",
    "\n",
    "print(colors)"
   ]
  },
  {
   "cell_type": "code",
   "execution_count": 22,
   "id": "4773a394",
   "metadata": {},
   "outputs": [
    {
     "name": "stdout",
     "output_type": "stream",
     "text": [
      "['Red', 'Green']\n"
     ]
    }
   ],
   "source": [
    "colors = [\"Red\", \"Blue\", \"Green\"]\n",
    "del colors[1]\n",
    "\n",
    "print(colors)"
   ]
  },
  {
   "cell_type": "code",
   "execution_count": 25,
   "id": "ce99eead",
   "metadata": {},
   "outputs": [
    {
     "name": "stdout",
     "output_type": "stream",
     "text": [
      "['Gajah', 'Kucing', 'Tikus', 'Anjing', 'Putri Malu', 'Lidah Buaya', 'Mangga']\n"
     ]
    }
   ],
   "source": [
    "hewan = [\"Gajah\", \"Kucing\", \"Tikus\", \"Anjing\"]\n",
    "tumbuhan = [\"Putri Malu\", \"Lidah Buaya\", \"Mangga\"]\n",
    "makhluk_hidup = hewan + tumbuhan\n",
    "\n",
    "print(makhluk_hidup)"
   ]
  },
  {
   "cell_type": "code",
   "execution_count": 27,
   "id": "99a9913d",
   "metadata": {},
   "outputs": [
    {
     "name": "stdout",
     "output_type": "stream",
     "text": [
      "['Gajah', 'Kucing', 'Tikus', 'Anjing', 'Gajah', 'Kucing', 'Tikus', 'Anjing', 'Gajah', 'Kucing', 'Tikus', 'Anjing', 'Gajah', 'Kucing', 'Tikus', 'Anjing', 'Gajah', 'Kucing', 'Tikus', 'Anjing']\n"
     ]
    }
   ],
   "source": [
    "hewan = [\"Gajah\", \"Kucing\", \"Tikus\", \"Anjing\"]\n",
    "makhluk_hidup = hewan * 5\n",
    "\n",
    "print(makhluk_hidup)"
   ]
  },
  {
   "cell_type": "code",
   "execution_count": 32,
   "id": "dc48c130",
   "metadata": {},
   "outputs": [
    {
     "name": "stdout",
     "output_type": "stream",
     "text": [
      "Jus Melon\n"
     ]
    }
   ],
   "source": [
    "minuman =[\n",
    "    0[\"Kopi\", \"Susu\", \"Teh\"],\n",
    "    1[\"Jus Apel\", \"Jus Melon\", \"Jus Jeruk\"],\n",
    "    2[\"Es Kopi\", \"Es Campur\", \"Es Teler\"]\n",
    "]\n",
    "\n",
    "print(minuman[1][1])\n"
   ]
  },
  {
   "cell_type": "code",
   "execution_count": 33,
   "id": "59145f49",
   "metadata": {},
   "outputs": [
    {
     "name": "stdout",
     "output_type": "stream",
     "text": [
      "['Kopi', 'Susu', 'Teh']\n",
      "Kopi\n",
      "Susu\n",
      "Teh\n",
      "['Jus Apel', 'Jus Melon', 'Jus Jeruk']\n",
      "Jus Apel\n",
      "Jus Melon\n",
      "Jus Jeruk\n",
      "['Es Kopi', 'Es Campur', 'Es Teler']\n",
      "Es Kopi\n",
      "Es Campur\n",
      "Es Teler\n"
     ]
    }
   ],
   "source": [
    "for list in minuman:\n",
    "    print(list)\n",
    "    for menu in list:\n",
    "        print(menu)"
   ]
  },
  {
   "cell_type": "code",
   "execution_count": 34,
   "id": "e0cac30e",
   "metadata": {},
   "outputs": [
    {
     "name": "stdout",
     "output_type": "stream",
     "text": [
      "4\n"
     ]
    }
   ],
   "source": [
    "hewan = [\"Gajah\", \"Kucing\", \"Tikus\", \"Anjing\"]\n",
    "print(len(hewan))"
   ]
  },
  {
   "cell_type": "code",
   "execution_count": 35,
   "id": "49e616e9",
   "metadata": {},
   "outputs": [
    {
     "name": "stdout",
     "output_type": "stream",
     "text": [
      "e\n",
      "c\n"
     ]
    }
   ],
   "source": [
    "mylist = ['a','b','c','d','e']\n",
    "\n",
    "# item terakhir\n",
    "print(mylist[-1])\n",
    "\n",
    "# item ke-3 terakhir\n",
    "print(mylist[-3])"
   ]
  },
  {
   "cell_type": "code",
   "execution_count": 36,
   "id": "5b5c3c74",
   "metadata": {},
   "outputs": [
    {
     "name": "stdout",
     "output_type": "stream",
     "text": [
      "[1, 2, 4, 8, 16, 32, 64, 128, 256, 512]\n"
     ]
    }
   ],
   "source": [
    "#membuat list dari pangkat 2\n",
    "pow2 = [2 ** x for x in range(10)]\n",
    "print(pow2)"
   ]
  },
  {
   "cell_type": "code",
   "execution_count": 93,
   "id": "6e35ba9f",
   "metadata": {},
   "outputs": [
    {
     "name": "stdout",
     "output_type": "stream",
     "text": [
      "Warna favorit saya merah\n",
      "Warna favorit saya kuning\n",
      "Warna favorit saya hijau\n"
     ]
    }
   ],
   "source": [
    "for warna in ['merah','kuning','hijau']:\n",
    "    print(\"Warna favorit saya\",warna)"
   ]
  },
  {
   "cell_type": "code",
   "execution_count": 39,
   "id": "9430e114",
   "metadata": {},
   "outputs": [
    {
     "name": "stdout",
     "output_type": "stream",
     "text": [
      "['kosong']\n"
     ]
    }
   ],
   "source": [
    "#assignment\n",
    "\n",
    "kosong = []\n",
    "\n",
    "kosong.append(\"kosong\")\n",
    "\n",
    "print(kosong)"
   ]
  },
  {
   "cell_type": "code",
   "execution_count": 128,
   "id": "d59f0590",
   "metadata": {},
   "outputs": [
    {
     "name": "stdout",
     "output_type": "stream",
     "text": [
      "True\n"
     ]
    }
   ],
   "source": [
    "#assignment\n",
    "\n",
    "a = [True]\n",
    "\n",
    "aktif = a[0]\n",
    "\n",
    "print(aktif)"
   ]
  },
  {
   "cell_type": "code",
   "execution_count": 129,
   "id": "f805c229",
   "metadata": {},
   "outputs": [
    {
     "name": "stdout",
     "output_type": "stream",
     "text": [
      "bilangan : 10\n",
      "bilangan : 2\n",
      "bilangan : 3\n",
      "bilangan : 4\n",
      "bilangan : 5\n",
      "[10, 2, 3, 4, 5]\n"
     ]
    }
   ],
   "source": [
    "max = 0\n",
    "kodepos = []\n",
    "\n",
    "while(True):\n",
    "    bilangan = int(input(\"bilangan : \"))\n",
    "    kodepos.append(bilangan)\n",
    "    max += 1\n",
    "    if max == 5:\n",
    "        break\n",
    "\n",
    "print(kodepos)"
   ]
  },
  {
   "cell_type": "code",
   "execution_count": 49,
   "id": "0806fe2c",
   "metadata": {},
   "outputs": [
    {
     "name": "stdout",
     "output_type": "stream",
     "text": [
      "['merah', 'hijau', 'biru']\n"
     ]
    }
   ],
   "source": [
    "warna = [\"merah\", \"hijau\", \"biru\"]\n",
    "warna2 = [warna[0], warna[1], warna[2]]\n",
    "\n",
    "print(warna2)"
   ]
  },
  {
   "cell_type": "code",
   "execution_count": 133,
   "id": "6435fa82",
   "metadata": {},
   "outputs": [
    {
     "name": "stdout",
     "output_type": "stream",
     "text": [
      "['merah', 'hijau', 'biru', 0, 1, 2, 3, 4, 5, 6, 7, 8, 9]\n",
      "True\n"
     ]
    }
   ],
   "source": [
    "warna = [\"merah\", \"hijau\", \"biru\"]\n",
    "\n",
    "for i in range(10):\n",
    "    warna.append(i)\n",
    "\n",
    "print(warna)\n",
    "\n",
    "cek_panjang = len(warna)\n",
    "\n",
    "if cek_panjang > 10:\n",
    "    print(True)\n",
    "else:\n",
    "    print(False)"
   ]
  },
  {
   "cell_type": "code",
   "execution_count": 136,
   "id": "e6b10db6",
   "metadata": {},
   "outputs": [
    {
     "name": "stdout",
     "output_type": "stream",
     "text": [
      "output =  koding akademi\n",
      "output =  welcome\n",
      "output =  imedaka gnidok ot emoclew\n",
      "output =  \n"
     ]
    }
   ],
   "source": [
    "mystr = \"welcome to koding akademi\"\n",
    "\n",
    "print(\"output = \", mystr[11:25])\n",
    "print(\"output = \", mystr[0:7])\n",
    "print(\"output = \", mystr[::-1])"
   ]
  },
  {
   "cell_type": "code",
   "execution_count": 117,
   "id": "b54f472e",
   "metadata": {},
   "outputs": [
    {
     "name": "stdout",
     "output_type": "stream",
     "text": [
      "Green\n"
     ]
    }
   ],
   "source": [
    "colors = [\"Red\", \"Blue\", \"Green\"]\n",
    "\n",
    "\n",
    "print(colors.pop())"
   ]
  },
  {
   "cell_type": "code",
   "execution_count": 119,
   "id": "d5f20686",
   "metadata": {},
   "outputs": [
    {
     "name": "stdout",
     "output_type": "stream",
     "text": [
      "['Gajah', 'Kucing', 'Tikus', 'Anjing', 'Gajah', 'Kucing', 'Tikus', 'Anjing', 'Gajah', 'Kucing', 'Tikus', 'Anjing', 'Gajah', 'Kucing', 'Tikus', 'Anjing', 'Gajah', 'Kucing', 'Tikus', 'Anjing']\n"
     ]
    }
   ],
   "source": [
    "hewan = [\"Gajah\", \"Kucing\", \"Tikus\", \"Anjing\"]\n",
    "makhluk_hidup = hewan * 5\n",
    "print(makhluk_hidup)"
   ]
  },
  {
   "cell_type": "code",
   "execution_count": 123,
   "id": "87a9471d",
   "metadata": {},
   "outputs": [
    {
     "name": "stdout",
     "output_type": "stream",
     "text": [
      "Jus Jeruk\n",
      "Kopi\n",
      "Susu\n",
      "Teh\n",
      "Jus Apel\n",
      "Jus Melon\n",
      "Jus Jeruk\n",
      "Es Kopi\n",
      "Es Campur\n",
      "Es Teler\n"
     ]
    }
   ],
   "source": [
    "minuman =[\n",
    "    [\"Kopi\", \"Susu\", \"Teh\"],\n",
    "    [\"Jus Apel\", \"Jus Melon\", \"Jus Jeruk\"],\n",
    "    [\"Es Kopi\", \"Es Campur\", \"Es Teler\"]\n",
    "]\n",
    "\n",
    "# print(minuman[1][2])\n",
    "\n",
    "for a in minuman:\n",
    "    for b in a:\n",
    "        print(b)"
   ]
  },
  {
   "cell_type": "code",
   "execution_count": 124,
   "id": "569a02bd",
   "metadata": {},
   "outputs": [
    {
     "name": "stdout",
     "output_type": "stream",
     "text": [
      "4\n"
     ]
    }
   ],
   "source": [
    "hewan = [\"Gajah\", \"Kucing\", \"Tikus\", \"Anjing\"]\n",
    "print(len(hewan))"
   ]
  },
  {
   "cell_type": "code",
   "execution_count": 125,
   "id": "8ccc0cf1",
   "metadata": {},
   "outputs": [
    {
     "name": "stdout",
     "output_type": "stream",
     "text": [
      "e\n",
      "c\n"
     ]
    }
   ],
   "source": [
    "mylist = ['a','b','c','d','e']\n",
    "\n",
    "# item terakhir\n",
    "print(mylist[-1])\n",
    "\n",
    "# item ke-3 terakhir\n",
    "print(mylist[-3])"
   ]
  },
  {
   "cell_type": "code",
   "execution_count": 126,
   "id": "54059f42",
   "metadata": {},
   "outputs": [
    {
     "name": "stdout",
     "output_type": "stream",
     "text": [
      "[1, 2, 4, 8, 16, 32, 64, 128, 256, 512]\n"
     ]
    }
   ],
   "source": [
    "pow2 = [2 ** x = 1 for x in range(10)]\n",
    "print(pow2)"
   ]
  },
  {
   "cell_type": "code",
   "execution_count": 127,
   "id": "762d0a28",
   "metadata": {},
   "outputs": [
    {
     "name": "stdout",
     "output_type": "stream",
     "text": [
      "Warna favorit saya merah\n",
      "Warna favorit saya kuning\n",
      "Warna favorit saya hijau\n"
     ]
    }
   ],
   "source": [
    "for warna in ['merah','kuning','hijau']:\n",
    "    print(\"Warna favorit saya\",warna)"
   ]
  },
  {
   "cell_type": "code",
   "execution_count": 130,
   "id": "720d2bb8",
   "metadata": {},
   "outputs": [
    {
     "name": "stdout",
     "output_type": "stream",
     "text": [
      "[10, 20, 30, 40, 50]\n"
     ]
    }
   ],
   "source": [
    "a = [10,20,30,40,50]\n",
    "\n",
    "kodepos = a\n",
    "\n",
    "print(kodepos)"
   ]
  },
  {
   "cell_type": "code",
   "execution_count": null,
   "id": "0b37883d",
   "metadata": {},
   "outputs": [],
   "source": []
  }
 ],
 "metadata": {
  "kernelspec": {
   "display_name": "Python 3 (ipykernel)",
   "language": "python",
   "name": "python3"
  },
  "language_info": {
   "codemirror_mode": {
    "name": "ipython",
    "version": 3
   },
   "file_extension": ".py",
   "mimetype": "text/x-python",
   "name": "python",
   "nbconvert_exporter": "python",
   "pygments_lexer": "ipython3",
   "version": "3.9.13"
  }
 },
 "nbformat": 4,
 "nbformat_minor": 5
}
