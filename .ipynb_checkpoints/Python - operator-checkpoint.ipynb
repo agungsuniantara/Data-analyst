{
 "cells": [
  {
   "cell_type": "code",
   "execution_count": null,
   "metadata": {
    "colab": {
     "base_uri": "https://localhost:8080/"
    },
    "executionInfo": {
     "elapsed": 7631,
     "status": "ok",
     "timestamp": 1676470823741,
     "user": {
      "displayName": "agung suniantara",
      "userId": "14822258229666952360"
     },
     "user_tz": 480
    },
    "id": "1KmIFXcyaaZl",
    "outputId": "ec912929-0c23-45c6-91ee-9520106d67be"
   },
   "outputs": [
    {
     "name": "stdout",
     "output_type": "stream",
     "text": [
      "Masukan Angka 1 = 6\n",
      "Masukan Angka 2 = 4\n",
      "Hasil Penjumlahan =  10\n",
      "Hasil Pengurangan =  2\n",
      "Hasil Pembagian =  1.5\n",
      "Hasil Perkalian =  24\n",
      "Hasil Pemangkatan =  1296\n",
      "Hasil Sisa Bagi =  2\n"
     ]
    }
   ],
   "source": [
    "num1 = int(input(\"Masukan Angka 1 = \"))\n",
    "num2 = int(input(\"Masukan Angka 2 = \"))\n",
    "\n",
    "penjumlahan = num1 + num2\n",
    "pengurangan = num1 - num2\n",
    "pembagian = num1 / num2\n",
    "perkalian = num1*num2\n",
    "pemangkatan = num1**num2\n",
    "sisa_bagi = num1%num2\n",
    "\n",
    "print(\"Hasil Penjumlahan = \", penjumlahan)\n",
    "print(\"Hasil Pengurangan = \", pengurangan)\n",
    "print(\"Hasil Pembagian = \", pembagian)\n",
    "print(\"Hasil Perkalian = \", perkalian)\n",
    "print(\"Hasil Pemangkatan = \", pemangkatan)\n",
    "print(\"Hasil Sisa Bagi = \", sisa_bagi)"
   ]
  },
  {
   "cell_type": "code",
   "execution_count": null,
   "metadata": {
    "colab": {
     "base_uri": "https://localhost:8080/"
    },
    "executionInfo": {
     "elapsed": 715,
     "status": "ok",
     "timestamp": 1676471367810,
     "user": {
      "displayName": "agung suniantara",
      "userId": "14822258229666952360"
     },
     "user_tz": 480
    },
    "id": "c8LtjNd4bzru",
    "outputId": "f498fef0-74cf-4aa4-db14-beffd57c410f"
   },
   "outputs": [
    {
     "name": "stdout",
     "output_type": "stream",
     "text": [
      "KodingAkademi\n"
     ]
    }
   ],
   "source": [
    "word1 = \"Koding\"\n",
    "word2 = \"Akademi\"\n",
    "words = word1 + word2\n",
    "print(words)"
   ]
  },
  {
   "cell_type": "code",
   "execution_count": null,
   "metadata": {
    "id": "pfGRKMe9czTm"
   },
   "outputs": [],
   "source": [
    "name = \"Koding Akademi\"\n",
    "age = 18\n",
    "course = \"Python for Beginners\"\n",
    "is_end = True"
   ]
  },
  {
   "cell_type": "code",
   "execution_count": null,
   "metadata": {
    "colab": {
     "base_uri": "https://localhost:8080/"
    },
    "executionInfo": {
     "elapsed": 3,
     "status": "ok",
     "timestamp": 1676471638457,
     "user": {
      "displayName": "agung suniantara",
      "userId": "14822258229666952360"
     },
     "user_tz": 480
    },
    "id": "8V1Tlceve0LT",
    "outputId": "781b5396-194a-42bf-dbfc-aa5f8f785f3d"
   },
   "outputs": [
    {
     "name": "stdout",
     "output_type": "stream",
     "text": [
      "Nilai a setelah dilakukan penambahan nilai =  21\n",
      "Nilai a setelah dilakukan penambahan nilai =  9\n",
      "Nilai a setelah dilakukan penambahan nilai =  15.0\n",
      "Nilai a setelah dilakukan penambahan nilai =  100\n",
      "Nilai a setelah dilakukan penambahan nilai =  0\n",
      "Nilai a setelah dilakukan penambahan nilai =  400\n"
     ]
    }
   ],
   "source": [
    "a = 20\n",
    "b = 10\n",
    "c = 30\n",
    "d = 50\n",
    "e = 90\n",
    "f = 20\n",
    "\n",
    "a += 1\n",
    "print(\"Nilai a setelah dilakukan penambahan nilai = \", a)\n",
    "b -= 1\n",
    "print(\"Nilai a setelah dilakukan penambahan nilai = \", b)\n",
    "c /= 2\n",
    "print(\"Nilai a setelah dilakukan penambahan nilai = \", c)\n",
    "d *= 2\n",
    "print(\"Nilai a setelah dilakukan penambahan nilai = \", d)\n",
    "e %= 2\n",
    "print(\"Nilai a setelah dilakukan penambahan nilai = \", e)\n",
    "f **= 2\n",
    "print(\"Nilai a setelah dilakukan penambahan nilai = \", f)"
   ]
  },
  {
   "cell_type": "code",
   "execution_count": null,
   "metadata": {
    "colab": {
     "base_uri": "https://localhost:8080/"
    },
    "executionInfo": {
     "elapsed": 4164,
     "status": "ok",
     "timestamp": 1676509297862,
     "user": {
      "displayName": "agung suniantara",
      "userId": "14822258229666952360"
     },
     "user_tz": 480
    },
    "id": "qUTNVvNbfAaX",
    "outputId": "78ea49c5-1ce2-47ae-c838-3ae147685e8a"
   },
   "outputs": [
    {
     "name": "stdout",
     "output_type": "stream",
     "text": [
      "Masukan Angka 1 = 6\n",
      "Masukan Angka 2 = 7\n",
      "Angka 1 =  6\n",
      "Angka 2 =  7\n",
      "Apakah Angka 1 lebih kecil dari Angka 2?  True\n",
      "Apakah Angka 1 lebih besar dari Angka 2?  False\n",
      "Apakah Angka 1 sama dengan dari Angka 2?  False\n",
      "Apakah Angka 1 tidak sama dengan dari Angka 2?  True\n",
      "Apakah Angka 1 lebih besar sama dengan dari Angka 2?  False\n",
      "Apakah Angka 1 lebih kecil sama dengan dari Angka 2?  True\n"
     ]
    }
   ],
   "source": [
    "num1 = int(input(\"Masukan Angka 1 = \"))\n",
    "num2 = int(input(\"Masukan Angka 2 = \"))\n",
    "\n",
    "lebih_kecil = num1<num2\n",
    "lebih_besar = num1>num2\n",
    "sama_dengan = num1 == num2\n",
    "tidak_sama = num1 != num2\n",
    "besar_sama = num1 >= num2\n",
    "kecil_sama = num1 <= num2\n",
    "\n",
    "print(\"Angka 1 = \", num1)\n",
    "print(\"Angka 2 = \", num2)\n",
    "print(\"Apakah Angka 1 lebih kecil dari Angka 2? \", lebih_kecil)\n",
    "print(\"Apakah Angka 1 lebih besar dari Angka 2? \", lebih_besar)\n",
    "print(\"Apakah Angka 1 sama dengan dari Angka 2? \", sama_dengan)\n",
    "print(\"Apakah Angka 1 tidak sama dengan dari Angka 2? \", tidak_sama)\n",
    "print(\"Apakah Angka 1 lebih besar sama dengan dari Angka 2? \", besar_sama)\n",
    "print(\"Apakah Angka 1 lebih kecil sama dengan dari Angka 2? \", kecil_sama)"
   ]
  },
  {
   "cell_type": "code",
   "execution_count": null,
   "metadata": {
    "colab": {
     "base_uri": "https://localhost:8080/"
    },
    "executionInfo": {
     "elapsed": 295,
     "status": "ok",
     "timestamp": 1676510111904,
     "user": {
      "displayName": "agung suniantara",
      "userId": "14822258229666952360"
     },
     "user_tz": 480
    },
    "id": "Tfi3eyyBgBxo",
    "outputId": "6144cd42-868a-44cb-e62a-03704730f748"
   },
   "outputs": [
    {
     "name": "stdout",
     "output_type": "stream",
     "text": [
      "False\n",
      "True\n",
      "False\n",
      "False\n",
      "True\n",
      "True\n",
      "False\n",
      "True\n",
      "True\n",
      "False\n",
      "ini pernyataan true\n",
      "ini pernyataan true\n",
      "ini pernyataan true\n",
      "ini pernyataan false\n"
     ]
    }
   ],
   "source": [
    "print(True and False)  \n",
    "\n",
    "print(True and True)  \n",
    "\n",
    "print(False and False)  \n",
    "\n",
    "print(False and True)  \n",
    "\n",
    "print(True or False) \n",
    "\n",
    "print(True or True)  \n",
    "\n",
    "print(False or False) \n",
    "\n",
    "print(False or True)\n",
    "\n",
    "print(not False)  \n",
    "\n",
    "print(not True)\n",
    "\n",
    "angka1 = 5\n",
    "angka2 = 2\n",
    "\n",
    "if (angka1 == 5 and angka2 == 1):\n",
    "  print(\"ini pernyataan true\")\n",
    "else:\n",
    "  print(\"ini pernyataan false\")\n",
    "\n",
    "if (angka1 == 5 or angka2 == 1):\n",
    "  print(\"ini pernyataan true\")\n",
    "else:\n",
    "  print(\"ini pernyataan false\")\n",
    "\n",
    "if (angka1 == 5 or angka2 == 1):\n",
    "  print(\"ini pernyataan true\")\n",
    "else:\n",
    "  print(\"ini pernyataan false\")\n",
    "\n",
    "if (not angka1 == 5):\n",
    "  print(\"ini pernyataan true\")\n",
    "else:\n",
    "  print(\"ini pernyataan false\")"
   ]
  },
  {
   "cell_type": "code",
   "execution_count": null,
   "metadata": {
    "colab": {
     "base_uri": "https://localhost:8080/"
    },
    "executionInfo": {
     "elapsed": 3,
     "status": "ok",
     "timestamp": 1676471883471,
     "user": {
      "displayName": "agung suniantara",
      "userId": "14822258229666952360"
     },
     "user_tz": 480
    },
    "id": "xuIo50oigXsq",
    "outputId": "4a153bf3-42d4-4f2f-e15f-d681b5032c82"
   },
   "outputs": [
    {
     "name": "stdout",
     "output_type": "stream",
     "text": [
      "False\n"
     ]
    }
   ],
   "source": [
    "list1 = [41, 1005, 3000, 180, 520, 2270]\n",
    "angka = 15\n",
    "\n",
    "print(angka in list1)"
   ]
  },
  {
   "cell_type": "code",
   "execution_count": 6,
   "metadata": {
    "colab": {
     "base_uri": "https://localhost:8080/",
     "height": 131
    },
    "executionInfo": {
     "elapsed": 6,
     "status": "error",
     "timestamp": 1676605983461,
     "user": {
      "displayName": "agung suniantara",
      "userId": "14822258229666952360"
     },
     "user_tz": -480
    },
    "id": "j5sYmCMsgtMt",
    "outputId": "7f15d406-d4c5-499e-a6ea-69d28a175dba"
   },
   "outputs": [
    {
     "name": "stdout",
     "output_type": "stream",
     "text": [
      "True\n"
     ]
    }
   ],
   "source": [
    "list1 = [41, 1005, 3000, 180, 520, 2270]\n",
    "angka = 15\n",
    "\n",
    "print(angka not in list1)"
   ]
  },
  {
   "cell_type": "code",
   "execution_count": null,
   "metadata": {
    "colab": {
     "base_uri": "https://localhost:8080/"
    },
    "executionInfo": {
     "elapsed": 3,
     "status": "ok",
     "timestamp": 1676471924651,
     "user": {
      "displayName": "agung suniantara",
      "userId": "14822258229666952360"
     },
     "user_tz": 480
    },
    "id": "RtZL8uOXgztS",
    "outputId": "48333f47-e8b2-4746-c017-bc90acadbb07"
   },
   "outputs": [
    {
     "name": "stdout",
     "output_type": "stream",
     "text": [
      "True\n",
      "False\n"
     ]
    }
   ],
   "source": [
    "a = 100\n",
    "b = a\n",
    "\n",
    "c = 2\n",
    "print(a is b)\n",
    "print(a is c)"
   ]
  },
  {
   "cell_type": "code",
   "execution_count": null,
   "metadata": {
    "colab": {
     "base_uri": "https://localhost:8080/"
    },
    "executionInfo": {
     "elapsed": 388,
     "status": "ok",
     "timestamp": 1676512720345,
     "user": {
      "displayName": "agung suniantara",
      "userId": "14822258229666952360"
     },
     "user_tz": 480
    },
    "id": "E5HKsEtzg3MW",
    "outputId": "b1d7442c-952c-47c2-bbfb-e7109c4d221b"
   },
   "outputs": [
    {
     "name": "stdout",
     "output_type": "stream",
     "text": [
      "False\n",
      "True\n"
     ]
    }
   ],
   "source": [
    "ranks = [1, 2, 3]\n",
    "rates = [1, 2, 3]\n",
    "\n",
    "identitas = ranks is rates\n",
    "sama = ranks == rates\n",
    "\n",
    "print(identitas)\n",
    "print(sama)"
   ]
  },
  {
   "cell_type": "code",
   "execution_count": null,
   "metadata": {
    "colab": {
     "base_uri": "https://localhost:8080/"
    },
    "executionInfo": {
     "elapsed": 311,
     "status": "ok",
     "timestamp": 1676513128671,
     "user": {
      "displayName": "agung suniantara",
      "userId": "14822258229666952360"
     },
     "user_tz": 480
    },
    "id": "mH9TfTn27YXS",
    "outputId": "d93a3856-b00d-47b0-b3f8-be0543beb785"
   },
   "outputs": [
    {
     "name": "stdout",
     "output_type": "stream",
     "text": [
      "1\n",
      "2\n",
      "3\n",
      "4\n",
      "5\n"
     ]
    }
   ],
   "source": [
    "#assignment 1\n",
    "angka1 = 1\n",
    "\n",
    "for i in range(1,6):\n",
    "  print(angka1)\n",
    "  angka1 += 1"
   ]
  },
  {
   "cell_type": "code",
   "execution_count": null,
   "metadata": {
    "colab": {
     "base_uri": "https://localhost:8080/"
    },
    "executionInfo": {
     "elapsed": 308,
     "status": "ok",
     "timestamp": 1676513154981,
     "user": {
      "displayName": "agung suniantara",
      "userId": "14822258229666952360"
     },
     "user_tz": 480
    },
    "id": "Pk6Snbjw9XcH",
    "outputId": "ab8c3f64-eaa2-4135-c848-d62da01fc020"
   },
   "outputs": [
    {
     "name": "stdout",
     "output_type": "stream",
     "text": [
      "5\n",
      "4\n",
      "3\n",
      "2\n",
      "1\n"
     ]
    }
   ],
   "source": [
    "#assignment 2\n",
    "\n",
    "angka1 = 6\n",
    "\n",
    "for i in range(1,6):\n",
    "  angka1 -= 1\n",
    "  print(angka1)"
   ]
  },
  {
   "cell_type": "code",
   "execution_count": null,
   "metadata": {
    "colab": {
     "base_uri": "https://localhost:8080/"
    },
    "executionInfo": {
     "elapsed": 4991,
     "status": "ok",
     "timestamp": 1676513426128,
     "user": {
      "displayName": "agung suniantara",
      "userId": "14822258229666952360"
     },
     "user_tz": 480
    },
    "id": "NlIsgIOb9x4f",
    "outputId": "81c2a7e0-be3c-4987-abaf-936b3e6558d1"
   },
   "outputs": [
    {
     "name": "stdout",
     "output_type": "stream",
     "text": [
      "masukkan num1 = 10\n",
      "masukkan num2 = 2\n",
      "masukkan num3 = 3\n",
      "masukkan num4 = 4\n",
      "apakah angka num1 lebih besar dari angka num3 ?  True\n",
      "apakah angka num2 lebih besar dari angka num4 ?  False\n"
     ]
    }
   ],
   "source": [
    "#assignment 3\n",
    "\n",
    "num1 = int(input(\"masukkan num1 = \"))\n",
    "num2 = int(input(\"masukkan num2 = \"))\n",
    "num3 = int(input(\"masukkan num3 = \"))\n",
    "num4 = int(input(\"masukkan num4 = \"))\n",
    "\n",
    "kondisi1 = num1 > num3\n",
    "kondisi2 = num2 > num4\n",
    "\n",
    "print(\"apakah angka num1 lebih besar dari angka num3 ? \", kondisi1)\n",
    "print(\"apakah angka num2 lebih besar dari angka num4 ? \", kondisi2)"
   ]
  },
  {
   "cell_type": "code",
   "execution_count": null,
   "metadata": {
    "colab": {
     "base_uri": "https://localhost:8080/"
    },
    "executionInfo": {
     "elapsed": 3594,
     "status": "ok",
     "timestamp": 1676513600861,
     "user": {
      "displayName": "agung suniantara",
      "userId": "14822258229666952360"
     },
     "user_tz": 480
    },
    "id": "ZbERjITw-eKV",
    "outputId": "e8ad83d1-4209-4238-afda-131e3c2d04ca"
   },
   "outputs": [
    {
     "name": "stdout",
     "output_type": "stream",
     "text": [
      "masukkan num1 = 5\n",
      "masukkan num2 = 2\n",
      "angka 1 = 5\n",
      "angka 2 = 2\n",
      "hasil pangkat angka 1 dan angka 2 = 25\n"
     ]
    }
   ],
   "source": [
    "#assignment 4\n",
    "\n",
    "num1 = int(input(\"masukkan num1 = \"))\n",
    "num2 = int(input(\"masukkan num2 = \"))\n",
    "hasil = num1**num2\n",
    "\n",
    "print(f\"angka 1 = {num1}\")\n",
    "print(f\"angka 2 = {num2}\")\n",
    "print(f\"hasil pangkat angka 1 dan angka 2 = {hasil}\")\n"
   ]
  },
  {
   "cell_type": "code",
   "execution_count": null,
   "metadata": {
    "colab": {
     "base_uri": "https://localhost:8080/"
    },
    "executionInfo": {
     "elapsed": 2065,
     "status": "ok",
     "timestamp": 1676513820571,
     "user": {
      "displayName": "agung suniantara",
      "userId": "14822258229666952360"
     },
     "user_tz": 480
    },
    "id": "aRIZquCq_1Fg",
    "outputId": "040aa99d-44bf-43ab-986c-f59c313f37e4"
   },
   "outputs": [
    {
     "name": "stdout",
     "output_type": "stream",
     "text": [
      "masukkan angka = 2\n",
      "2 adalah bilangan genap\n"
     ]
    }
   ],
   "source": [
    "#assignment 5\n",
    "\n",
    "num = int(input(\"masukkan angka = \"))\n",
    "\n",
    "if num % 2 == 0 :\n",
    "  print(f\"{num} adalah bilangan genap\")\n",
    "else:\n",
    "  print(f\"{num} adalah bilangan ganjil\")"
   ]
  },
  {
   "cell_type": "code",
   "execution_count": null,
   "metadata": {
    "id": "yOiaR3jAAgcC"
   },
   "outputs": [],
   "source": []
  }
 ],
 "metadata": {
  "colab": {
   "authorship_tag": "ABX9TyMagz8qrQ3VDMHmvfoxUrJQ",
   "provenance": []
  },
  "kernelspec": {
   "display_name": "Python 3 (ipykernel)",
   "language": "python",
   "name": "python3"
  },
  "language_info": {
   "codemirror_mode": {
    "name": "ipython",
    "version": 3
   },
   "file_extension": ".py",
   "mimetype": "text/x-python",
   "name": "python",
   "nbconvert_exporter": "python",
   "pygments_lexer": "ipython3",
   "version": "3.9.13"
  }
 },
 "nbformat": 4,
 "nbformat_minor": 1
}
