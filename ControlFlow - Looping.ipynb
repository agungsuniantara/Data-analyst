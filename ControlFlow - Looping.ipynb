{
 "cells": [
  {
   "cell_type": "code",
   "execution_count": 1,
   "metadata": {
    "colab": {
     "base_uri": "https://localhost:8080/"
    },
    "executionInfo": {
     "elapsed": 5,
     "status": "ok",
     "timestamp": 1676518556950,
     "user": {
      "displayName": "agung suniantara",
      "userId": "14822258229666952360"
     },
     "user_tz": 480
    },
    "id": "XiLnzj_BSo7t",
    "outputId": "0647f190-3f2c-42f4-c0ae-6c3cb765fb70"
   },
   "outputs": [
    {
     "name": "stdout",
     "output_type": "stream",
     "text": [
      "Koding Akademi\n",
      "Koding Akademi\n",
      "Koding Akademi\n",
      "Koding Akademi\n",
      "Koding Akademi\n",
      "Koding Akademi\n",
      "Koding Akademi\n",
      "Koding Akademi\n",
      "Koding Akademi\n",
      "Koding Akademi\n"
     ]
    }
   ],
   "source": [
    "print(\"Koding Akademi\")\n",
    "print(\"Koding Akademi\")\n",
    "print(\"Koding Akademi\")\n",
    "print(\"Koding Akademi\")\n",
    "print(\"Koding Akademi\")\n",
    "print(\"Koding Akademi\")\n",
    "print(\"Koding Akademi\")\n",
    "print(\"Koding Akademi\")\n",
    "print(\"Koding Akademi\")\n",
    "print(\"Koding Akademi\")"
   ]
  },
  {
   "cell_type": "code",
   "execution_count": 3,
   "metadata": {
    "id": "hNCj1gsRSuoM"
   },
   "outputs": [
    {
     "name": "stdout",
     "output_type": "stream",
     "text": [
      "0\n",
      "1\n",
      "2\n",
      "3\n",
      "4\n",
      "5\n",
      "6\n",
      "7\n",
      "8\n",
      "9\n"
     ]
    }
   ],
   "source": [
    "jumlah_perulangan = 10\n",
    "for n in range(jumlah_perulangan):\n",
    "     print(n)"
   ]
  },
  {
   "cell_type": "code",
   "execution_count": 2,
   "metadata": {},
   "outputs": [
    {
     "name": "stdout",
     "output_type": "stream",
     "text": [
      "Apple\n",
      "Orange\n",
      "Water Melon\n"
     ]
    }
   ],
   "source": [
    "items = ['Apple', 'Orange', 'Water Melon']\n",
    "for fruit in (items): \n",
    "    print(fruit)"
   ]
  },
  {
   "cell_type": "code",
   "execution_count": 5,
   "metadata": {},
   "outputs": [
    {
     "name": "stdout",
     "output_type": "stream",
     "text": [
      "merah\n",
      "hijau\n",
      "kuning\n"
     ]
    }
   ],
   "source": [
    "l = [\"merah\", \"hijau\", \"kuning\"]\n",
    "for i in l:\n",
    "\tprint(i)"
   ]
  },
  {
   "cell_type": "code",
   "execution_count": 6,
   "metadata": {},
   "outputs": [
    {
     "name": "stdout",
     "output_type": "stream",
     "text": [
      "merah\n",
      "hijau\n",
      "kuning\n"
     ]
    }
   ],
   "source": [
    "t = (\"merah\", \"hijau\", \"kuning\")\n",
    "for i in t:\n",
    "\tprint(i)"
   ]
  },
  {
   "cell_type": "code",
   "execution_count": 7,
   "metadata": {},
   "outputs": [
    {
     "name": "stdout",
     "output_type": "stream",
     "text": [
      "K\n",
      "o\n",
      "d\n",
      "i\n",
      "n\n",
      "g\n",
      " \n",
      "A\n",
      "k\n",
      "a\n",
      "d\n",
      "e\n",
      "m\n",
      "i\n"
     ]
    }
   ],
   "source": [
    "s = \"Koding Akademi\"\n",
    "for i in s :\n",
    "\tprint(i)"
   ]
  },
  {
   "cell_type": "code",
   "execution_count": 21,
   "metadata": {},
   "outputs": [
    {
     "name": "stdout",
     "output_type": "stream",
     "text": [
      "1\n",
      "2\n",
      "3\n",
      "4\n",
      "5\n",
      "6\n"
     ]
    }
   ],
   "source": [
    "set1 = {1,2,3,4,5,6}\n",
    "for i in set1:\n",
    "\tprint(i)"
   ]
  },
  {
   "cell_type": "code",
   "execution_count": 22,
   "metadata": {},
   "outputs": [
    {
     "name": "stdout",
     "output_type": "stream",
     "text": [
      "0\n",
      "1\n",
      "2\n",
      "3\n",
      "4\n"
     ]
    }
   ],
   "source": [
    "for x in range(5):\n",
    "    print(x)"
   ]
  },
  {
   "cell_type": "code",
   "execution_count": 23,
   "metadata": {},
   "outputs": [
    {
     "name": "stdout",
     "output_type": "stream",
     "text": [
      "3\n",
      "4\n",
      "5\n"
     ]
    }
   ],
   "source": [
    "for x in range(3, 6):\n",
    "    print(x)"
   ]
  },
  {
   "cell_type": "code",
   "execution_count": 24,
   "metadata": {},
   "outputs": [
    {
     "name": "stdout",
     "output_type": "stream",
     "text": [
      "3\n",
      "5\n",
      "7\n"
     ]
    }
   ],
   "source": [
    "for x in range(3, 8, 2):\n",
    "    print(x)"
   ]
  },
  {
   "cell_type": "code",
   "execution_count": 26,
   "metadata": {},
   "outputs": [
    {
     "name": "stdout",
     "output_type": "stream",
     "text": [
      "Ulang lagi atau tidak? ya\n",
      "Ulang lagi atau tidak? ya\n",
      "Ulang lagi atau tidak? ya\n",
      "Ulang lagi atau tidak? ya\n",
      "Ulang lagi atau tidak? ua\n",
      "Program Selesai\n"
     ]
    }
   ],
   "source": [
    "jawab =\"ya\"\n",
    "while(jawab == 'ya'):\n",
    "     jawab = input(\"Ulang lagi atau tidak? \")\n",
    "print(\"Program Selesai\")"
   ]
  },
  {
   "cell_type": "code",
   "execution_count": 4,
   "metadata": {},
   "outputs": [
    {
     "name": "stdout",
     "output_type": "stream",
     "text": [
      "Ulang lagi atau tidak? ya\n",
      "Ulang lagi atau tidak? ya\n",
      "Ulang lagi atau tidak? dsad\n",
      "Ulang lagi atau tidak? sad\n",
      "Ulang lagi atau tidak? sa\n",
      "Ulang lagi atau tidak? dsa\n",
      "Ulang lagi atau tidak? dsa\n",
      "Ulang lagi atau tidak? das\n",
      "Ulang lagi atau tidak? d\n",
      "Ulang lagi atau tidak? asd\n",
      "Ulang lagi atau tidak? asd\n",
      "Ulang lagi atau tidak? a\n",
      "Ulang lagi atau tidak? tidak\n"
     ]
    }
   ],
   "source": [
    "while(True):\n",
    "     jawab = input(\"Ulang lagi atau tidak? \")\n",
    "     if jawab == 'tidak':\n",
    "          break"
   ]
  },
  {
   "cell_type": "code",
   "execution_count": 3,
   "metadata": {},
   "outputs": [
    {
     "name": "stdout",
     "output_type": "stream",
     "text": [
      "Hello Koding Akademi\n",
      "Hello Koding Akademi\n",
      "Hello Koding Akademi\n",
      "Hello Koding Akademi\n",
      "Hello Koding Akademi\n"
     ]
    }
   ],
   "source": [
    "count = 0\n",
    "while (count < 5):\n",
    "\tcount += 1\n",
    "\tprint(\"Hello Koding Akademi\")"
   ]
  },
  {
   "cell_type": "code",
   "execution_count": 6,
   "metadata": {},
   "outputs": [
    {
     "name": "stdout",
     "output_type": "stream",
     "text": [
      "1\n",
      "2\n",
      "3\n",
      "4\n",
      "5\n",
      "6\n",
      "7\n",
      "8\n",
      "9\n",
      "10\n"
     ]
    }
   ],
   "source": [
    "#assignment\n",
    "\n",
    "for i in range(1,11):\n",
    "    print(i)"
   ]
  },
  {
   "cell_type": "code",
   "execution_count": 11,
   "metadata": {},
   "outputs": [
    {
     "name": "stdout",
     "output_type": "stream",
     "text": [
      "0\n",
      "1\n",
      "2\n",
      "3\n",
      "4\n",
      "5\n",
      "6\n",
      "7\n",
      "8\n",
      "9\n",
      "kamu berhasil memenangkan permainan ini !!\n"
     ]
    }
   ],
   "source": [
    "score = 1\n",
    "\n",
    "\n",
    "for i in range(10): // i = 0\n",
    "    score += 1 // score = 0 + 1\n",
    "    print(i)\n",
    "    \n",
    "\n",
    "print(\"kamu berhasil memenangkan permainan ini !!\")\n",
    "\n"
   ]
  },
  {
   "cell_type": "code",
   "execution_count": 16,
   "metadata": {},
   "outputs": [
    {
     "name": "stdout",
     "output_type": "stream",
     "text": [
      "*****\n",
      "*****\n",
      "*****\n",
      "*****\n",
      "*****\n"
     ]
    }
   ],
   "source": [
    "#assignment 3\n",
    "\n",
    "for i in range(5):\n",
    "    for x in range(5):\n",
    "        print(\"*\", end=\"\")\n",
    "    print(\"\")"
   ]
  },
  {
   "cell_type": "code",
   "execution_count": 25,
   "metadata": {},
   "outputs": [
    {
     "name": "stdout",
     "output_type": "stream",
     "text": [
      "* * * * * \n",
      "* * * * * \n",
      "* * * * * \n",
      "* * * * * \n",
      "* * * * * \n"
     ]
    }
   ],
   "source": [
    "n = 5\n",
    "\n",
    "for i in range(n):\n",
    "    for j in range(n):\n",
    "        print(\"*\", end=\" \")\n",
    "    print(\"\")\n",
    "    "
   ]
  },
  {
   "cell_type": "code",
   "execution_count": 3,
   "metadata": {},
   "outputs": [
    {
     "name": "stdout",
     "output_type": "stream",
     "text": [
      "0\n",
      "*  \n",
      "1\n",
      "* *  \n",
      "2\n",
      "* * *  \n",
      "3\n",
      "* * * *  \n",
      "4\n",
      "* * * * *  \n"
     ]
    }
   ],
   "source": [
    "baris = 5\n",
    "\n",
    "for i in range(baris):\n",
    "    print(i)\n",
    "    for j in range(i+1):\n",
    "        print(\"* \", end=\"\")\n",
    "    print(\" \")"
   ]
  },
  {
   "cell_type": "code",
   "execution_count": 45,
   "metadata": {},
   "outputs": [
    {
     "name": "stdout",
     "output_type": "stream",
     "text": [
      "1\n",
      "22222\n",
      "1\n",
      "22222\n",
      "1\n",
      "22222\n",
      "1\n",
      "22222\n",
      "1\n",
      "22222\n"
     ]
    }
   ],
   "source": [
    "baris = 5\n",
    "\n",
    "\n",
    "for i in range(baris):\n",
    "    print(1)\n",
    "    for x in range(baris):\n",
    "        print(2, end=\"\")\n",
    "    print(\"\")\n",
    "        "
   ]
  },
  {
   "cell_type": "code",
   "execution_count": 5,
   "metadata": {},
   "outputs": [
    {
     "name": "stdout",
     "output_type": "stream",
     "text": [
      "Enter your number here: 20\n",
      "Enter your number here: 30\n",
      "Enter your number here: 40\n",
      "Enter your number here: 50\n",
      "Enter your number here: 60\n",
      "Hitung rata-rata =  40.0\n"
     ]
    }
   ],
   "source": [
    "#assignment\n",
    "\n",
    "total = 0\n",
    "k = 0\n",
    "\n",
    "while True:\n",
    "    x = float(input(\"Enter your number here: \"))\n",
    "    total += x \n",
    "    k += 1\n",
    "    \n",
    "    if k == 5:\n",
    "        break\n",
    "\n",
    "print(\"Hitung rata-rata = \",total / k)"
   ]
  },
  {
   "cell_type": "code",
   "execution_count": 19,
   "metadata": {},
   "outputs": [
    {
     "name": "stdout",
     "output_type": "stream",
     "text": [
      "masukkan angka = 1\n",
      "masukkan angka = 6\n",
      "masukkan angka = 7\n",
      "masukkan angka = 4\n",
      "masukkan angka = 2\n",
      "total jumlah bilangan genap =  8\n",
      "total jumlah bilangan ganjil =  12\n"
     ]
    }
   ],
   "source": [
    "genap = 0\n",
    "ganjil = 0\n",
    "maks = 0\n",
    "\n",
    "while True:\n",
    "    num = int(input(\"masukkan angka = \"))\n",
    "    \n",
    "    if num % 2 == 0:\n",
    "        ganjil += num\n",
    "    else:\n",
    "        genap += num\n",
    "    \n",
    "    maks += 1\n",
    "    \n",
    "    if maks == 5:\n",
    "        break\n",
    "\n",
    "print(\"total jumlah bilangan genap = \", genap)\n",
    "print(\"total jumlah bilangan ganjil = \", ganjil)"
   ]
  },
  {
   "cell_type": "code",
   "execution_count": null,
   "metadata": {},
   "outputs": [],
   "source": []
  }
 ],
 "metadata": {
  "colab": {
   "authorship_tag": "ABX9TyPOAZjJKz8mT/u0YmG2X8eO",
   "provenance": []
  },
  "kernelspec": {
   "display_name": "Python 3 (ipykernel)",
   "language": "python",
   "name": "python3"
  },
  "language_info": {
   "codemirror_mode": {
    "name": "ipython",
    "version": 3
   },
   "file_extension": ".py",
   "mimetype": "text/x-python",
   "name": "python",
   "nbconvert_exporter": "python",
   "pygments_lexer": "ipython3",
   "version": "3.9.13"
  }
 },
 "nbformat": 4,
 "nbformat_minor": 1
}
