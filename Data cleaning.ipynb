{
 "cells": [
  {
   "cell_type": "code",
   "execution_count": 102,
   "id": "82950ded",
   "metadata": {},
   "outputs": [
    {
     "name": "stdout",
     "output_type": "stream",
     "text": [
      "<class 'pandas.core.frame.DataFrame'>\n",
      "RangeIndex: 30 entries, 0 to 29\n",
      "Data columns (total 4 columns):\n",
      " #   Column         Non-Null Count  Dtype \n",
      "---  ------         --------------  ----- \n",
      " 0   wilayah        30 non-null     object\n",
      " 1   jenis_minuman  26 non-null     object\n",
      " 2   jumlah         26 non-null     object\n",
      " 3   volume;;;;     25 non-null     object\n",
      "dtypes: object(4)\n",
      "memory usage: 1.1+ KB\n",
      "None\n",
      "\n",
      "\n",
      "Index(['wilayah', 'jenis_minuman', 'jumlah', 'volume;;;;'], dtype='object')\n",
      "\n",
      "\n",
      "                                              wilayah     jenis_minuman  \\\n",
      "0                                Kecamatan Pademangan               Ciu   \n",
      "1                kabupatenPademangan Anggur Orang Tua               134   \n",
      "2                                Kecamatan Pademangan           Guinnes   \n",
      "3                                               f;;;;               NaN   \n",
      "4                                               h;;;;               NaN   \n",
      "5                                              ik;;;;               NaN   \n",
      "6                                Kecamatan Pademangan          Intisari   \n",
      "7                                      Kecamatan Koja  Anggur Orang Tua   \n",
      "8                                      Kecamatan Koja      Anggur Merah   \n",
      "9                                      Kecamatan Koja            Brandy   \n",
      "10                                     Kecamatan Koja           Mansion   \n",
      "11                                 ;;;;Kecamatan Koja          Rajawali   \n",
      "12                                 ;;;;Kecamatan Koja    Anggur Ginseng   \n",
      "13                                 ;;;;Kecamatan Koja             Vodka   \n",
      "14                                Kecamatan Cilincing      Anggur Merah   \n",
      "15                                Kecamatan Cilincing            Brandy   \n",
      "16                                Kecamatan Cilincing          Rajawali   \n",
      "17                                Kecamatan Cilincing     Kolesom Kecil   \n",
      "18                                Kecamatan Cilincing     Kolesom Besar   \n",
      "19                                Kecamatan Cilincing             Aseng   \n",
      "20                             KecamatanTanjung Priok            Brandy   \n",
      "21                             KecamatanTanjung Priok          Rajawali   \n",
      "22                             KecamatanTanjung Priok          Intisari   \n",
      "23                            Kecamatan Kelapa Gading           Guinnes   \n",
      "24                            Kecamatan Kelapa Gading           Bintang   \n",
      "25                            Kecamatan Kelapa Gading               Bir   \n",
      "26  Kecamatan Kelapa Gading:Anggur Merah:120:Botol...               NaN   \n",
      "27                            Kecamatan Kelapa Gading            Brandy   \n",
      "28                            Kecamatan Kelapa Gading             Vodka   \n",
      "29                            Kecamatan Kelapa Gading         Bir Hitam   \n",
      "\n",
      "       jumlah volume;;;;  \n",
      "0          19  Botol;;;;  \n",
      "1   Botol;;;;        NaN  \n",
      "2          12  Botol;;;;  \n",
      "3         NaN        NaN  \n",
      "4         NaN        NaN  \n",
      "5         NaN        NaN  \n",
      "6           9  Botol;;;;  \n",
      "7          13  Botol;;;;  \n",
      "8           2  Botol;;;;  \n",
      "9          60  Botol;;;;  \n",
      "10         23  Botol;;;;  \n",
      "11         55      Botol  \n",
      "12        132      Botol  \n",
      "13         20      Botol  \n",
      "14          9  Botol;;;;  \n",
      "15        181  Botol;;;;  \n",
      "16         26  Botol;;;;  \n",
      "17          9  Botol;;;;  \n",
      "18         10  Botol;;;;  \n",
      "19         41  Botol;;;;  \n",
      "20         60  Botol;;;;  \n",
      "21         45  Botol;;;;  \n",
      "22          3  Botol;;;;  \n",
      "23          5  Botol;;;;  \n",
      "24         42  Botol;;;;  \n",
      "25         66  Botol;;;;  \n",
      "26        NaN        NaN  \n",
      "27         60  Botol;;;;  \n",
      "28          4  Botol;;;;  \n",
      "29        119  Botol;;;;  \n"
     ]
    }
   ],
   "source": [
    "import pandas as pd\n",
    "from sklearn.preprocessing import MinMaxScaler\n",
    "\n",
    "url = './data/penertiban.csv'\n",
    "df = pd.read_csv(url)\n",
    "\n",
    "# Melihat informasi tentang dataset\n",
    "print(df.info())\n",
    "print('\\n')\n",
    "\n",
    "# Melihat semua data column\n",
    "print(df.columns)\n",
    "print('\\n')\n",
    "\n",
    "# Menampilkan semua dataset\n",
    "print(df)\n"
   ]
  },
  {
   "cell_type": "code",
   "execution_count": 103,
   "id": "95f89ef9",
   "metadata": {
    "scrolled": true
   },
   "outputs": [
    {
     "name": "stdout",
     "output_type": "stream",
     "text": [
      "                    wilayah     jenis_minuman jumlah volume;;;;\n",
      "0      Kecamatan Pademangan               Ciu     19  Botol;;;;\n",
      "2      Kecamatan Pademangan           Guinnes     12  Botol;;;;\n",
      "6      Kecamatan Pademangan          Intisari      9  Botol;;;;\n",
      "7            Kecamatan Koja  Anggur Orang Tua     13  Botol;;;;\n",
      "8            Kecamatan Koja      Anggur Merah      2  Botol;;;;\n",
      "9            Kecamatan Koja            Brandy     60  Botol;;;;\n",
      "10           Kecamatan Koja           Mansion     23  Botol;;;;\n",
      "11       ;;;;Kecamatan Koja          Rajawali     55      Botol\n",
      "12       ;;;;Kecamatan Koja    Anggur Ginseng    132      Botol\n",
      "13       ;;;;Kecamatan Koja             Vodka     20      Botol\n",
      "14      Kecamatan Cilincing      Anggur Merah      9  Botol;;;;\n",
      "15      Kecamatan Cilincing            Brandy    181  Botol;;;;\n",
      "16      Kecamatan Cilincing          Rajawali     26  Botol;;;;\n",
      "17      Kecamatan Cilincing     Kolesom Kecil      9  Botol;;;;\n",
      "18      Kecamatan Cilincing     Kolesom Besar     10  Botol;;;;\n",
      "19      Kecamatan Cilincing             Aseng     41  Botol;;;;\n",
      "20   KecamatanTanjung Priok            Brandy     60  Botol;;;;\n",
      "21   KecamatanTanjung Priok          Rajawali     45  Botol;;;;\n",
      "22   KecamatanTanjung Priok          Intisari      3  Botol;;;;\n",
      "23  Kecamatan Kelapa Gading           Guinnes      5  Botol;;;;\n",
      "24  Kecamatan Kelapa Gading           Bintang     42  Botol;;;;\n",
      "25  Kecamatan Kelapa Gading               Bir     66  Botol;;;;\n",
      "27  Kecamatan Kelapa Gading            Brandy     60  Botol;;;;\n",
      "28  Kecamatan Kelapa Gading             Vodka      4  Botol;;;;\n",
      "29  Kecamatan Kelapa Gading         Bir Hitam    119  Botol;;;;\n"
     ]
    }
   ],
   "source": [
    "# Membersihkan data dengan menghapus baris yang kosong\n",
    "\n",
    "df_cleaned = df.dropna()\n",
    "\n",
    "print(df_cleaned)"
   ]
  },
  {
   "cell_type": "code",
   "execution_count": 104,
   "id": "683c1892",
   "metadata": {},
   "outputs": [
    {
     "name": "stdout",
     "output_type": "stream",
     "text": [
      "                    wilayah     jenis_minuman jumlah     volume\n",
      "0      Kecamatan Pademangan               Ciu     19  Botol;;;;\n",
      "2      Kecamatan Pademangan           Guinnes     12  Botol;;;;\n",
      "6      Kecamatan Pademangan          Intisari      9  Botol;;;;\n",
      "7            Kecamatan Koja  Anggur Orang Tua     13  Botol;;;;\n",
      "8            Kecamatan Koja      Anggur Merah      2  Botol;;;;\n",
      "9            Kecamatan Koja            Brandy     60  Botol;;;;\n",
      "10           Kecamatan Koja           Mansion     23  Botol;;;;\n",
      "11       ;;;;Kecamatan Koja          Rajawali     55      Botol\n",
      "12       ;;;;Kecamatan Koja    Anggur Ginseng    132      Botol\n",
      "13       ;;;;Kecamatan Koja             Vodka     20      Botol\n",
      "14      Kecamatan Cilincing      Anggur Merah      9  Botol;;;;\n",
      "15      Kecamatan Cilincing            Brandy    181  Botol;;;;\n",
      "16      Kecamatan Cilincing          Rajawali     26  Botol;;;;\n",
      "17      Kecamatan Cilincing     Kolesom Kecil      9  Botol;;;;\n",
      "18      Kecamatan Cilincing     Kolesom Besar     10  Botol;;;;\n",
      "19      Kecamatan Cilincing             Aseng     41  Botol;;;;\n",
      "20   KecamatanTanjung Priok            Brandy     60  Botol;;;;\n",
      "21   KecamatanTanjung Priok          Rajawali     45  Botol;;;;\n",
      "22   KecamatanTanjung Priok          Intisari      3  Botol;;;;\n",
      "23  Kecamatan Kelapa Gading           Guinnes      5  Botol;;;;\n",
      "24  Kecamatan Kelapa Gading           Bintang     42  Botol;;;;\n",
      "25  Kecamatan Kelapa Gading               Bir     66  Botol;;;;\n",
      "27  Kecamatan Kelapa Gading            Brandy     60  Botol;;;;\n",
      "28  Kecamatan Kelapa Gading             Vodka      4  Botol;;;;\n",
      "29  Kecamatan Kelapa Gading         Bir Hitam    119  Botol;;;;\n"
     ]
    },
    {
     "name": "stderr",
     "output_type": "stream",
     "text": [
      "C:\\Users\\suniantara\\AppData\\Local\\Temp\\ipykernel_12300\\1631079032.py:2: SettingWithCopyWarning: \n",
      "A value is trying to be set on a copy of a slice from a DataFrame\n",
      "\n",
      "See the caveats in the documentation: https://pandas.pydata.org/pandas-docs/stable/user_guide/indexing.html#returning-a-view-versus-a-copy\n",
      "  df_cleaned.rename(columns=lambda x: x.strip(';'), inplace=True)\n"
     ]
    }
   ],
   "source": [
    "# Membersihkan data dengan menghapus karakter ';;;;' pada penamaan kolom 'volume'\n",
    "df_cleaned.rename(columns=lambda x: x.strip(';'), inplace=True)\n",
    "\n",
    "print(df_cleaned)"
   ]
  },
  {
   "cell_type": "code",
   "execution_count": 105,
   "id": "322b081d",
   "metadata": {},
   "outputs": [
    {
     "name": "stdout",
     "output_type": "stream",
     "text": [
      "                    wilayah     jenis_minuman jumlah     volume\n",
      "0      Kecamatan Pademangan               Ciu     19  Botol;;;;\n",
      "2      Kecamatan Pademangan           Guinnes     12  Botol;;;;\n",
      "6      Kecamatan Pademangan          Intisari      9  Botol;;;;\n",
      "7            Kecamatan Koja  Anggur Orang Tua     13  Botol;;;;\n",
      "8            Kecamatan Koja      Anggur Merah      2  Botol;;;;\n",
      "9            Kecamatan Koja            Brandy     60  Botol;;;;\n",
      "10           Kecamatan Koja           Mansion     23  Botol;;;;\n",
      "11           Kecamatan Koja          Rajawali     55      Botol\n",
      "12           Kecamatan Koja    Anggur Ginseng    132      Botol\n",
      "13           Kecamatan Koja             Vodka     20      Botol\n",
      "14      Kecamatan Cilincing      Anggur Merah      9  Botol;;;;\n",
      "15      Kecamatan Cilincing            Brandy    181  Botol;;;;\n",
      "16      Kecamatan Cilincing          Rajawali     26  Botol;;;;\n",
      "17      Kecamatan Cilincing     Kolesom Kecil      9  Botol;;;;\n",
      "18      Kecamatan Cilincing     Kolesom Besar     10  Botol;;;;\n",
      "19      Kecamatan Cilincing             Aseng     41  Botol;;;;\n",
      "20   KecamatanTanjung Priok            Brandy     60  Botol;;;;\n",
      "21   KecamatanTanjung Priok          Rajawali     45  Botol;;;;\n",
      "22   KecamatanTanjung Priok          Intisari      3  Botol;;;;\n",
      "23  Kecamatan Kelapa Gading           Guinnes      5  Botol;;;;\n",
      "24  Kecamatan Kelapa Gading           Bintang     42  Botol;;;;\n",
      "25  Kecamatan Kelapa Gading               Bir     66  Botol;;;;\n",
      "27  Kecamatan Kelapa Gading            Brandy     60  Botol;;;;\n",
      "28  Kecamatan Kelapa Gading             Vodka      4  Botol;;;;\n",
      "29  Kecamatan Kelapa Gading         Bir Hitam    119  Botol;;;;\n"
     ]
    },
    {
     "name": "stderr",
     "output_type": "stream",
     "text": [
      "C:\\Users\\suniantara\\AppData\\Local\\Temp\\ipykernel_12300\\817185271.py:3: SettingWithCopyWarning: \n",
      "A value is trying to be set on a copy of a slice from a DataFrame.\n",
      "Try using .loc[row_indexer,col_indexer] = value instead\n",
      "\n",
      "See the caveats in the documentation: https://pandas.pydata.org/pandas-docs/stable/user_guide/indexing.html#returning-a-view-versus-a-copy\n",
      "  df_cleaned['wilayah'] = df_cleaned['wilayah'].str.replace(';','').str.strip()\n"
     ]
    }
   ],
   "source": [
    "# Membersihkan data dengan menghapus karakter ';;;;' pada kolom 'wilayah'\n",
    "\n",
    "df_cleaned['wilayah'] = df_cleaned['wilayah'].str.replace(';','').str.strip()\n",
    "\n",
    "print(df_cleaned)"
   ]
  },
  {
   "cell_type": "code",
   "execution_count": 106,
   "id": "a03b6625",
   "metadata": {},
   "outputs": [
    {
     "name": "stdout",
     "output_type": "stream",
     "text": [
      "                    wilayah     jenis_minuman jumlah volume\n",
      "0      Kecamatan Pademangan               Ciu     19  Botol\n",
      "2      Kecamatan Pademangan           Guinnes     12  Botol\n",
      "6      Kecamatan Pademangan          Intisari      9  Botol\n",
      "7            Kecamatan Koja  Anggur Orang Tua     13  Botol\n",
      "8            Kecamatan Koja      Anggur Merah      2  Botol\n",
      "9            Kecamatan Koja            Brandy     60  Botol\n",
      "10           Kecamatan Koja           Mansion     23  Botol\n",
      "11           Kecamatan Koja          Rajawali     55  Botol\n",
      "12           Kecamatan Koja    Anggur Ginseng    132  Botol\n",
      "13           Kecamatan Koja             Vodka     20  Botol\n",
      "14      Kecamatan Cilincing      Anggur Merah      9  Botol\n",
      "15      Kecamatan Cilincing            Brandy    181  Botol\n",
      "16      Kecamatan Cilincing          Rajawali     26  Botol\n",
      "17      Kecamatan Cilincing     Kolesom Kecil      9  Botol\n",
      "18      Kecamatan Cilincing     Kolesom Besar     10  Botol\n",
      "19      Kecamatan Cilincing             Aseng     41  Botol\n",
      "20   KecamatanTanjung Priok            Brandy     60  Botol\n",
      "21   KecamatanTanjung Priok          Rajawali     45  Botol\n",
      "22   KecamatanTanjung Priok          Intisari      3  Botol\n",
      "23  Kecamatan Kelapa Gading           Guinnes      5  Botol\n",
      "24  Kecamatan Kelapa Gading           Bintang     42  Botol\n",
      "25  Kecamatan Kelapa Gading               Bir     66  Botol\n",
      "27  Kecamatan Kelapa Gading            Brandy     60  Botol\n",
      "28  Kecamatan Kelapa Gading             Vodka      4  Botol\n",
      "29  Kecamatan Kelapa Gading         Bir Hitam    119  Botol\n"
     ]
    },
    {
     "name": "stderr",
     "output_type": "stream",
     "text": [
      "C:\\Users\\suniantara\\AppData\\Local\\Temp\\ipykernel_12300\\3999976898.py:3: SettingWithCopyWarning: \n",
      "A value is trying to be set on a copy of a slice from a DataFrame.\n",
      "Try using .loc[row_indexer,col_indexer] = value instead\n",
      "\n",
      "See the caveats in the documentation: https://pandas.pydata.org/pandas-docs/stable/user_guide/indexing.html#returning-a-view-versus-a-copy\n",
      "  df_cleaned['volume'] = df_cleaned['volume'].str.replace(';','').str.strip()\n"
     ]
    }
   ],
   "source": [
    "# Membersihkan data dengan menghapus karakter ';;;;' pada kolom 'volume'\n",
    "\n",
    "df_cleaned['volume'] = df_cleaned['volume'].str.replace(';','').str.strip()\n",
    "\n",
    "print(df_cleaned)"
   ]
  },
  {
   "cell_type": "code",
   "execution_count": 107,
   "id": "9ec9f793",
   "metadata": {},
   "outputs": [
    {
     "name": "stdout",
     "output_type": "stream",
     "text": [
      "                    wilayah     jenis_minuman jumlah volume\n",
      "0      Kecamatan Pademangan               Ciu     19  Botol\n",
      "2      Kecamatan Pademangan           Guinnes     12  Botol\n",
      "6      Kecamatan Pademangan          Intisari      9  Botol\n",
      "7            Kecamatan Koja  Anggur Orang Tua     13  Botol\n",
      "8            Kecamatan Koja      Anggur Merah      2  Botol\n",
      "9            Kecamatan Koja            Brandy     60  Botol\n",
      "10           Kecamatan Koja           Mansion     23  Botol\n",
      "11           Kecamatan Koja          Rajawali     55  Botol\n",
      "12           Kecamatan Koja    Anggur Ginseng    132  Botol\n",
      "13           Kecamatan Koja             Vodka     20  Botol\n",
      "14      Kecamatan Cilincing      Anggur Merah      9  Botol\n",
      "15      Kecamatan Cilincing            Brandy    181  Botol\n",
      "16      Kecamatan Cilincing          Rajawali     26  Botol\n",
      "17      Kecamatan Cilincing     Kolesom Kecil      9  Botol\n",
      "18      Kecamatan Cilincing     Kolesom Besar     10  Botol\n",
      "19      Kecamatan Cilincing             Aseng     41  Botol\n",
      "20  Kecamatan Tanjung Priok            Brandy     60  Botol\n",
      "21  Kecamatan Tanjung Priok          Rajawali     45  Botol\n",
      "22  Kecamatan Tanjung Priok          Intisari      3  Botol\n",
      "23  Kecamatan Kelapa Gading           Guinnes      5  Botol\n",
      "24  Kecamatan Kelapa Gading           Bintang     42  Botol\n",
      "25  Kecamatan Kelapa Gading               Bir     66  Botol\n",
      "27  Kecamatan Kelapa Gading            Brandy     60  Botol\n",
      "28  Kecamatan Kelapa Gading             Vodka      4  Botol\n",
      "29  Kecamatan Kelapa Gading         Bir Hitam    119  Botol\n"
     ]
    },
    {
     "name": "stderr",
     "output_type": "stream",
     "text": [
      "C:\\Users\\suniantara\\AppData\\Local\\Temp\\ipykernel_12300\\1163323569.py:3: SettingWithCopyWarning: \n",
      "A value is trying to be set on a copy of a slice from a DataFrame.\n",
      "Try using .loc[row_indexer,col_indexer] = value instead\n",
      "\n",
      "See the caveats in the documentation: https://pandas.pydata.org/pandas-docs/stable/user_guide/indexing.html#returning-a-view-versus-a-copy\n",
      "  df_cleaned['wilayah'] = df_cleaned['wilayah'].str.replace('KecamatanTanjung Priok', 'Kecamatan Tanjung Priok')\n"
     ]
    }
   ],
   "source": [
    "# Mengganti nilai 'KecamatanTanjung Priok' menjadi 'Kecamatan Tanjung Priok' pada kolom 'wilayah'\n",
    "\n",
    "df_cleaned['wilayah'] = df_cleaned['wilayah'].str.replace('KecamatanTanjung Priok', 'Kecamatan Tanjung Priok')\n",
    "\n",
    "print(df_cleaned)"
   ]
  },
  {
   "cell_type": "code",
   "execution_count": 108,
   "id": "0870e31a",
   "metadata": {},
   "outputs": [
    {
     "name": "stdout",
     "output_type": "stream",
     "text": [
      "                    wilayah     jenis_minuman jumlah volume\n",
      "0      Kecamatan Pademangan               Ciu     19  Botol\n",
      "2      Kecamatan Pademangan           Guinnes     12  Botol\n",
      "6      Kecamatan Pademangan          Intisari      9  Botol\n",
      "7            Kecamatan Koja  Anggur Orang Tua     13  Botol\n",
      "8            Kecamatan Koja      Anggur Merah      2  Botol\n",
      "9            Kecamatan Koja            Brandy     60  Botol\n",
      "10           Kecamatan Koja           Mansion     23  Botol\n",
      "11           Kecamatan Koja          Rajawali     55  Botol\n",
      "12           Kecamatan Koja    Anggur Ginseng    132  Botol\n",
      "13           Kecamatan Koja             Vodka     20  Botol\n",
      "14      Kecamatan Cilincing      Anggur Merah      9  Botol\n",
      "15      Kecamatan Cilincing            Brandy    181  Botol\n",
      "16      Kecamatan Cilincing          Rajawali     26  Botol\n",
      "17      Kecamatan Cilincing     Kolesom Kecil      9  Botol\n",
      "18      Kecamatan Cilincing     Kolesom Besar     10  Botol\n",
      "19      Kecamatan Cilincing             Aseng     41  Botol\n",
      "20  Kecamatan Tanjung Priok            Brandy     60  Botol\n",
      "21  Kecamatan Tanjung Priok          Rajawali     45  Botol\n",
      "22  Kecamatan Tanjung Priok          Intisari      3  Botol\n",
      "23  Kecamatan Kelapa Gading           Guinnes      5  Botol\n",
      "24  Kecamatan Kelapa Gading           Bintang     42  Botol\n",
      "25  Kecamatan Kelapa Gading               Bir     66  Botol\n",
      "27  Kecamatan Kelapa Gading            Brandy     60  Botol\n",
      "28  Kecamatan Kelapa Gading             Vodka      4  Botol\n",
      "29  Kecamatan Kelapa Gading         Bir Hitam    119  Botol\n"
     ]
    }
   ],
   "source": [
    "# Menghapus duplikat\n",
    "\n",
    "df_hasil = df_cleaned.drop_duplicates()\n",
    "\n",
    "print(df_hasil)"
   ]
  },
  {
   "cell_type": "code",
   "execution_count": 109,
   "id": "03c1e1b0",
   "metadata": {},
   "outputs": [
    {
     "name": "stdout",
     "output_type": "stream",
     "text": [
      "<class 'pandas.core.frame.DataFrame'>\n",
      "Int64Index: 25 entries, 0 to 29\n",
      "Data columns (total 4 columns):\n",
      " #   Column         Non-Null Count  Dtype \n",
      "---  ------         --------------  ----- \n",
      " 0   wilayah        25 non-null     object\n",
      " 1   jenis_minuman  25 non-null     object\n",
      " 2   jumlah         25 non-null     int64 \n",
      " 3   volume         25 non-null     object\n",
      "dtypes: int64(1), object(3)\n",
      "memory usage: 1000.0+ bytes\n"
     ]
    }
   ],
   "source": [
    "# Mengubah tipe data kolom 'jumlah' menjadi numerik\n",
    "\n",
    "df_hasil['jumlah'] = pd.to_numeric(df_hasil['jumlah'])\n",
    "\n",
    "df_hasil.info()"
   ]
  },
  {
   "cell_type": "code",
   "execution_count": 110,
   "id": "b6110f86",
   "metadata": {},
   "outputs": [
    {
     "name": "stdout",
     "output_type": "stream",
     "text": [
      "                    wilayah     jenis_minuman  jumlah volume  \\\n",
      "0      Kecamatan Pademangan               Ciu      19  Botol   \n",
      "2      Kecamatan Pademangan           Guinnes      12  Botol   \n",
      "6      Kecamatan Pademangan          Intisari       9  Botol   \n",
      "7            Kecamatan Koja  Anggur Orang Tua      13  Botol   \n",
      "8            Kecamatan Koja      Anggur Merah       2  Botol   \n",
      "9            Kecamatan Koja            Brandy      60  Botol   \n",
      "10           Kecamatan Koja           Mansion      23  Botol   \n",
      "11           Kecamatan Koja          Rajawali      55  Botol   \n",
      "12           Kecamatan Koja    Anggur Ginseng     132  Botol   \n",
      "13           Kecamatan Koja             Vodka      20  Botol   \n",
      "14      Kecamatan Cilincing      Anggur Merah       9  Botol   \n",
      "15      Kecamatan Cilincing            Brandy     181  Botol   \n",
      "16      Kecamatan Cilincing          Rajawali      26  Botol   \n",
      "17      Kecamatan Cilincing     Kolesom Kecil       9  Botol   \n",
      "18      Kecamatan Cilincing     Kolesom Besar      10  Botol   \n",
      "19      Kecamatan Cilincing             Aseng      41  Botol   \n",
      "20  Kecamatan Tanjung Priok            Brandy      60  Botol   \n",
      "21  Kecamatan Tanjung Priok          Rajawali      45  Botol   \n",
      "22  Kecamatan Tanjung Priok          Intisari       3  Botol   \n",
      "23  Kecamatan Kelapa Gading           Guinnes       5  Botol   \n",
      "24  Kecamatan Kelapa Gading           Bintang      42  Botol   \n",
      "25  Kecamatan Kelapa Gading               Bir      66  Botol   \n",
      "27  Kecamatan Kelapa Gading            Brandy      60  Botol   \n",
      "28  Kecamatan Kelapa Gading             Vodka       4  Botol   \n",
      "29  Kecamatan Kelapa Gading         Bir Hitam     119  Botol   \n",
      "\n",
      "    normalisasi_jumlah  \n",
      "0             0.094972  \n",
      "2             0.055866  \n",
      "6             0.039106  \n",
      "7             0.061453  \n",
      "8             0.000000  \n",
      "9             0.324022  \n",
      "10            0.117318  \n",
      "11            0.296089  \n",
      "12            0.726257  \n",
      "13            0.100559  \n",
      "14            0.039106  \n",
      "15            1.000000  \n",
      "16            0.134078  \n",
      "17            0.039106  \n",
      "18            0.044693  \n",
      "19            0.217877  \n",
      "20            0.324022  \n",
      "21            0.240223  \n",
      "22            0.005587  \n",
      "23            0.016760  \n",
      "24            0.223464  \n",
      "25            0.357542  \n",
      "27            0.324022  \n",
      "28            0.011173  \n",
      "29            0.653631  \n"
     ]
    }
   ],
   "source": [
    "# Normalisasi Data\n",
    "# normalisasi kolom 'jumlah' ke range 0-1\n",
    "\n",
    "scaler = MinMaxScaler()\n",
    "df_hasil['normalisasi_jumlah'] = scaler.fit_transform(df_hasil[['jumlah']])\n",
    "\n",
    "print(df_hasil)"
   ]
  },
  {
   "cell_type": "code",
   "execution_count": 112,
   "id": "12611a89",
   "metadata": {},
   "outputs": [
    {
     "name": "stdout",
     "output_type": "stream",
     "text": [
      "                wilayah jenis_minuman  jumlah volume  normalisasi_jumlah\n",
      "15  Kecamatan Cilincing        Brandy     181  Botol                 1.0\n"
     ]
    }
   ],
   "source": [
    "# Deteksi dan Penanganan Outliers\n",
    "# Mendeteksi outliers menggunakan metode IQR (Interquartile Range)\n",
    "\n",
    "Q1 = df_hasil['jumlah'].quantile(0.25)\n",
    "Q3 = df_hasil['jumlah'].quantile(0.75)\n",
    "IQR = Q3 - Q1\n",
    "\n",
    "outliers_mask = (df_hasil['jumlah'] < Q1 - 1.5 * IQR) | (df_hasil['jumlah'] > Q3 + 1.5 * IQR)\n",
    "\n",
    "# Mengambil baris-baris yang merupakan outliers\n",
    "\n",
    "print(df_hasil[outliers_mask])"
   ]
  },
  {
   "cell_type": "code",
   "execution_count": 113,
   "id": "2de607c4",
   "metadata": {},
   "outputs": [
    {
     "name": "stdout",
     "output_type": "stream",
     "text": [
      "                    wilayah     jenis_minuman  jumlah volume  \\\n",
      "0      Kecamatan Pademangan               Ciu      19  Botol   \n",
      "2      Kecamatan Pademangan           Guinnes      12  Botol   \n",
      "6      Kecamatan Pademangan          Intisari       9  Botol   \n",
      "7            Kecamatan Koja  Anggur Orang Tua      13  Botol   \n",
      "8            Kecamatan Koja      Anggur Merah       2  Botol   \n",
      "9            Kecamatan Koja            Brandy      60  Botol   \n",
      "10           Kecamatan Koja           Mansion      23  Botol   \n",
      "11           Kecamatan Koja          Rajawali      55  Botol   \n",
      "12           Kecamatan Koja    Anggur Ginseng     132  Botol   \n",
      "13           Kecamatan Koja             Vodka      20  Botol   \n",
      "14      Kecamatan Cilincing      Anggur Merah       9  Botol   \n",
      "16      Kecamatan Cilincing          Rajawali      26  Botol   \n",
      "17      Kecamatan Cilincing     Kolesom Kecil       9  Botol   \n",
      "18      Kecamatan Cilincing     Kolesom Besar      10  Botol   \n",
      "19      Kecamatan Cilincing             Aseng      41  Botol   \n",
      "20  Kecamatan Tanjung Priok            Brandy      60  Botol   \n",
      "21  Kecamatan Tanjung Priok          Rajawali      45  Botol   \n",
      "22  Kecamatan Tanjung Priok          Intisari       3  Botol   \n",
      "23  Kecamatan Kelapa Gading           Guinnes       5  Botol   \n",
      "24  Kecamatan Kelapa Gading           Bintang      42  Botol   \n",
      "25  Kecamatan Kelapa Gading               Bir      66  Botol   \n",
      "27  Kecamatan Kelapa Gading            Brandy      60  Botol   \n",
      "28  Kecamatan Kelapa Gading             Vodka       4  Botol   \n",
      "29  Kecamatan Kelapa Gading         Bir Hitam     119  Botol   \n",
      "\n",
      "    normalisasi_jumlah  \n",
      "0             0.094972  \n",
      "2             0.055866  \n",
      "6             0.039106  \n",
      "7             0.061453  \n",
      "8             0.000000  \n",
      "9             0.324022  \n",
      "10            0.117318  \n",
      "11            0.296089  \n",
      "12            0.726257  \n",
      "13            0.100559  \n",
      "14            0.039106  \n",
      "16            0.134078  \n",
      "17            0.039106  \n",
      "18            0.044693  \n",
      "19            0.217877  \n",
      "20            0.324022  \n",
      "21            0.240223  \n",
      "22            0.005587  \n",
      "23            0.016760  \n",
      "24            0.223464  \n",
      "25            0.357542  \n",
      "27            0.324022  \n",
      "28            0.011173  \n",
      "29            0.653631  \n"
     ]
    }
   ],
   "source": [
    "# Menghapus outliers\n",
    "\n",
    "df_hasil_bersih = df_hasil[~outliers_mask]\n",
    "\n",
    "print(df_hasil_bersih)"
   ]
  },
  {
   "cell_type": "code",
   "execution_count": null,
   "id": "0184b33e",
   "metadata": {},
   "outputs": [],
   "source": []
  }
 ],
 "metadata": {
  "kernelspec": {
   "display_name": "Python 3 (ipykernel)",
   "language": "python",
   "name": "python3"
  },
  "language_info": {
   "codemirror_mode": {
    "name": "ipython",
    "version": 3
   },
   "file_extension": ".py",
   "mimetype": "text/x-python",
   "name": "python",
   "nbconvert_exporter": "python",
   "pygments_lexer": "ipython3",
   "version": "3.9.13"
  }
 },
 "nbformat": 4,
 "nbformat_minor": 5
}
