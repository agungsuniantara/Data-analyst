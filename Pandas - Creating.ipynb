{
 "cells": [
  {
   "cell_type": "code",
   "execution_count": 2,
   "id": "75aecf96",
   "metadata": {},
   "outputs": [
    {
     "name": "stdout",
     "output_type": "stream",
     "text": [
      "0            scratch\n",
      "1             roblox\n",
      "2              unity\n",
      "3    web programming\n",
      "4               java\n",
      "5             python\n",
      "dtype: object\n"
     ]
    }
   ],
   "source": [
    "import pandas as pd\n",
    "import numpy as np\n",
    "data = np.array(['scratch','roblox','unity','web programming','java','python'])\n",
    "series = pd.Series(data)\n",
    "\n",
    "print(series)"
   ]
  },
  {
   "cell_type": "code",
   "execution_count": 4,
   "id": "a38f5121",
   "metadata": {},
   "outputs": [
    {
     "name": "stdout",
     "output_type": "stream",
     "text": [
      "10            scratch\n",
      "11             roblox\n",
      "12              unity\n",
      "13    web programming\n",
      "14               java\n",
      "15             python\n",
      "dtype: object\n"
     ]
    }
   ],
   "source": [
    "import pandas as pd\n",
    "import numpy as np\n",
    "data = np.array(['scratch','roblox','unity','web programming','java','python'])\n",
    "series = pd.Series(data, index= [10, 11, 12, 13, 14, 15])\n",
    "\n",
    "print(series)"
   ]
  },
  {
   "cell_type": "code",
   "execution_count": 35,
   "id": "61f51e59",
   "metadata": {},
   "outputs": [
    {
     "name": "stdout",
     "output_type": "stream",
     "text": [
      "0            scratch\n",
      "1             roblox\n",
      "2              unity\n",
      "3    web programming\n",
      "4               java\n",
      "5             python\n",
      "dtype: object\n"
     ]
    }
   ],
   "source": [
    "import pandas as pd\n",
    "data = ['scratch','roblox','unity','web programming','java','python']\n",
    "series = pd.Series(data)\n",
    "\n",
    "print(series)"
   ]
  },
  {
   "cell_type": "code",
   "execution_count": 7,
   "id": "ae343908",
   "metadata": {},
   "outputs": [
    {
     "name": "stdout",
     "output_type": "stream",
     "text": [
      "koding      90\n",
      "akademi    100\n",
      "dtype: int64\n"
     ]
    }
   ],
   "source": [
    "import pandas as pd\n",
    "data = {\n",
    "    \"koding\" : 90,\n",
    "    \"akademi\" : 100\n",
    "}\n",
    "series = pd.Series(data)\n",
    "\n",
    "print(series)"
   ]
  },
  {
   "cell_type": "code",
   "execution_count": 8,
   "id": "8c8f10fd",
   "metadata": {},
   "outputs": [
    {
     "name": "stdout",
     "output_type": "stream",
     "text": [
      "11    99\n",
      "12    99\n",
      "13    99\n",
      "14    99\n",
      "15    99\n",
      "dtype: int64\n"
     ]
    }
   ],
   "source": [
    "import pandas as pd\n",
    "series = pd.Series(99, index=[11, 12, 13, 14, 15])\n",
    "\n",
    "print(series)"
   ]
  },
  {
   "cell_type": "code",
   "execution_count": 13,
   "id": "f0d51e18",
   "metadata": {},
   "outputs": [
    {
     "name": "stdout",
     "output_type": "stream",
     "text": [
      "0            scratch\n",
      "1             roblox\n",
      "2              unity\n",
      "3    web programming\n",
      "4               java\n",
      "5             python\n",
      "6                 10\n",
      "dtype: object\n"
     ]
    },
    {
     "data": {
      "text/plain": [
       "('scratch', 'roblox', 'unity', 'web programming', 'java', 'python', '10')"
      ]
     },
     "execution_count": 13,
     "metadata": {},
     "output_type": "execute_result"
    }
   ],
   "source": [
    "import pandas as pd\n",
    "import numpy as np\n",
    "data = np.array(['scratch','roblox','unity','web programming','java','python',10])\n",
    "series = pd.Series(data)\n",
    "series[0], series[1], series[2], series[3], series[4], series[5]"
   ]
  },
  {
   "cell_type": "code",
   "execution_count": 14,
   "id": "8bb3ef7a",
   "metadata": {},
   "outputs": [
    {
     "data": {
      "text/plain": [
       "3    web programming\n",
       "4               java\n",
       "5             python\n",
       "dtype: object"
      ]
     },
     "execution_count": 14,
     "metadata": {},
     "output_type": "execute_result"
    }
   ],
   "source": [
    "import pandas as pd\n",
    "import numpy as np\n",
    "data = np.array(['scratch','roblox','unity','web programming','java','python'])\n",
    "series = pd.Series(data)\n",
    "series[3:]\n"
   ]
  },
  {
   "cell_type": "code",
   "execution_count": 16,
   "id": "7356e895",
   "metadata": {},
   "outputs": [
    {
     "data": {
      "text/plain": [
       "'scratch'"
      ]
     },
     "execution_count": 16,
     "metadata": {},
     "output_type": "execute_result"
    }
   ],
   "source": [
    "import pandas as pd\n",
    "import numpy as np\n",
    "data = np.array(['scratch','roblox','unity','web programming','java','python'])\n",
    "series = pd.Series(data, index=['monday', 'tuesday','wednesday','thursday','friday','saturday'])\n",
    "\n",
    "series['monday']"
   ]
  },
  {
   "cell_type": "code",
   "execution_count": 23,
   "id": "a0a7988c",
   "metadata": {},
   "outputs": [
    {
     "data": {
      "text/plain": [
       "1    roblox\n",
       "2     unity\n",
       "dtype: object"
      ]
     },
     "execution_count": 23,
     "metadata": {},
     "output_type": "execute_result"
    }
   ],
   "source": [
    "import pandas as pd\n",
    "import numpy as np\n",
    "data = np.array(['scratch','roblox','unity','web programming','java','python'])\n",
    "series = pd.Series(data)\n",
    "series[1:3]"
   ]
  },
  {
   "cell_type": "code",
   "execution_count": 30,
   "id": "e3caa00b",
   "metadata": {},
   "outputs": [
    {
     "data": {
      "text/plain": [
       "monday       scratch\n",
       "tuesday       roblox\n",
       "wednesday      unity\n",
       "dtype: object"
      ]
     },
     "execution_count": 30,
     "metadata": {},
     "output_type": "execute_result"
    }
   ],
   "source": [
    "import pandas as pd\n",
    "import numpy as np\n",
    "data = np.array(['scratch','roblox','unity','web programming','java','python'])\n",
    "series = pd.Series(data, index=['monday', 'tuesday','wednesday','thursday','friday','saturday'])\n",
    "series.loc['monday':'wednesday']"
   ]
  },
  {
   "cell_type": "code",
   "execution_count": 29,
   "id": "d38b8e25",
   "metadata": {},
   "outputs": [
    {
     "data": {
      "text/plain": [
       "0    scratch\n",
       "1     roblox\n",
       "2      unity\n",
       "dtype: object"
      ]
     },
     "execution_count": 29,
     "metadata": {},
     "output_type": "execute_result"
    }
   ],
   "source": [
    "import pandas as pd\n",
    "data = ['scratch','roblox','unity','web programming','java','python']\n",
    "series = pd.Series(data)\n",
    "series.iloc[0:3]"
   ]
  },
  {
   "cell_type": "code",
   "execution_count": 33,
   "id": "3afbe064",
   "metadata": {},
   "outputs": [
    {
     "data": {
      "text/plain": [
       "1       Januari\n",
       "2      Februari\n",
       "3         Maret\n",
       "4         April\n",
       "5           Mei\n",
       "6          Juni\n",
       "7          Juli\n",
       "8       Agustus\n",
       "9     September\n",
       "10      Oktober\n",
       "11     November\n",
       "12     Desember\n",
       "dtype: object"
      ]
     },
     "execution_count": 33,
     "metadata": {},
     "output_type": "execute_result"
    }
   ],
   "source": [
    "#assignment\n",
    "\n",
    "import pandas as pd\n",
    "\n",
    "data = ['Januari', 'Februari', 'Maret', 'April', 'Mei', 'Juni', 'Juli', 'Agustus', 'September', 'Oktober', 'November', 'Desember']\n",
    "\n",
    "tampil = pd.Series(data, index = ['1','2','3','4','5','6','7','8','9','10','11','12'])\n",
    "\n",
    "tampil.loc['1' : '12']"
   ]
  },
  {
   "cell_type": "code",
   "execution_count": 34,
   "id": "11c91865",
   "metadata": {},
   "outputs": [
    {
     "data": {
      "text/plain": [
       "1       Januari\n",
       "2      Februari\n",
       "3         Maret\n",
       "4         April\n",
       "5           Mei\n",
       "6          Juni\n",
       "7          Juli\n",
       "8       Agustus\n",
       "9     September\n",
       "10      Oktober\n",
       "11     November\n",
       "12     Desember\n",
       "dtype: object"
      ]
     },
     "execution_count": 34,
     "metadata": {},
     "output_type": "execute_result"
    }
   ],
   "source": [
    "#assignment\n",
    "\n",
    "import pandas as pd\n",
    "\n",
    "data = ['Januari', 'Februari', 'Maret', 'April', 'Mei', 'Juni', 'Juli', 'Agustus', 'September', 'Oktober', 'November', 'Desember']\n",
    "\n",
    "tampil = pd.Series(data, index = ['1','2','3','4','5','6','7','8','9','10','11','12'])\n",
    "\n",
    "tampil.iloc[0 : 13]"
   ]
  },
  {
   "cell_type": "code",
   "execution_count": 30,
   "id": "232d8639",
   "metadata": {},
   "outputs": [
    {
     "data": {
      "text/plain": [
       "1       Januari\n",
       "2      Februari\n",
       "3         Maret\n",
       "4         April\n",
       "5           Mei\n",
       "6          Juni\n",
       "7          Juli\n",
       "8       Agustus\n",
       "9     September\n",
       "10      Oktober\n",
       "11     November\n",
       "12     Desember\n",
       "dtype: object"
      ]
     },
     "execution_count": 30,
     "metadata": {},
     "output_type": "execute_result"
    }
   ],
   "source": [
    "#assignment\n",
    "\n",
    "import pandas as pd\n",
    "\n",
    "data = ['Januari', 'Februari', 'Maret', 'April', 'Mei', 'Juni', 'Juli', 'Agustus', 'September', 'Oktober', 'November', 'Desember']\n",
    "\n",
    "tampil = pd.Series(data, index = ['1','2','3','4','5','6','7','8','9','10','11','12'])\n",
    "\n",
    "tampil.iloc[0:]"
   ]
  },
  {
   "cell_type": "code",
   "execution_count": 11,
   "id": "69bc27ff",
   "metadata": {},
   "outputs": [
    {
     "name": "stdout",
     "output_type": "stream",
     "text": [
      "49    a\n",
      "48    b\n",
      "47    c\n",
      "10    d\n",
      "1     e\n",
      "2     f\n",
      "dtype: object\n"
     ]
    }
   ],
   "source": [
    "import pandas as pd\n",
    "\n",
    "s = pd.Series(list(\"abcdef\"), index=[49, 48, 47, 10, 1, 2])\n",
    "print(s)"
   ]
  },
  {
   "cell_type": "code",
   "execution_count": 13,
   "id": "34ed7c98",
   "metadata": {},
   "outputs": [
    {
     "data": {
      "text/plain": [
       "'d'"
      ]
     },
     "execution_count": 13,
     "metadata": {},
     "output_type": "execute_result"
    }
   ],
   "source": [
    "s.loc[10]"
   ]
  },
  {
   "cell_type": "code",
   "execution_count": 14,
   "id": "50d35e38",
   "metadata": {},
   "outputs": [
    {
     "data": {
      "text/plain": [
       "'a'"
      ]
     },
     "execution_count": 14,
     "metadata": {},
     "output_type": "execute_result"
    }
   ],
   "source": [
    "s.iloc[0]"
   ]
  },
  {
   "cell_type": "code",
   "execution_count": 16,
   "id": "cda49dbd",
   "metadata": {},
   "outputs": [
    {
     "data": {
      "text/plain": [
       "10    d\n",
       "1     e\n",
       "dtype: object"
      ]
     },
     "execution_count": 16,
     "metadata": {},
     "output_type": "execute_result"
    }
   ],
   "source": [
    "s.loc[10:1]"
   ]
  },
  {
   "cell_type": "code",
   "execution_count": 17,
   "id": "da082a50",
   "metadata": {},
   "outputs": [
    {
     "data": {
      "text/plain": [
       "49    a\n",
       "dtype: object"
      ]
     },
     "execution_count": 17,
     "metadata": {},
     "output_type": "execute_result"
    }
   ],
   "source": [
    "s.iloc[0:1]"
   ]
  },
  {
   "cell_type": "code",
   "execution_count": 32,
   "id": "c3d1a391",
   "metadata": {},
   "outputs": [
    {
     "name": "stdout",
     "output_type": "stream",
     "text": [
      "hasil =  200\n",
      "hasil =  20000\n"
     ]
    }
   ],
   "source": [
    "def penjumlahan(angka1,angka2):\n",
    "    hasil = angka1 + angka2\n",
    "    print(\"hasil = \",hasil)\n"
   ]
  },
  {
   "cell_type": "code",
   "execution_count": null,
   "id": "fc2b3378",
   "metadata": {},
   "outputs": [],
   "source": []
  }
 ],
 "metadata": {
  "kernelspec": {
   "display_name": "Python 3 (ipykernel)",
   "language": "python",
   "name": "python3"
  },
  "language_info": {
   "codemirror_mode": {
    "name": "ipython",
    "version": 3
   },
   "file_extension": ".py",
   "mimetype": "text/x-python",
   "name": "python",
   "nbconvert_exporter": "python",
   "pygments_lexer": "ipython3",
   "version": "3.9.13"
  }
 },
 "nbformat": 4,
 "nbformat_minor": 5
}
