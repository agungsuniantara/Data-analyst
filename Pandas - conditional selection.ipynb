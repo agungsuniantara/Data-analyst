{
 "cells": [
  {
   "cell_type": "code",
   "execution_count": 23,
   "id": "e9cadeed",
   "metadata": {},
   "outputs": [
    {
     "data": {
      "text/plain": [
       "a    False\n",
       "b    False\n",
       "c     True\n",
       "d    False\n",
       "e     True\n",
       "dtype: bool"
      ]
     },
     "execution_count": 23,
     "metadata": {},
     "output_type": "execute_result"
    }
   ],
   "source": [
    "import pandas as pd\n",
    "data = [1500, 1250, 2224, 1302, 4239]\n",
    "series = pd.Series(data, index=[\"a\", \"b\", \"c\", \"d\", \"e\"])\n",
    "series > 2000"
   ]
  },
  {
   "cell_type": "code",
   "execution_count": 21,
   "id": "5cd5ad78",
   "metadata": {},
   "outputs": [
    {
     "data": {
      "text/plain": [
       "c    2224\n",
       "e    4239\n",
       "dtype: int64"
      ]
     },
     "execution_count": 21,
     "metadata": {},
     "output_type": "execute_result"
    }
   ],
   "source": [
    "import pandas as pd\n",
    "data = [1500, 1250, 2224, 1302, 4239]\n",
    "series = pd.Series(data, index=[\"a\", \"b\", \"c\", \"d\", \"e\"])\n",
    "series[series>2000]"
   ]
  },
  {
   "cell_type": "code",
   "execution_count": 28,
   "id": "5d97c9c5",
   "metadata": {},
   "outputs": [
    {
     "data": {
      "text/plain": [
       "c    2224\n",
       "e    4239\n",
       "dtype: int64"
      ]
     },
     "execution_count": 28,
     "metadata": {},
     "output_type": "execute_result"
    }
   ],
   "source": [
    "import pandas as pd\n",
    "data = [1500, 1250, 2224, 1302, 4239]\n",
    "series = pd.Series(data, index=[\"a\", \"b\", \"c\", \"d\", \"e\"])\n",
    "series[series > series.mean()]"
   ]
  },
  {
   "cell_type": "code",
   "execution_count": 8,
   "id": "49cedec2",
   "metadata": {},
   "outputs": [
    {
     "data": {
      "text/plain": [
       "a    1500\n",
       "c    2224\n",
       "dtype: int64"
      ]
     },
     "execution_count": 8,
     "metadata": {},
     "output_type": "execute_result"
    }
   ],
   "source": [
    "import pandas as pd\n",
    "data = [1500, 1250, 2224, 1302, 4239]\n",
    "series = pd.Series(data, index=[\"a\", \"b\", \"c\", \"d\", \"e\"])\n",
    "series[(series > 1400) & (series < 4000)]"
   ]
  },
  {
   "cell_type": "code",
   "execution_count": 9,
   "id": "ed9bb4c9",
   "metadata": {},
   "outputs": [
    {
     "data": {
      "text/plain": [
       "a    18\n",
       "b    13\n",
       "c    14\n",
       "d    19\n",
       "dtype: int64"
      ]
     },
     "execution_count": 9,
     "metadata": {},
     "output_type": "execute_result"
    }
   ],
   "source": [
    "import pandas as pd  \n",
    "data = pd.Series([8, 3, 4,9], index=['a', 'b', 'c', 'd'])\n",
    "data + 10"
   ]
  },
  {
   "cell_type": "code",
   "execution_count": 10,
   "id": "6c0a3b2f",
   "metadata": {},
   "outputs": [
    {
     "data": {
      "text/plain": [
       "a   -2\n",
       "b   -7\n",
       "c   -6\n",
       "d   -1\n",
       "dtype: int64"
      ]
     },
     "execution_count": 10,
     "metadata": {},
     "output_type": "execute_result"
    }
   ],
   "source": [
    "import pandas as pd  \n",
    "data = pd.Series([8, 3, 4,9], index=['a', 'b', 'c', 'd'])\n",
    "data - 10"
   ]
  },
  {
   "cell_type": "code",
   "execution_count": 38,
   "id": "9b257551",
   "metadata": {},
   "outputs": [
    {
     "data": {
      "text/plain": [
       "a    11.0\n",
       "b    10.0\n",
       "c     5.0\n",
       "d     2.0\n",
       "dtype: float64"
      ]
     },
     "execution_count": 38,
     "metadata": {},
     "output_type": "execute_result"
    }
   ],
   "source": [
    "import pandas as pd \n",
    "import numpy as np\n",
    "\n",
    "data = pd.Series([8, 3, 4, np.nan], index=['a', 'b', 'c', 'd']) \n",
    "data1 = pd.Series([3, 7, 1, 2], index=['a', 'b', 'c', 'd']) \n",
    "\n",
    "total_penjumlahan = data.add(data1, fill_value=0)\n",
    "total_penjumlahan"
   ]
  },
  {
   "cell_type": "code",
   "execution_count": 18,
   "id": "a8033502",
   "metadata": {},
   "outputs": [
    {
     "name": "stdout",
     "output_type": "stream",
     "text": [
      "a    8\n",
      "b    3\n",
      "c    4\n",
      "d    9\n",
      "dtype: int64\n",
      "a    3\n",
      "b    7\n",
      "c    1\n",
      "d    2\n",
      "dtype: int64\n"
     ]
    },
    {
     "data": {
      "text/plain": [
       "a    5\n",
       "b   -4\n",
       "c    3\n",
       "d    7\n",
       "dtype: int64"
      ]
     },
     "execution_count": 18,
     "metadata": {},
     "output_type": "execute_result"
    }
   ],
   "source": [
    "import pandas as pd \n",
    "data = pd.Series([8, 3, 4,9], index=['a', 'b', 'c', 'd']) \n",
    "data1 = pd.Series([3, 7, 1, 2], index=['a', 'b', 'c', 'd']) \n",
    "print(data) \n",
    "print(data1)\n",
    "\n",
    "total_pengurangan = data.subtract(data1, fill_value=0) \n",
    "total_pengurangan"
   ]
  },
  {
   "cell_type": "code",
   "execution_count": 43,
   "id": "e22e34f6",
   "metadata": {},
   "outputs": [
    {
     "name": "stdout",
     "output_type": "stream",
     "text": [
      "a    8\n",
      "b    3\n",
      "c    4\n",
      "d    9\n",
      "dtype: int64\n",
      "a    3\n",
      "b    7\n",
      "c    1\n",
      "d    2\n",
      "dtype: int64\n"
     ]
    },
    {
     "data": {
      "text/plain": [
       "6.0"
      ]
     },
     "execution_count": 43,
     "metadata": {},
     "output_type": "execute_result"
    }
   ],
   "source": [
    "import pandas as pd \n",
    "data = pd.Series([8, 3, 4,9], index=['a', 'b', 'c', 'd']) \n",
    "data1 = pd.Series([3, 7, 1, 2], index=['a', 'b', 'c', 'd']) \n",
    "print(data) \n",
    "print(data1)\n",
    "\n",
    "total_pengurangan = data.subtract(data1, fill_value=0) \n",
    "total_pengurangan"
   ]
  },
  {
   "cell_type": "code",
   "execution_count": 49,
   "id": "2c921c45",
   "metadata": {},
   "outputs": [
    {
     "name": "stdout",
     "output_type": "stream",
     "text": [
      "a    8\n",
      "b    3\n",
      "c    4\n",
      "d    9\n",
      "dtype: int64\n",
      "a    3\n",
      "b    7\n",
      "c    1\n",
      "d    2\n",
      "dtype: int64\n"
     ]
    },
    {
     "data": {
      "text/plain": [
       "24"
      ]
     },
     "execution_count": 49,
     "metadata": {},
     "output_type": "execute_result"
    }
   ],
   "source": [
    "import pandas as pd \n",
    "data = pd.Series([8, 3, 4,9], index=['a', 'b', 'c', 'd']) \n",
    "data1 = pd.Series([3, 7, 1, 2], index=['a', 'b', 'c', 'd']) \n",
    "print(data) \n",
    "print(data1)\n",
    "\n",
    "total_pengurangan = data.sum() \n",
    "total_pengurangan"
   ]
  },
  {
   "cell_type": "code",
   "execution_count": 9,
   "id": "243937e2",
   "metadata": {},
   "outputs": [
    {
     "name": "stdout",
     "output_type": "stream",
     "text": [
      "6.5\n"
     ]
    }
   ],
   "source": [
    "import pandas as pd \n",
    "\n",
    "arr = pd.Series([1,2,3,4])\n",
    "arr2 = pd.Series([5,6,7,8])\n",
    "\n",
    "#manual konvenian\n",
    "\n",
    "mean_arr = arr.mean()\n",
    "\n",
    "mean_arr2 = arr2.mean()\n",
    "\n",
    "print(mean_arr2)\n",
    "\n",
    "kurang_arr = arr.sub(mean_arr)\n",
    "kurang_arr2 = arr2.sub(mean_arr2)\n",
    "\n",
    "perkalian = kurang_arr.mul(kurang_arr2)\n",
    "\n",
    "tambah = perkalian.sum()\n",
    "\n",
    "tambah_mean = tambah.mean()\n",
    "\n",
    "size_arr = len(arr) - 1\n",
    "\n",
    "konvanian = tambah_mean / size_arr\n",
    "\n",
    "\n",
    "# method konvenian cov()\n",
    "\n",
    "total_pengurangan = arr.cov(arr2) \n",
    "total_pengurangan"
   ]
  },
  {
   "cell_type": "code",
   "execution_count": 89,
   "id": "2f7d216d",
   "metadata": {},
   "outputs": [
    {
     "name": "stdout",
     "output_type": "stream",
     "text": [
      "Data Types Before:  int64\n",
      "Data Types After:  object\n"
     ]
    }
   ],
   "source": [
    "import pandas as pd \n",
    "data = pd.Series([8, 3, 4,9], index=['a', 'b', 'c', 'd']) \n",
    "before = data.dtypes \n",
    "data = data.astype(str) \n",
    "after = data.dtypes \n",
    "print(\"Data Types Before: \", before) \n",
    "print(\"Data Types After: \",after)"
   ]
  },
  {
   "cell_type": "code",
   "execution_count": 92,
   "id": "f5e64b08",
   "metadata": {},
   "outputs": [
    {
     "name": "stdout",
     "output_type": "stream",
     "text": [
      "0            scratch\n",
      "1             roblox\n",
      "2              unity\n",
      "3    web programming\n",
      "4               java\n",
      "5             python\n",
      "dtype: object\n",
      "0      scratch\n",
      "1       roblox\n",
      "2        unity\n",
      "3    construct\n",
      "4         java\n",
      "5       python\n",
      "dtype: object\n"
     ]
    }
   ],
   "source": [
    "import pandas as pd\n",
    "data = ['scratch','roblox','unity','web programming','java','python']\n",
    "series = pd.Series(data)\n",
    "\n",
    "print(series)\n",
    "\n",
    "series[3] = \"construct\"\n",
    "\n",
    "print(series)"
   ]
  },
  {
   "cell_type": "code",
   "execution_count": 6,
   "id": "68f2be5f",
   "metadata": {},
   "outputs": [
    {
     "name": "stdout",
     "output_type": "stream",
     "text": [
      "sebelum diubah : \n",
      "Januari      408\n",
      "Februari     943\n",
      "Maret        902\n",
      "April        117\n",
      "Mei          389\n",
      "Juni         435\n",
      "Juli         793\n",
      "Agustus      356\n",
      "September    651\n",
      "Oktober      993\n",
      "November     786\n",
      "Desember     157\n",
      "dtype: int64\n",
      "\n",
      "\n",
      "setelah diubah : \n",
      "Januari      408.0\n",
      "Februari     577.5\n",
      "Maret        577.5\n",
      "April        117.0\n",
      "Mei          389.0\n",
      "Juni         435.0\n",
      "Juli         577.5\n",
      "Agustus      356.0\n",
      "September    577.5\n",
      "Oktober      577.5\n",
      "November     577.5\n",
      "Desember     157.0\n",
      "dtype: float64\n"
     ]
    }
   ],
   "source": [
    "#assignment\n",
    "\n",
    "import pandas as pd\n",
    "\n",
    "data = pd.Series([408,943,902,117,389,435,793,356,651,993,786,157])\n",
    "bulan = ['Januari', 'Februari', 'Maret', 'April', 'Mei', 'Juni', 'Juli', 'Agustus', 'September', 'Oktober', 'November', 'Desember']\n",
    "data.index = bulan\n",
    "\n",
    "print(\"sebelum diubah : \")\n",
    "print(data)\n",
    "print(\"\\n\")\n",
    "\n",
    "mean = data.mean()\n",
    "data.loc[data > mean] = mean\n",
    "\n",
    "print(\"setelah diubah : \")\n",
    "print(data)"
   ]
  },
  {
   "cell_type": "code",
   "execution_count": 1,
   "id": "7c6d84b2",
   "metadata": {},
   "outputs": [
    {
     "name": "stdout",
     "output_type": "stream",
     "text": [
      "sebelum diubah : \n",
      "Januari      408\n",
      "Februari     943\n",
      "Maret        902\n",
      "April        117\n",
      "Mei          389\n",
      "Juni         435\n",
      "Juli         793\n",
      "Agustus      356\n",
      "September    651\n",
      "Oktober      993\n",
      "November     786\n",
      "Desember     157\n",
      "dtype: int64\n",
      "\n",
      "\n",
      "577.5\n",
      "setelah diubah : \n",
      "Januari      408.0\n",
      "Februari     577.5\n",
      "Maret        577.5\n",
      "April        117.0\n",
      "Mei          389.0\n",
      "Juni         435.0\n",
      "Juli         577.5\n",
      "Agustus      356.0\n",
      "September    577.5\n",
      "Oktober      577.5\n",
      "November     577.5\n",
      "Desember     157.0\n",
      "dtype: float64\n"
     ]
    }
   ],
   "source": [
    "#assignment\n",
    "\n",
    "import pandas as pd\n",
    "\n",
    "series = pd.Series([408,943,902,117,389,435,793,356,651,993,786,157], index = ['Januari', 'Februari', 'Maret', 'April', 'Mei', 'Juni', 'Juli', 'Agustus', 'September', 'Oktober', 'November', 'Desember'])\n",
    "\n",
    "print(\"sebelum diubah : \")\n",
    "print(series)\n",
    "print(\"\\n\")\n",
    "\n",
    "mean = series.mean()\n",
    "series.loc[series > mean] = mean\n",
    "\n",
    "print(\"setelah diubah : \")\n",
    "print(series)"
   ]
  },
  {
   "cell_type": "code",
   "execution_count": null,
   "id": "18d54e7e",
   "metadata": {},
   "outputs": [],
   "source": []
  }
 ],
 "metadata": {
  "kernelspec": {
   "display_name": "Python 3 (ipykernel)",
   "language": "python",
   "name": "python3"
  },
  "language_info": {
   "codemirror_mode": {
    "name": "ipython",
    "version": 3
   },
   "file_extension": ".py",
   "mimetype": "text/x-python",
   "name": "python",
   "nbconvert_exporter": "python",
   "pygments_lexer": "ipython3",
   "version": "3.9.13"
  }
 },
 "nbformat": 4,
 "nbformat_minor": 5
}
