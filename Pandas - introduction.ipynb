{
 "cells": [
  {
   "cell_type": "code",
   "execution_count": 67,
   "id": "511fbeb1",
   "metadata": {},
   "outputs": [
    {
     "name": "stdout",
     "output_type": "stream",
     "text": [
      "   senin  selasa\n",
      "0      1       1\n",
      "1      2       2\n",
      "2      3       3\n",
      "3      4       4\n"
     ]
    }
   ],
   "source": [
    "import pandas as pd\n",
    "\n",
    "data = {\n",
    "    \"data1\":1,\n",
    "    \"data2\":1\n",
    "}\n",
    "\n",
    "data2 = {\n",
    "    \"senin\":[1,2,3,4],\n",
    "    \"selasa\":[1,2,3,4]\n",
    "}\n",
    "\n",
    "series = pd.DataFrame(data2)\n",
    "\n",
    "\n",
    "print(series)\n"
   ]
  },
  {
   "cell_type": "code",
   "execution_count": 23,
   "id": "b93a7d91",
   "metadata": {},
   "outputs": [
    {
     "name": "stdout",
     "output_type": "stream",
     "text": [
      "   0\n",
      "0  1\n",
      "1  2\n",
      "2  3\n",
      "3  4\n"
     ]
    }
   ],
   "source": [
    "import pandas as pd\n",
    "import numpy as np\n",
    "data = np.array([1, 2, 3, 4])\n",
    "series = pd.DataFrame(data)\n",
    "\n",
    "print(series)"
   ]
  },
  {
   "cell_type": "code",
   "execution_count": 68,
   "id": "9f380265",
   "metadata": {},
   "outputs": [
    {
     "name": "stdout",
     "output_type": "stream",
     "text": [
      "0     apple\n",
      "1    orange\n",
      "2    banana\n",
      "3     grape\n",
      "4     mango\n",
      "dtype: object\n",
      "        0\n",
      "0   apple\n",
      "1  orange\n",
      "2  banana\n",
      "3   grape\n",
      "4   mango\n"
     ]
    }
   ],
   "source": [
    "#assigment\n",
    "\n",
    "import pandas as pd\n",
    "\n",
    "data = [\"apple\",\"orange\",\"banana\",\"grape\",\"mango\"]\n",
    "tampil = pd.Series(data)\n",
    "tampil2 = pd.DataFrame(data)\n",
    "\n",
    "print(tampil)\n",
    "print(tampil2)"
   ]
  },
  {
   "cell_type": "code",
   "execution_count": 41,
   "id": "db714a70",
   "metadata": {},
   "outputs": [
    {
     "name": "stdout",
     "output_type": "stream",
     "text": [
      "  NAMA BUAH\n",
      "0     apple\n",
      "1    orange\n",
      "2    banana\n",
      "3     grape\n",
      "4     mango\n",
      "  NAMA BUAH\n",
      "      apple\n",
      "     orange\n",
      "     banana\n",
      "      grape\n",
      "      mango\n"
     ]
    }
   ],
   "source": [
    "#assigment\n",
    "\n",
    "import pandas as pd\n",
    "\n",
    "data = {\n",
    "    \"NAMA BUAH\" : ['apple','orange','banana','grape','mango']\n",
    "}\n",
    "\n",
    "tampil = pd.DataFrame(data)\n",
    "\n",
    "df = pd.DataFrame(data, index = [' ',' ',' ',' ',' '])\n",
    "\n",
    "print(tampil)\n",
    "print(df)"
   ]
  },
  {
   "cell_type": "code",
   "execution_count": 69,
   "id": "d72a8bb4",
   "metadata": {},
   "outputs": [
    {
     "name": "stdout",
     "output_type": "stream",
     "text": [
      "senin     1\n",
      "selasa    1\n",
      "rabu      1\n",
      "kamis     1\n",
      "dtype: int64\n",
      "   senin  selasa  rabu  kamis\n",
      "0      1       1     1      1\n",
      "1      2       2     2      2\n"
     ]
    }
   ],
   "source": [
    "import pandas as pd\n",
    "\n",
    "data = {\"senin\":1, \"selasa\":1, \"rabu\":1, \"kamis\":1}\n",
    "series = pd.Series(data)\n",
    "\n",
    "data2 = {\"senin\":[1,2], \"selasa\":[1,2], \"rabu\":[1,2], \"kamis\":[1,2]}\n",
    "series2 = pd.DataFrame(data2)\n",
    "\n",
    "\n",
    "print(series)\n",
    "print(series2)"
   ]
  },
  {
   "cell_type": "code",
   "execution_count": null,
   "id": "f7e2ac7f",
   "metadata": {},
   "outputs": [],
   "source": []
  }
 ],
 "metadata": {
  "kernelspec": {
   "display_name": "Python 3 (ipykernel)",
   "language": "python",
   "name": "python3"
  },
  "language_info": {
   "codemirror_mode": {
    "name": "ipython",
    "version": 3
   },
   "file_extension": ".py",
   "mimetype": "text/x-python",
   "name": "python",
   "nbconvert_exporter": "python",
   "pygments_lexer": "ipython3",
   "version": "3.9.13"
  }
 },
 "nbformat": 4,
 "nbformat_minor": 5
}
