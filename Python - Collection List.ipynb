{
 "cells": [
  {
   "cell_type": "code",
   "execution_count": 103,
   "id": "c941759c",
   "metadata": {},
   "outputs": [
    {
     "name": "stdout",
     "output_type": "stream",
     "text": [
      "Sapi\n",
      "Ayam\n",
      "Kambing\n",
      "Kuda\n",
      "Book\n",
      "23\n",
      "1984\n",
      "True\n",
      "Pencil\n"
     ]
    }
   ],
   "source": [
    "hewan = [\"Sapi\", \"Ayam\", \"Kambing\", \"Kuda\"]\n",
    "item_list = [\"Book\", 23, 1984, True, \"Pencil\"]\n",
    "\n",
    "for h in hewan:\n",
    "    print(h)\n",
    "for item in item_list:\n",
    "    print(item)"
   ]
  },
  {
   "cell_type": "code",
   "execution_count": 101,
   "id": "ea7e42b0",
   "metadata": {},
   "outputs": [
    {
     "name": "stdout",
     "output_type": "stream",
     "text": [
      "Sapi\n",
      "Ayam\n",
      "Kambing\n",
      "Kuda\n"
     ]
    }
   ],
   "source": [
    "hewan = [\"Sapi\", \"Ayam\", \"Kambing\", \"Kuda\"]\n",
    "\n",
    "\"Mengambil Data Pertama\"\n",
    "print(hewan[0])\n",
    "\n",
    "\"Mengambil Data Kedua\"\n",
    "print(hewan[1])\n",
    "\n",
    "\"Mengambil Data Ketiga\"\n",
    "print(hewan[2])\n",
    "\n",
    "\"Mengambil Data Keempat\"\n",
    "print(hewan[3])"
   ]
  },
  {
   "cell_type": "code",
   "execution_count": 150,
   "id": "bc78be47",
   "metadata": {},
   "outputs": [
    {
     "name": "stdout",
     "output_type": "stream",
     "text": [
      "['merah', 'putih', 'kuning', 'hijau', 'orange']\n",
      "['kuning']\n",
      "['merah', 'putih', 'kuning']\n",
      "['putih', 'kuning', 'hijau']\n",
      "False\n",
      "['kuning', 'hijau', 'orange']\n",
      "['merah', 'putih', 'kuning', 'hijau', 'orange']\n"
     ]
    }
   ],
   "source": [
    "a = ['merah', 'putih', 'kuning', 'hijau','orange']\n",
    "\n",
    "print(a)\n",
    "print(a[2:3])\n",
    "print(a[-5:-2])\n",
    "print(a[1:4])\n",
    "print(a[-5:-2] == a[1:4])\n",
    "\n",
    "# slice dari index 2 ke akhir\n",
    "print(a[2:])\n",
    "\n",
    "# slice awal ke akhir\n",
    "print(a[:])"
   ]
  },
  {
   "cell_type": "code",
   "execution_count": 111,
   "id": "ad5d6674",
   "metadata": {},
   "outputs": [
    {
     "name": "stdout",
     "output_type": "stream",
     "text": [
      "['merah', 'kuning']\n"
     ]
    }
   ],
   "source": [
    "a = ['merah', 'putih', 'kuning', 'hijau','orange']\n",
    "\n",
    "print(a[0:3:2])"
   ]
  },
  {
   "cell_type": "code",
   "execution_count": 16,
   "id": "17c74b73",
   "metadata": {},
   "outputs": [
    {
     "name": "stdout",
     "output_type": "stream",
     "text": [
      "Sebelum diubah\n",
      "Sapi\n",
      "Setelah diubah\n",
      "Kangguru\n"
     ]
    }
   ],
   "source": [
    "hewan = [\"Sapi\", \"Ayam\", \"Kambing\", \"Kuda\"]\n",
    "print(\"Sebelum diubah\")\n",
    "print(hewan[0])\n",
    "hewan[0] = \"Kangguru\"\n",
    "print(\"Setelah diubah\")\n",
    "print(hewan[0])"
   ]
  },
  {
   "cell_type": "code",
   "execution_count": 18,
   "id": "1412a63a",
   "metadata": {},
   "outputs": [
    {
     "name": "stdout",
     "output_type": "stream",
     "text": [
      "['Red', 'Blue', 'Green', 'Brown']\n"
     ]
    }
   ],
   "source": [
    "colors = [\"Red\", \"Blue\", \"Green\"]\n",
    "colors.append(\"Brown\")\n",
    "\n",
    "print(colors)"
   ]
  },
  {
   "cell_type": "code",
   "execution_count": 20,
   "id": "f9b37999",
   "metadata": {},
   "outputs": [
    {
     "name": "stdout",
     "output_type": "stream",
     "text": [
      "['Brown', 'Red', 'Blue', 'Green']\n"
     ]
    }
   ],
   "source": [
    "colors = [\"Red\", \"Blue\", \"Green\"]\n",
    "colors.insert(0, \"Brown\")\n",
    "\n",
    "print(colors)"
   ]
  },
  {
   "cell_type": "code",
   "execution_count": 22,
   "id": "4773a394",
   "metadata": {},
   "outputs": [
    {
     "name": "stdout",
     "output_type": "stream",
     "text": [
      "['Red', 'Green']\n"
     ]
    }
   ],
   "source": [
    "colors = [\"Red\", \"Blue\", \"Green\"]\n",
    "del colors[1]\n",
    "\n",
    "print(colors)"
   ]
  },
  {
   "cell_type": "code",
   "execution_count": 25,
   "id": "ce99eead",
   "metadata": {},
   "outputs": [
    {
     "name": "stdout",
     "output_type": "stream",
     "text": [
      "['Gajah', 'Kucing', 'Tikus', 'Anjing', 'Putri Malu', 'Lidah Buaya', 'Mangga']\n"
     ]
    }
   ],
   "source": [
    "hewan = [\"Gajah\", \"Kucing\", \"Tikus\", \"Anjing\"]\n",
    "tumbuhan = [\"Putri Malu\", \"Lidah Buaya\", \"Mangga\"]\n",
    "makhluk_hidup = hewan + tumbuhan\n",
    "\n",
    "print(makhluk_hidup)"
   ]
  },
  {
   "cell_type": "code",
   "execution_count": 27,
   "id": "99a9913d",
   "metadata": {},
   "outputs": [
    {
     "name": "stdout",
     "output_type": "stream",
     "text": [
      "['Gajah', 'Kucing', 'Tikus', 'Anjing', 'Gajah', 'Kucing', 'Tikus', 'Anjing', 'Gajah', 'Kucing', 'Tikus', 'Anjing', 'Gajah', 'Kucing', 'Tikus', 'Anjing', 'Gajah', 'Kucing', 'Tikus', 'Anjing']\n"
     ]
    }
   ],
   "source": [
    "hewan = [\"Gajah\", \"Kucing\", \"Tikus\", \"Anjing\"]\n",
    "makhluk_hidup = hewan * 5\n",
    "\n",
    "print(makhluk_hidup)"
   ]
  },
  {
   "cell_type": "code",
   "execution_count": 32,
   "id": "dc48c130",
   "metadata": {},
   "outputs": [
    {
     "name": "stdout",
     "output_type": "stream",
     "text": [
      "Jus Melon\n"
     ]
    }
   ],
   "source": [
    "minuman =[\n",
    "    0[\"Kopi\", \"Susu\", \"Teh\"],\n",
    "    1[\"Jus Apel\", \"Jus Melon\", \"Jus Jeruk\"],\n",
    "    2[\"Es Kopi\", \"Es Campur\", \"Es Teler\"]\n",
    "]\n",
    "\n",
    "print(minuman[1][1])\n"
   ]
  },
  {
   "cell_type": "code",
   "execution_count": 33,
   "id": "59145f49",
   "metadata": {},
   "outputs": [
    {
     "name": "stdout",
     "output_type": "stream",
     "text": [
      "['Kopi', 'Susu', 'Teh']\n",
      "Kopi\n",
      "Susu\n",
      "Teh\n",
      "['Jus Apel', 'Jus Melon', 'Jus Jeruk']\n",
      "Jus Apel\n",
      "Jus Melon\n",
      "Jus Jeruk\n",
      "['Es Kopi', 'Es Campur', 'Es Teler']\n",
      "Es Kopi\n",
      "Es Campur\n",
      "Es Teler\n"
     ]
    }
   ],
   "source": [
    "for list in minuman:\n",
    "    print(list)\n",
    "    for menu in list:\n",
    "        print(menu)"
   ]
  },
  {
   "cell_type": "code",
   "execution_count": 34,
   "id": "e0cac30e",
   "metadata": {},
   "outputs": [
    {
     "name": "stdout",
     "output_type": "stream",
     "text": [
      "4\n"
     ]
    }
   ],
   "source": [
    "hewan = [\"Gajah\", \"Kucing\", \"Tikus\", \"Anjing\"]\n",
    "print(len(hewan))"
   ]
  },
  {
   "cell_type": "code",
   "execution_count": 35,
   "id": "49e616e9",
   "metadata": {},
   "outputs": [
    {
     "name": "stdout",
     "output_type": "stream",
     "text": [
      "e\n",
      "c\n"
     ]
    }
   ],
   "source": [
    "mylist = ['a','b','c','d','e']\n",
    "\n",
    "# item terakhir\n",
    "print(mylist[-1])\n",
    "\n",
    "# item ke-3 terakhir\n",
    "print(mylist[-3])"
   ]
  },
  {
   "cell_type": "code",
   "execution_count": 36,
   "id": "5b5c3c74",
   "metadata": {},
   "outputs": [
    {
     "name": "stdout",
     "output_type": "stream",
     "text": [
      "[1, 2, 4, 8, 16, 32, 64, 128, 256, 512]\n"
     ]
    }
   ],
   "source": [
    "#membuat list dari pangkat 2\n",
    "pow2 = [2 ** x for x in range(10)]\n",
    "print(pow2)"
   ]
  },
  {
   "cell_type": "code",
   "execution_count": 93,
   "id": "6e35ba9f",
   "metadata": {},
   "outputs": [
    {
     "name": "stdout",
     "output_type": "stream",
     "text": [
      "Warna favorit saya merah\n",
      "Warna favorit saya kuning\n",
      "Warna favorit saya hijau\n"
     ]
    }
   ],
   "source": [
    "for warna in ['merah','kuning','hijau']:\n",
    "    print(\"Warna favorit saya\",warna)"
   ]
  },
  {
   "cell_type": "code",
   "execution_count": 39,
   "id": "9430e114",
   "metadata": {},
   "outputs": [
    {
     "name": "stdout",
     "output_type": "stream",
     "text": [
      "['kosong']\n"
     ]
    }
   ],
   "source": [
    "#assignment\n",
    "\n",
    "kosong = []\n",
    "\n",
    "kosong.append(\"kosong\")\n",
    "\n",
    "print(kosong)"
   ]
  },
  {
   "cell_type": "code",
   "execution_count": 128,
   "id": "d59f0590",
   "metadata": {},
   "outputs": [
    {
     "name": "stdout",
     "output_type": "stream",
     "text": [
      "True\n"
     ]
    }
   ],
   "source": [
    "#assignment\n",
    "\n",
    "a = [True]\n",
    "\n",
    "aktif = a[0]\n",
    "\n",
    "print(aktif)"
   ]
  },
  {
   "cell_type": "code",
   "execution_count": 174,
   "id": "f805c229",
   "metadata": {},
   "outputs": [
    {
     "name": "stdout",
     "output_type": "stream",
     "text": [
      "bilangan : 10\n",
      "bilangan : 12\n",
      "bilangan : 13\n",
      "bilangan : 14\n",
      "bilangan : 156\n",
      "[10, 12, 13, 14, 156]\n"
     ]
    }
   ],
   "source": [
    "max = 0\n",
    "kodepos = []\n",
    "\n",
    "while(True):\n",
    "    bilangan = int(input(\"bilangan : \"))\n",
    "    kodepos.append(bilangan)\n",
    "    max += 1\n",
    "    if max == 5:\n",
    "        break\n",
    "\n",
    "print(kodepos)"
   ]
  },
  {
   "cell_type": "code",
   "execution_count": 49,
   "id": "0806fe2c",
   "metadata": {},
   "outputs": [
    {
     "name": "stdout",
     "output_type": "stream",
     "text": [
      "['merah', 'hijau', 'biru']\n"
     ]
    }
   ],
   "source": [
    "warna = [\"merah\", \"hijau\", \"biru\"]\n",
    "warna2 = [warna[0], warna[1], warna[2]]\n",
    "\n",
    "print(warna2)"
   ]
  },
  {
   "cell_type": "code",
   "execution_count": 133,
   "id": "6435fa82",
   "metadata": {},
   "outputs": [
    {
     "name": "stdout",
     "output_type": "stream",
     "text": [
      "['merah', 'hijau', 'biru', 0, 1, 2, 3, 4, 5, 6, 7, 8, 9]\n",
      "True\n"
     ]
    }
   ],
   "source": [
    "warna = [\"merah\", \"hijau\", \"biru\"]\n",
    "\n",
    "for i in range(10):\n",
    "    warna.append(i)\n",
    "\n",
    "print(warna)\n",
    "\n",
    "cek_panjang = len(warna)\n",
    "\n",
    "if cek_panjang > 10:\n",
    "    print(True)\n",
    "else:\n",
    "    print(False)"
   ]
  },
  {
   "cell_type": "code",
   "execution_count": 136,
   "id": "e6b10db6",
   "metadata": {},
   "outputs": [
    {
     "name": "stdout",
     "output_type": "stream",
     "text": [
      "output =  koding akademi\n",
      "output =  welcome\n",
      "output =  imedaka gnidok ot emoclew\n",
      "output =  \n"
     ]
    }
   ],
   "source": [
    "mystr = \"welcome to koding akademi\"\n",
    "\n",
    "print(\"output = \", mystr[11:25])\n",
    "print(\"output = \", mystr[0:7])\n",
    "print(\"output = \", mystr[::-1])"
   ]
  },
  {
   "cell_type": "code",
   "execution_count": 117,
   "id": "b54f472e",
   "metadata": {},
   "outputs": [
    {
     "name": "stdout",
     "output_type": "stream",
     "text": [
      "Green\n"
     ]
    }
   ],
   "source": [
    "colors = [\"Red\", \"Blue\", \"Green\"]\n",
    "\n",
    "\n",
    "print(colors.pop())"
   ]
  },
  {
   "cell_type": "code",
   "execution_count": 119,
   "id": "d5f20686",
   "metadata": {},
   "outputs": [
    {
     "name": "stdout",
     "output_type": "stream",
     "text": [
      "['Gajah', 'Kucing', 'Tikus', 'Anjing', 'Gajah', 'Kucing', 'Tikus', 'Anjing', 'Gajah', 'Kucing', 'Tikus', 'Anjing', 'Gajah', 'Kucing', 'Tikus', 'Anjing', 'Gajah', 'Kucing', 'Tikus', 'Anjing']\n"
     ]
    }
   ],
   "source": [
    "hewan = [\"Gajah\", \"Kucing\", \"Tikus\", \"Anjing\"]\n",
    "makhluk_hidup = hewan * 5\n",
    "print(makhluk_hidup)"
   ]
  },
  {
   "cell_type": "code",
   "execution_count": 123,
   "id": "87a9471d",
   "metadata": {},
   "outputs": [
    {
     "name": "stdout",
     "output_type": "stream",
     "text": [
      "Jus Jeruk\n",
      "Kopi\n",
      "Susu\n",
      "Teh\n",
      "Jus Apel\n",
      "Jus Melon\n",
      "Jus Jeruk\n",
      "Es Kopi\n",
      "Es Campur\n",
      "Es Teler\n"
     ]
    }
   ],
   "source": [
    "minuman =[\n",
    "    [\"Kopi\", \"Susu\", \"Teh\"],\n",
    "    [\"Jus Apel\", \"Jus Melon\", \"Jus Jeruk\"],\n",
    "    [\"Es Kopi\", \"Es Campur\", \"Es Teler\"]\n",
    "]\n",
    "\n",
    "# print(minuman[1][2])\n",
    "\n",
    "for a in minuman:\n",
    "    for b in a:\n",
    "        print(b)"
   ]
  },
  {
   "cell_type": "code",
   "execution_count": 124,
   "id": "569a02bd",
   "metadata": {},
   "outputs": [
    {
     "name": "stdout",
     "output_type": "stream",
     "text": [
      "4\n"
     ]
    }
   ],
   "source": [
    "hewan = [\"Gajah\", \"Kucing\", \"Tikus\", \"Anjing\"]\n",
    "print(len(hewan))"
   ]
  },
  {
   "cell_type": "code",
   "execution_count": 125,
   "id": "8ccc0cf1",
   "metadata": {},
   "outputs": [
    {
     "name": "stdout",
     "output_type": "stream",
     "text": [
      "e\n",
      "c\n"
     ]
    }
   ],
   "source": [
    "mylist = ['a','b','c','d','e']\n",
    "\n",
    "# item terakhir\n",
    "print(mylist[-1])\n",
    "\n",
    "# item ke-3 terakhir\n",
    "print(mylist[-3])"
   ]
  },
  {
   "cell_type": "code",
   "execution_count": 126,
   "id": "08c49698",
   "metadata": {},
   "outputs": [
    {
     "name": "stdout",
     "output_type": "stream",
     "text": [
      "[1, 2, 4, 8, 16, 32, 64, 128, 256, 512]\n"
     ]
    }
   ],
   "source": [
    "pow2 = [2 ** x = 1 for x in range(10)]\n",
    "print(pow2)"
   ]
  },
  {
   "cell_type": "code",
   "execution_count": 127,
   "id": "8f497607",
   "metadata": {},
   "outputs": [
    {
     "name": "stdout",
     "output_type": "stream",
     "text": [
      "Warna favorit saya merah\n",
      "Warna favorit saya kuning\n",
      "Warna favorit saya hijau\n"
     ]
    }
   ],
   "source": [
    "for warna in ['merah','kuning','hijau']:\n",
    "    print(\"Warna favorit saya\",warna)"
   ]
  },
  {
   "cell_type": "code",
   "execution_count": 130,
   "id": "b528bf92",
   "metadata": {},
   "outputs": [
    {
     "name": "stdout",
     "output_type": "stream",
     "text": [
      "[10, 20, 30, 40, 50]\n"
     ]
    }
   ],
   "source": [
    "a = [10,20,30,40,50]\n",
    "\n",
    "kodepos = a\n",
    "\n",
    "print(kodepos)"
   ]
  },
  {
   "cell_type": "code",
   "execution_count": 137,
   "id": "c56f4530",
   "metadata": {},
   "outputs": [
    {
     "name": "stdout",
     "output_type": "stream",
     "text": [
      "{'nama': 'Robert Johnson', 'umur': 18, 'alamat': 'Jalan Tukad Batanghari', 'username': 'koding_akademi', 'password': 12345}\n"
     ]
    }
   ],
   "source": [
    "biodata = {\n",
    "    \"nama\"     : \"Robert Johnson\",\n",
    "    \"umur\"     : 18,\n",
    "    \"alamat\"   : \"Jalan Tukad Batanghari\",\n",
    "    \"username\" : \"koding_akademi\",\n",
    "    \"password\" : 12345\n",
    "}\n",
    "\n",
    "print(biodata)"
   ]
  },
  {
   "cell_type": "code",
   "execution_count": 140,
   "id": "f55bbb5a",
   "metadata": {},
   "outputs": [
    {
     "name": "stdout",
     "output_type": "stream",
     "text": [
      "Robert Johnson\n"
     ]
    }
   ],
   "source": [
    "print(biodata[\"nama\"])"
   ]
  },
  {
   "cell_type": "code",
   "execution_count": 141,
   "id": "f55fde60",
   "metadata": {},
   "outputs": [
    {
     "data": {
      "text/plain": [
       "{'nama': 'Robert Johnson',\n",
       " 'umur': 18,\n",
       " 'alamat': 'Jalan Tukad Batanghari',\n",
       " 'username': 'koding_akademi',\n",
       " 'password': 12345}"
      ]
     },
     "execution_count": 141,
     "metadata": {},
     "output_type": "execute_result"
    }
   ],
   "source": [
    "dict(nama=\"Robert Johnson\", umur=18, alamat=\"Jalan Tukad Batanghari\", username=\"koding_akademi\", password=12345)"
   ]
  },
  {
   "cell_type": "code",
   "execution_count": 142,
   "id": "0428bc59",
   "metadata": {},
   "outputs": [
    {
     "name": "stdout",
     "output_type": "stream",
     "text": [
      "Robert Johnson\n"
     ]
    }
   ],
   "source": [
    "print(biodata[\"nama\"])"
   ]
  },
  {
   "cell_type": "code",
   "execution_count": 143,
   "id": "3251e388",
   "metadata": {},
   "outputs": [
    {
     "name": "stdout",
     "output_type": "stream",
     "text": [
      "Robert Johnson\n",
      "18\n",
      "Jalan Tukad Batanghari\n",
      "koding_akademi\n",
      "12345\n"
     ]
    }
   ],
   "source": [
    "biodata = {\n",
    "    \"nama\"    :\"Robert Johnson\",\n",
    "    \"umur\"    :18,\n",
    "    \"alamat\"  :\"Jalan Tukad Batanghari\",\n",
    "    \"username\":\"koding_akademi\",\n",
    "    \"password\":12345\n",
    "}\n",
    "\n",
    "for key in biodata:\n",
    "    print(biodata[key])"
   ]
  },
  {
   "cell_type": "code",
   "execution_count": 144,
   "id": "3effa152",
   "metadata": {},
   "outputs": [
    {
     "name": "stdout",
     "output_type": "stream",
     "text": [
      "{'nama': 'Robert Johnson', 'umur': 18, 'alamat': 'Jalan Tukad Batanghari', 'username': 'admin', 'password': 12345}\n"
     ]
    }
   ],
   "source": [
    "biodata = {\n",
    "    \"nama\"    :\"Robert Johnson\",\n",
    "    \"umur\"    :18,\n",
    "    \"alamat\"  :\"Jalan Tukad Batanghari\",\n",
    "    \"username\":\"koding_akademi\",\n",
    "    \"password\":12345\n",
    "}\n",
    "\n",
    "\"Mengganti nilai item dengan key username\"\n",
    "biodata[\"username\"] = \"admin\"\n",
    "\n",
    "print(biodata)"
   ]
  },
  {
   "cell_type": "code",
   "execution_count": 146,
   "id": "33ef76e0",
   "metadata": {},
   "outputs": [
    {
     "name": "stdout",
     "output_type": "stream",
     "text": [
      "{'nama': 'Robert Johnson', 'alamat': 'Jalan Tukad Batanghari', 'username': 'koding_akademi', 'password': 12345}\n"
     ]
    }
   ],
   "source": [
    "biodata = {\n",
    "    \"nama\"    :\"Robert Johnson\",\n",
    "    \"umur\"    :18,\n",
    "    \"alamat\"  :\"Jalan Tukad Batanghari\",\n",
    "    \"username\":\"koding_akademi\",\n",
    "    \"password\":12345\n",
    "}\n",
    "biodata.pop(\"umur\")\n",
    "\n",
    "print(biodata)"
   ]
  },
  {
   "cell_type": "code",
   "execution_count": 147,
   "id": "c23cd1b9",
   "metadata": {},
   "outputs": [
    {
     "name": "stdout",
     "output_type": "stream",
     "text": [
      "{'nama': 'Robert Johnson', 'alamat': 'Jalan Tukad Batanghari', 'username': 'koding_akademi', 'password': 12345}\n"
     ]
    }
   ],
   "source": [
    "biodata = {\n",
    "    \"nama\"    :\"Robert Johnson\",\n",
    "    \"umur\"    :18,\n",
    "    \"alamat\"  :\"Jalan Tukad Batanghari\",\n",
    "    \"username\":\"koding_akademi\",\n",
    "    \"password\":12345\n",
    "}\n",
    "del biodata[\"umur\"]\n",
    "\n",
    "print(biodata)"
   ]
  },
  {
   "cell_type": "code",
   "execution_count": 148,
   "id": "212241fc",
   "metadata": {},
   "outputs": [
    {
     "name": "stdout",
     "output_type": "stream",
     "text": [
      "{'username': 'admin', 'password': 123}\n"
     ]
    }
   ],
   "source": [
    "akun = {\n",
    "    \"username\" : \"admin\"\n",
    "}\n",
    "akun.update({\"password\" : 123})\n",
    "\n",
    "print(akun)"
   ]
  },
  {
   "cell_type": "code",
   "execution_count": 151,
   "id": "fee69874",
   "metadata": {},
   "outputs": [
    {
     "name": "stdout",
     "output_type": "stream",
     "text": [
      "2\n"
     ]
    }
   ],
   "source": [
    "akun = {\n",
    "    \"username\" : \"admin\",\n",
    "    \"password\" : 123\n",
    "}\n",
    "print(len(akun))"
   ]
  },
  {
   "cell_type": "code",
   "execution_count": 180,
   "id": "c08339c9",
   "metadata": {},
   "outputs": [
    {
     "name": "stdout",
     "output_type": "stream",
     "text": [
      "['koding', 'akademi']\n",
      "['akademi', 'koding']\n",
      "akademi koding\n",
      "k o d i n g   a k a d e m i\n"
     ]
    }
   ],
   "source": [
    "s = \"koding akademi\"   \n",
    "\n",
    "b = s.split(' ')\n",
    "\n",
    "print(b)\n",
    "\n",
    "c = (b[::-1])\n",
    "\n",
    "print(c)\n",
    "\n",
    "print(\" \".join(c))\n",
    "\n",
    "print(\" \".join(s))\n",
    "\n",
    "print(' '.join(s.split(' ')[::-1]))"
   ]
  },
  {
   "cell_type": "code",
   "execution_count": null,
   "id": "b6f2de55",
   "metadata": {},
   "outputs": [],
   "source": []
  }
 ],
 "metadata": {
  "kernelspec": {
   "display_name": "Python 3 (ipykernel)",
   "language": "python",
   "name": "python3"
  },
  "language_info": {
   "codemirror_mode": {
    "name": "ipython",
    "version": 3
   },
   "file_extension": ".py",
   "mimetype": "text/x-python",
   "name": "python",
   "nbconvert_exporter": "python",
   "pygments_lexer": "ipython3",
   "version": "3.9.13"
  }
 },
 "nbformat": 4,
 "nbformat_minor": 5
}
