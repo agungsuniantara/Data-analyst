{
 "cells": [
  {
   "cell_type": "code",
   "execution_count": 1,
   "id": "b6070768",
   "metadata": {},
   "outputs": [
    {
     "name": "stdout",
     "output_type": "stream",
     "text": [
      "Koding Akademi\n"
     ]
    }
   ],
   "source": [
    "def cetak_string():\n",
    "    print(\"Koding Akademi\")\n",
    "cetak_string()"
   ]
  },
  {
   "cell_type": "code",
   "execution_count": 2,
   "id": "38ea3b34",
   "metadata": {},
   "outputs": [
    {
     "name": "stdout",
     "output_type": "stream",
     "text": [
      "Koding Akademi\n",
      "Koding Akademi\n",
      "Koding Akademi\n",
      "Koding Akademi\n",
      "Koding Akademi\n"
     ]
    }
   ],
   "source": [
    "def cetak_string():\n",
    "    print(\"Koding Akademi\")\n",
    "cetak_string()\n",
    "cetak_string()\n",
    "cetak_string()\n",
    "cetak_string()\n",
    "cetak_string()"
   ]
  },
  {
   "cell_type": "code",
   "execution_count": 5,
   "id": "028a8ecd",
   "metadata": {},
   "outputs": [
    {
     "name": "stdout",
     "output_type": "stream",
     "text": [
      "Score =  1\n"
     ]
    }
   ],
   "source": [
    "score = 0\n",
    "def add_score():\n",
    "    global score\n",
    "    score +=1\n",
    "    print(\"Score = \", score)\n",
    "add_score()"
   ]
  },
  {
   "cell_type": "code",
   "execution_count": 6,
   "id": "74a46366",
   "metadata": {},
   "outputs": [
    {
     "name": "stdout",
     "output_type": "stream",
     "text": [
      "Score =  1\n",
      "Score =  2\n",
      "Score =  3\n",
      "Score =  4\n",
      "Score =  5\n"
     ]
    }
   ],
   "source": [
    "score = 0\n",
    "def add_score():\n",
    "    global score\n",
    "    score +=1\n",
    "    print(\"Score = \", score)\n",
    "add_score()\n",
    "add_score()\n",
    "add_score()\n",
    "add_score()\n",
    "add_score()"
   ]
  },
  {
   "cell_type": "code",
   "execution_count": 11,
   "id": "a3019a62",
   "metadata": {},
   "outputs": [
    {
     "name": "stdout",
     "output_type": "stream",
     "text": [
      "silahkan memilih menu : \n",
      "1. penjumlahan\n",
      "2. pengurangan\n",
      "3. perkalian\n",
      "4. pembagian\n",
      "masukan pilihan : 1\n",
      "masukan angka 1 : 20\n",
      "masukan angka 2 : 30\n",
      "hasil =  50\n",
      "masih ingin memilih ? tidak\n"
     ]
    }
   ],
   "source": [
    "#assignment\n",
    "def penjumlahan(angka1, angka2):\n",
    "    hasil = angka1 + angka2\n",
    "    return hasil\n",
    "    \n",
    "def pengurangan(angka1, angka2):\n",
    "    hasil = angka1 - angka2\n",
    "    print(\"hasil pengurangan = \", hasil)\n",
    "\n",
    "def perkalian(angka1, angka2):\n",
    "    hasil = angka1 * angka2\n",
    "    print(\"hasil perkalian = \", hasil)\n",
    "\n",
    "def pembagian(angka1, angka2):\n",
    "    hasil = angka1 / angka2\n",
    "    print(\"hasil pembagian = \", hasil)\n",
    "\n",
    "def menu():\n",
    "    print(\"silahkan memilih menu : \\n1. penjumlahan\\n2. pengurangan\\n3. perkalian\\n4. pembagian\")\n",
    "    \n",
    "while True:\n",
    "    \n",
    "    menu()\n",
    "    \n",
    "    pilih = int(input(\"masukan pilihan : \"))\n",
    "    angka1 = int(input(\"masukan angka 1 : \"))\n",
    "    angka2 = int(input(\"masukan angka 2 : \"))\n",
    "    \n",
    "    if pilih == 1:\n",
    "        jumlah = penjumlahan(angka1,angka2)\n",
    "        print(\"hasil = \",jumlah)\n",
    "        \n",
    "    elif pilih == 2:\n",
    "        pengurangan(angka1,angka2)\n",
    "        \n",
    "    elif pilih == 3:\n",
    "        perkalian(angka1,angka2)\n",
    "        \n",
    "    elif pilih == 4:\n",
    "        pembagian(angka1,angka2)\n",
    "        \n",
    "    else:\n",
    "        print(\"kondisi tidak sesuai\")\n",
    "    \n",
    "    keluar = input(\"masih ingin memilih ? \")\n",
    "    \n",
    "    if keluar == \"tidak\":\n",
    "        break\n",
    "    \n",
    "    "
   ]
  },
  {
   "cell_type": "code",
   "execution_count": 21,
   "id": "9355f4b1",
   "metadata": {},
   "outputs": [
    {
     "name": "stdout",
     "output_type": "stream",
     "text": [
      "Nilai terbesar: 10\n",
      "Nilai terkecil: 2\n"
     ]
    }
   ],
   "source": [
    "#assignment\n",
    "    \n",
    "def perbandingan():\n",
    "    # Input data dalam bentuk list\n",
    "    data = [10, 5, 7, 3, 8, 2]\n",
    "\n",
    "    # Inisialisasi variabel nilai terbesar dan terkecil\n",
    "    nilai_terbesar = data[0]\n",
    "    nilai_terkecil = data[0]\n",
    "\n",
    "    # Looping untuk mencari nilai terbesar dan terkecil\n",
    "    for angka in data:\n",
    "        if angka > nilai_terbesar:\n",
    "            nilai_terbesar = angka\n",
    "        elif angka < nilai_terkecil:\n",
    "            nilai_terkecil = angka\n",
    "    \n",
    "    # Output hasil\n",
    "    print(\"Nilai terbesar:\", nilai_terbesar)\n",
    "    print(\"Nilai terkecil:\", nilai_terkecil)\n",
    "    \n",
    "perbandingan()"
   ]
  },
  {
   "cell_type": "code",
   "execution_count": 20,
   "id": "a6e32162",
   "metadata": {},
   "outputs": [
    {
     "name": "stdout",
     "output_type": "stream",
     "text": [
      "2\n",
      "10\n"
     ]
    }
   ],
   "source": [
    "data = [10, 5, 7, 3, 8, 2]\n",
    "\n",
    "print(\"Nilai terkecil\", min(data))\n",
    "print(max(data))\n"
   ]
  },
  {
   "cell_type": "code",
   "execution_count": null,
   "id": "fc418679",
   "metadata": {},
   "outputs": [],
   "source": []
  }
 ],
 "metadata": {
  "kernelspec": {
   "display_name": "Python 3 (ipykernel)",
   "language": "python",
   "name": "python3"
  },
  "language_info": {
   "codemirror_mode": {
    "name": "ipython",
    "version": 3
   },
   "file_extension": ".py",
   "mimetype": "text/x-python",
   "name": "python",
   "nbconvert_exporter": "python",
   "pygments_lexer": "ipython3",
   "version": "3.9.13"
  }
 },
 "nbformat": 4,
 "nbformat_minor": 5
}
