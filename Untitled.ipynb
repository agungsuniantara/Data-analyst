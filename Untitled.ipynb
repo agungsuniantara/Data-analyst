{
 "cells": [
  {
   "cell_type": "code",
   "execution_count": 14,
   "id": "d73d8f49",
   "metadata": {},
   "outputs": [
    {
     "name": "stdout",
     "output_type": "stream",
     "text": [
      "False\n"
     ]
    }
   ],
   "source": [
    "list1 = [41, 1005, 3000, 180, 520, 2270]\n",
    "angka = 15\n",
    "\n",
    "print(angka in list1)"
   ]
  },
  {
   "cell_type": "code",
   "execution_count": 4,
   "id": "8afcbd5e",
   "metadata": {},
   "outputs": [
    {
     "name": "stdout",
     "output_type": "stream",
     "text": [
      "True\n"
     ]
    }
   ],
   "source": [
    "list1 = [41, 1005, 3000, 180, 520, 2270]\n",
    "angka = 15\n",
    "\n",
    "print(angka not in list1)"
   ]
  },
  {
   "cell_type": "code",
   "execution_count": 13,
   "id": "62a6e2b9",
   "metadata": {},
   "outputs": [
    {
     "name": "stdout",
     "output_type": "stream",
     "text": [
      "1920006903248\n",
      "1920006903248\n",
      "1920090314624\n",
      "1920090295296\n",
      "True\n",
      "False\n"
     ]
    }
   ],
   "source": [
    "a = 100\n",
    "b = 100\n",
    "\n",
    "c = [1, 2, 3]\n",
    "d = [1, 2, 3]\n",
    "\n",
    "print(id(a))\n",
    "print(id(b))\n",
    "print(id(c))\n",
    "print(id(d))\n",
    "\n",
    "print(c == d)\n",
    "print(c is d)"
   ]
  },
  {
   "cell_type": "code",
   "execution_count": 19,
   "id": "8ab17764",
   "metadata": {},
   "outputs": [
    {
     "name": "stdout",
     "output_type": "stream",
     "text": [
      "200\n",
      "1\n",
      "2\n",
      "3\n",
      "4\n",
      "5\n"
     ]
    }
   ],
   "source": [
    "angka1 = 100\n",
    "angka2 = 100\n",
    "\n",
    "angka3 = angka1 + angka2\n",
    "\n",
    "angka1 += angka2\n",
    "\n",
    "print(angka3)\n",
    "\n",
    "count = 0\n",
    "\n",
    "for i in range(5):\n",
    "    count += 1\n",
    "    print(count)"
   ]
  },
  {
   "cell_type": "code",
   "execution_count": 24,
   "id": "9cf79fff",
   "metadata": {},
   "outputs": [
    {
     "name": "stdout",
     "output_type": "stream",
     "text": [
      "b lebih besar dari a\n"
     ]
    }
   ],
   "source": [
    "username = \"agung\"\n",
    "\n",
    "if username == \"admin\":\n",
    "     print(\"Selamat Datang Admin!\")\n",
    "        \n",
    "a = 20\n",
    "b = 30\n",
    "\n",
    "if b > a:\n",
    "    print(\"b lebih besar dari a\") #error"
   ]
  },
  {
   "cell_type": "code",
   "execution_count": 26,
   "id": "922afa21",
   "metadata": {},
   "outputs": [
    {
     "name": "stdout",
     "output_type": "stream",
     "text": [
      "Selamat Datang Admin!\n",
      "ini akan selalu dieksekusi...\n"
     ]
    }
   ],
   "source": [
    "username = \"admin\"\n",
    "if username == \"admin\":\n",
    "     print(\"Selamat Datang Admin!\")\n",
    "       \n",
    "print(\"ini akan selalu dieksekusi...\")"
   ]
  },
  {
   "cell_type": "code",
   "execution_count": 30,
   "id": "0c3d2185",
   "metadata": {},
   "outputs": [
    {
     "name": "stdout",
     "output_type": "stream",
     "text": [
      "Masukan Nilai Ujian = 50\n",
      "Maaf Anda Harus Mengulang Tahun Depan\n"
     ]
    }
   ],
   "source": [
    "nilai = int(input(\"Masukan Nilai Ujian = \"))\n",
    "if(nilai > 60):\n",
    "     print(\"Selamat Anda Lulus Ujian!\")\n",
    "else:\n",
    "     print(\"Maaf Anda Harus Mengulang Tahun Depan\")"
   ]
  },
  {
   "cell_type": "code",
   "execution_count": 33,
   "id": "c82180b6",
   "metadata": {},
   "outputs": [
    {
     "name": "stdout",
     "output_type": "stream",
     "text": [
      "masukkan nama : agung\n",
      "Maaf Anda Tidak Terdaftar Sebagai Pengguna\n"
     ]
    }
   ],
   "source": [
    "username = input(\"masukkan nama : \")\n",
    "\n",
    "if(username == \"admin\"):\n",
    "    print(\"Salamat Datang Admin!\")\n",
    "elif(username == \"robert\"):\n",
    "    print(\"Selamat Datang Robert di Koding Akademi!\")\n",
    "else:\n",
    "    print(\"Maaf Anda Tidak Terdaftar Sebagai Pengguna\")"
   ]
  },
  {
   "cell_type": "code",
   "execution_count": 34,
   "id": "66d56271",
   "metadata": {},
   "outputs": [
    {
     "name": "stdout",
     "output_type": "stream",
     "text": [
      "Masukan Username Anda = admin\n",
      "Masukan Password Anda = 123\n",
      "Selamat Datang di Koding Akademi!\n"
     ]
    }
   ],
   "source": [
    "username = input(\"Masukan Username Anda = \")\n",
    "password = input(\"Masukan Password Anda = \")\n",
    "\n",
    "if(username == \"admin\" and password==\"123\"):\n",
    "     print(\"Selamat Datang di Koding Akademi!\")\n",
    "else:\n",
    "     print(\"Username dan atau Password salah!\")"
   ]
  },
  {
   "cell_type": "code",
   "execution_count": 42,
   "id": "1666c6ec",
   "metadata": {},
   "outputs": [
    {
     "name": "stdout",
     "output_type": "stream",
     "text": [
      "masukkan nilai : 10\n",
      "nilai d\n"
     ]
    }
   ],
   "source": [
    "nilai = int(input(\"masukkan nilai : \"))\n",
    "\n",
    "if(nilai >= 0 and nilai <= 50):\n",
    "    print(\"nilai d\")\n",
    "elif(nilai > 50 and nilai <= 70):\n",
    "    print(\"nilai c\")\n",
    "elif(nilai > 70 and nilai <= 80):\n",
    "    print(\"nilai b\")\n",
    "elif(nilai > 80 and nilai <= 100):\n",
    "    print(\"nilai a\")\n",
    "else:\n",
    "    print(\"nilai tidak sesuai ketentuan\")"
   ]
  },
  {
   "cell_type": "code",
   "execution_count": 46,
   "id": "474f306b",
   "metadata": {},
   "outputs": [
    {
     "name": "stdout",
     "output_type": "stream",
     "text": [
      "masukan kwh : -1\n",
      "kwh tidak sesuai ketentuan !\n"
     ]
    }
   ],
   "source": [
    "kwh = int(input(\"masukan kwh : \"))\n",
    "\n",
    "if(kwh >= 0 and kwh <= 100):\n",
    "    harga = kwh * 0\n",
    "    print(\"Rp \", harga)\n",
    "elif(kwh > 100 and kwh <= 200):\n",
    "    harga = kwh * 5\n",
    "    print(\"Rp \", harga)\n",
    "elif(kwh > 200):\n",
    "    harga = kwh * 10\n",
    "    print(\"Rp \", harga)\n",
    "else:\n",
    "    print(\"kwh tidak sesuai ketentuan !\")"
   ]
  },
  {
   "cell_type": "code",
   "execution_count": 51,
   "id": "34e2c39f",
   "metadata": {},
   "outputs": [
    {
     "name": "stdout",
     "output_type": "stream",
     "text": [
      "0\n",
      "koding akademi\n",
      "1\n",
      "koding akademi\n",
      "2\n",
      "koding akademi\n",
      "3\n",
      "koding akademi\n",
      "4\n",
      "koding akademi\n",
      "5\n",
      "koding akademi\n",
      "6\n",
      "koding akademi\n",
      "7\n",
      "koding akademi\n",
      "8\n",
      "koding akademi\n",
      "9\n",
      "koding akademi\n"
     ]
    }
   ],
   "source": [
    "jumlah_perulangan = 10\n",
    "for n in range(jumlah_perulangan):\n",
    "    print(n)\n",
    "    print(\"koding akademi\")"
   ]
  },
  {
   "cell_type": "code",
   "execution_count": 53,
   "id": "b8d48db2",
   "metadata": {},
   "outputs": [
    {
     "name": "stdout",
     "output_type": "stream",
     "text": [
      "Apple\n",
      "Orange\n",
      "Water Melon\n"
     ]
    }
   ],
   "source": [
    "items = ['Apple', 'Orange', 'Water Melon']\n",
    "for n in (items): \n",
    "    print(n)"
   ]
  },
  {
   "cell_type": "code",
   "execution_count": 55,
   "id": "4b92fe78",
   "metadata": {},
   "outputs": [
    {
     "name": "stdout",
     "output_type": "stream",
     "text": [
      "3\n",
      "6\n"
     ]
    }
   ],
   "source": [
    "# ini perulanagan...\n",
    "\n",
    "for x in range(3, 8, 3):\n",
    "    print(x)"
   ]
  },
  {
   "cell_type": "code",
   "execution_count": 59,
   "id": "f60b22fb",
   "metadata": {},
   "outputs": [
    {
     "name": "stdout",
     "output_type": "stream",
     "text": [
      "Ulang lagi atau tidak? ya\n",
      "Ulang lagi atau tidak? ya\n",
      "Ulang lagi atau tidak? ya\n",
      "Ulang lagi atau tidak? ya\n",
      "Ulang lagi atau tidak? tidak\n",
      "Program Selesai\n"
     ]
    }
   ],
   "source": [
    "jawab = \"ya\"\n",
    "while(jawab == 'ya'):\n",
    "     jawab = input(\"Ulang lagi atau tidak? \")\n",
    "        \n",
    "print(\"Program Selesai\")"
   ]
  },
  {
   "cell_type": "code",
   "execution_count": 65,
   "id": "1df5f551",
   "metadata": {},
   "outputs": [
    {
     "name": "stdout",
     "output_type": "stream",
     "text": [
      "Ulang lagi atau tidak? tidak\n",
      "berhenti\n"
     ]
    }
   ],
   "source": [
    "jawab = 'ya'\n",
    "\n",
    "while(True):\n",
    "     jawab = input(\"Ulang lagi atau tidak? \")\n",
    "     if jawab == 'tidak':\n",
    "        break"
   ]
  },
  {
   "cell_type": "code",
   "execution_count": null,
   "id": "3b52a267",
   "metadata": {},
   "outputs": [],
   "source": [
    "count = 0\n",
    "while (count < 5):\n",
    "    count += 1\n",
    "\n",
    "print(\"Hello Koding Akademi\")"
   ]
  },
  {
   "cell_type": "code",
   "execution_count": null,
   "id": "6eb8b020",
   "metadata": {},
   "outputs": [],
   "source": [
    "print(\"hello world\")"
   ]
  },
  {
   "cell_type": "code",
   "execution_count": null,
   "id": "ad8b22fc",
   "metadata": {},
   "outputs": [],
   "source": []
  }
 ],
 "metadata": {
  "kernelspec": {
   "display_name": "Python 3 (ipykernel)",
   "language": "python",
   "name": "python3"
  },
  "language_info": {
   "codemirror_mode": {
    "name": "ipython",
    "version": 3
   },
   "file_extension": ".py",
   "mimetype": "text/x-python",
   "name": "python",
   "nbconvert_exporter": "python",
   "pygments_lexer": "ipython3",
   "version": "3.9.13"
  }
 },
 "nbformat": 4,
 "nbformat_minor": 5
}
