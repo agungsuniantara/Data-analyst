{
 "cells": [
  {
   "cell_type": "code",
   "execution_count": 1,
   "id": "e3c28c2c",
   "metadata": {},
   "outputs": [
    {
     "name": "stdout",
     "output_type": "stream",
     "text": [
      "Nama Hewan :  {'1': 'Sapi', '2': 'Ayam', '3': 'Kucing'}\n",
      "Nama Binatang :  {'1': 'Sapi', '2': 'Ayam', '3': 'Kucing'}\n"
     ]
    }
   ],
   "source": [
    "nama_hewan = {'1':'Sapi', '2':'Ayam', '3':'Kucing'}\n",
    "nama_binatang = nama_hewan.copy()\n",
    "print (\"Nama Hewan : \",nama_hewan)\n",
    "print (\"Nama Binatang : \",nama_binatang)"
   ]
  },
  {
   "cell_type": "code",
   "execution_count": 2,
   "id": "13be018e",
   "metadata": {},
   "outputs": [
    {
     "name": "stdout",
     "output_type": "stream",
     "text": [
      "Isi Dictionary Sebelum Dihapus :  {'1': 'Sapi', '2': 'Ayam', '3': 'Kucing'}\n",
      "Isi Dictionary Setelah  Dihapus :  {}\n"
     ]
    }
   ],
   "source": [
    "nama_hewan = {'1':'Sapi', '2':'Ayam', '3':'Kucing'}\n",
    "print (\"Isi Dictionary Sebelum Dihapus : \",nama_hewan)\n",
    "nama_hewan.clear()\n",
    "print (\"Isi Dictionary Setelah  Dihapus : \",nama_hewan)"
   ]
  },
  {
   "cell_type": "code",
   "execution_count": 10,
   "id": "e9da7802",
   "metadata": {},
   "outputs": [
    {
     "name": "stdout",
     "output_type": "stream",
     "text": [
      "Hewan:  {'Sapi': 'Hewan', 'Ayam': 'Hewan', 'Kambing': 'Hewan'}\n"
     ]
    }
   ],
   "source": [
    "nama_hewan = ['Sapi', 'Ayam', 'Kambing']\n",
    "hewan = dict.fromkeys(nama_hewan, 'Hewan')\n",
    "\n",
    "print(\"Hewan: \", hewan)"
   ]
  },
  {
   "cell_type": "code",
   "execution_count": 11,
   "id": "9830d7bb",
   "metadata": {},
   "outputs": [
    {
     "name": "stdout",
     "output_type": "stream",
     "text": [
      "Isi Dictionary:  {'1': 'Sapi', '2': 'Ayam', '3': 'Kucing'}\n",
      "Jumlah Elemen :  3\n"
     ]
    }
   ],
   "source": [
    "nama_hewan = {'1':'Sapi', '2':'Ayam', '3':'Kucing'}\n",
    "print (\"Isi Dictionary: \",nama_hewan)\n",
    "jumlah_elemen = len(nama_hewan)\n",
    "print (\"Jumlah Elemen : \",jumlah_elemen)"
   ]
  },
  {
   "cell_type": "code",
   "execution_count": 12,
   "id": "a2ccb840",
   "metadata": {},
   "outputs": [
    {
     "name": "stdout",
     "output_type": "stream",
     "text": [
      "a:  Coding Explorer\n",
      "b:  Python Basic Programming\n",
      "c:  Web Design HTML CSS\n"
     ]
    }
   ],
   "source": [
    "nama_course = {'EXP':'Coding Explorer', 'python':'Python Basic Programming', 'web':'Web Design HTML CSS'}\n",
    "\n",
    "a = nama_course.get('EXP')\n",
    "b = nama_course.get('python')\n",
    "c = nama_course.get('web')\n",
    "\n",
    "print(\"a: \", a)\n",
    "print(\"b: \", b)\n",
    "print(\"c: \", c)"
   ]
  },
  {
   "cell_type": "code",
   "execution_count": 13,
   "id": "a503a2df",
   "metadata": {},
   "outputs": [
    {
     "name": "stdout",
     "output_type": "stream",
     "text": [
      "dict_keys(['EXP', 'python', 'web'])\n"
     ]
    }
   ],
   "source": [
    "nama_course = {'EXP':'Coding Explorer', 'python':'Python Basic Programming', 'web':'Web Design HTML CSS'}\n",
    "\n",
    "a = nama_course.keys()\n",
    "print(a)"
   ]
  },
  {
   "cell_type": "code",
   "execution_count": 14,
   "id": "a3d8c96c",
   "metadata": {},
   "outputs": [
    {
     "name": "stdout",
     "output_type": "stream",
     "text": [
      "dict_values(['Coding Explorer', 'Python Basic Programming', 'Web Design HTML CSS'])\n"
     ]
    }
   ],
   "source": [
    "nama_course = {'EXP':'Coding Explorer', 'python':'Python Basic Programming', 'web':'Web Design HTML CSS'}\n",
    "\n",
    "a = nama_course.values()\n",
    "print(a)"
   ]
  },
  {
   "cell_type": "code",
   "execution_count": null,
   "id": "295f6934",
   "metadata": {},
   "outputs": [],
   "source": []
  }
 ],
 "metadata": {
  "kernelspec": {
   "display_name": "Python 3 (ipykernel)",
   "language": "python",
   "name": "python3"
  },
  "language_info": {
   "codemirror_mode": {
    "name": "ipython",
    "version": 3
   },
   "file_extension": ".py",
   "mimetype": "text/x-python",
   "name": "python",
   "nbconvert_exporter": "python",
   "pygments_lexer": "ipython3",
   "version": "3.9.13"
  }
 },
 "nbformat": 4,
 "nbformat_minor": 5
}
