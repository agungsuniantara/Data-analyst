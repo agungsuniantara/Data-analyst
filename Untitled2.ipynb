{
 "cells": [
  {
   "cell_type": "code",
   "execution_count": 5,
   "id": "1372f1af",
   "metadata": {},
   "outputs": [
    {
     "name": "stdout",
     "output_type": "stream",
     "text": [
      "Score =  1\n"
     ]
    }
   ],
   "source": [
    "score = 0\n",
    "\n",
    "def add_score():\n",
    "    global score\n",
    "    score += 1\n",
    "    print(\"Score = \", score)\n",
    "add_score()"
   ]
  },
  {
   "cell_type": "code",
   "execution_count": 6,
   "id": "3ea21cae",
   "metadata": {},
   "outputs": [
    {
     "name": "stdout",
     "output_type": "stream",
     "text": [
      "Nilai Faktorial =  120\n"
     ]
    }
   ],
   "source": [
    "def faktorial(n):\n",
    "    if n == 0:\n",
    "        return 1\n",
    "    else:\n",
    "        return n * faktorial(n-1) \n",
    "    \n",
    "# 5 * 4 * 3 * 2 * 1\n",
    "\n",
    "nilai_faktorial = faktorial(5)\n",
    "print(\"Nilai Faktorial = \", nilai_faktorial)"
   ]
  },
  {
   "cell_type": "code",
   "execution_count": 7,
   "id": "3e9118ac",
   "metadata": {},
   "outputs": [
    {
     "name": "stdout",
     "output_type": "stream",
     "text": [
      "0    11\n",
      "1    12\n",
      "2    13\n",
      "3    14\n",
      "4    15\n",
      "dtype: int64\n"
     ]
    }
   ],
   "source": [
    "import pandas as pd\n",
    "\n",
    "data = [11,12,13,14,15]\n",
    "\n",
    "tampil = pd.Series(data)\n",
    "\n",
    "print(tampil)"
   ]
  },
  {
   "cell_type": "code",
   "execution_count": 8,
   "id": "ea708654",
   "metadata": {},
   "outputs": [
    {
     "name": "stdout",
     "output_type": "stream",
     "text": [
      "    0\n",
      "0  11\n",
      "1  12\n",
      "2  13\n",
      "3  14\n",
      "4  15\n"
     ]
    }
   ],
   "source": [
    "import pandas as pd\n",
    "\n",
    "data = [11,12,13,14,15]\n",
    "\n",
    "tampil = pd.DataFrame(data)\n",
    "\n",
    "print(tampil)"
   ]
  },
  {
   "cell_type": "code",
   "execution_count": null,
   "id": "f1a71d54",
   "metadata": {},
   "outputs": [],
   "source": []
  }
 ],
 "metadata": {
  "kernelspec": {
   "display_name": "Python 3 (ipykernel)",
   "language": "python",
   "name": "python3"
  },
  "language_info": {
   "codemirror_mode": {
    "name": "ipython",
    "version": 3
   },
   "file_extension": ".py",
   "mimetype": "text/x-python",
   "name": "python",
   "nbconvert_exporter": "python",
   "pygments_lexer": "ipython3",
   "version": "3.9.13"
  }
 },
 "nbformat": 4,
 "nbformat_minor": 5
}
