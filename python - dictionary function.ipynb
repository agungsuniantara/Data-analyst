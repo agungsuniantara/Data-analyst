{
 "cells": [
  {
   "cell_type": "code",
   "execution_count": 1,
   "id": "dbd8498f",
   "metadata": {},
   "outputs": [
    {
     "name": "stdout",
     "output_type": "stream",
     "text": [
      "Nama Hewan :  {'1': 'Sapi', '2': 'Ayam', '3': 'Kucing'}\n",
      "Nama Binatang :  {'1': 'Sapi', '2': 'Ayam', '3': 'Kucing'}\n"
     ]
    }
   ],
   "source": [
    "nama_hewan = {'1':'Sapi', '2':'Ayam', '3':'Kucing'}\n",
    "nama_binatang = nama_hewan.copy()\n",
    "print (\"Nama Hewan : \",nama_hewan)\n",
    "print (\"Nama Binatang : \",nama_binatang)"
   ]
  },
  {
   "cell_type": "code",
   "execution_count": 2,
   "id": "392a80e7",
   "metadata": {},
   "outputs": [
    {
     "name": "stdout",
     "output_type": "stream",
     "text": [
      "Isi Dictionary Sebelum Dihapus :  {'1': 'Sapi', '2': 'Ayam', '3': 'Kucing'}\n",
      "Isi Dictionary Setelah  Dihapus :  {}\n"
     ]
    }
   ],
   "source": [
    "nama_hewan = {'1':'Sapi', '2':'Ayam', '3':'Kucing'}\n",
    "print (\"Isi Dictionary Sebelum Dihapus : \",nama_hewan)\n",
    "nama_hewan.clear()\n",
    "print (\"Isi Dictionary Setelah  Dihapus : \",nama_hewan)"
   ]
  },
  {
   "cell_type": "code",
   "execution_count": 24,
   "id": "f2b75b2a",
   "metadata": {},
   "outputs": [
    {
     "name": "stdout",
     "output_type": "stream",
     "text": [
      "{'dsadsdsadada': 1, 'dsadsdsadasdasdsaadasdsa': 1, 'ddsa': 1}\n"
     ]
    }
   ],
   "source": [
    "nama_hewan = {'ddsa', 'dsadsdsadada', 'dsadsdsadasdasdsaadasdsa'}\n",
    "angka = 1\n",
    "hewan = dict.fromkeys(nama_hewan, angka)\n",
    "print(hewan)"
   ]
  },
  {
   "cell_type": "code",
   "execution_count": 25,
   "id": "e6292f98",
   "metadata": {},
   "outputs": [
    {
     "name": "stdout",
     "output_type": "stream",
     "text": [
      "Isi Dictionary:  {'1': 'Sapi', '2': 'Ayam', '3': 'Kucing'}\n",
      "Jumlah Elemen :  3\n"
     ]
    }
   ],
   "source": [
    "nama_hewan = {'1':'Sapi', '2':'Ayam', '3':'Kucing'}\n",
    "print (\"Isi Dictionary: \",nama_hewan)\n",
    "jumlah_elemen = len(nama_hewan)\n",
    "print (\"Jumlah Elemen : \",jumlah_elemen)"
   ]
  },
  {
   "cell_type": "code",
   "execution_count": 26,
   "id": "f3385fbc",
   "metadata": {},
   "outputs": [
    {
     "name": "stdout",
     "output_type": "stream",
     "text": [
      "a:  Coding Explorer\n",
      "b:  Python Basic Programming\n",
      "c:  Web Design HTML CSS\n"
     ]
    }
   ],
   "source": [
    "nama_course = {'EXP':'Coding Explorer', 'python':'Python Basic Programming', 'web':'Web Design HTML CSS'}\n",
    "\n",
    "a = nama_course.get('EXP')\n",
    "b = nama_course.get('python')\n",
    "c = nama_course.get('web')\n",
    "\n",
    "print(\"a: \", a)\n",
    "print(\"b: \", b)\n",
    "print(\"c: \", c)"
   ]
  },
  {
   "cell_type": "code",
   "execution_count": 38,
   "id": "3c4faf38",
   "metadata": {},
   "outputs": [
    {
     "name": "stdout",
     "output_type": "stream",
     "text": [
      "dict_items([('EXP', 'Coding Explorer'), ('python', 'Python Basic Programming'), ('web', 'Web Design HTML CSS')])\n",
      "{'EXP': 'Coding Explorer', 'python': 'Python Basic Programming', 'web': 'Web Design HTML CSS'}\n"
     ]
    }
   ],
   "source": [
    "nama_course = {'EXP':'Coding Explorer', 'python':'Python Basic Programming', 'web':'Web Design HTML CSS'}\n",
    "\n",
    "a = nama_course.items()\n",
    "\n",
    "print(a)\n",
    "\n",
    "print(nama_course)\n"
   ]
  },
  {
   "cell_type": "code",
   "execution_count": 16,
   "id": "562a11f1",
   "metadata": {},
   "outputs": [
    {
     "name": "stdout",
     "output_type": "stream",
     "text": [
      "dict_items([('nama', 'saya'), ('umur', 'uzur')])\n",
      "nama saya\n",
      "umur uzur\n"
     ]
    }
   ],
   "source": [
    "contoh = { \n",
    "    'nama': 'saya',\n",
    "    'umur' : 'uzur' }\n",
    "\n",
    "# for i in contoh:\n",
    "#     print(\"key = \", i,\" dan value = \",contoh[i])\n",
    "    \n",
    "item = contoh.items()\n",
    "print(item)\n",
    "\n",
    "for a,b in item:\n",
    "    print(\"{} {}\".format(a,b))\n",
    "    \n"
   ]
  },
  {
   "cell_type": "code",
   "execution_count": 82,
   "id": "a59af7ca",
   "metadata": {},
   "outputs": [
    {
     "name": "stdout",
     "output_type": "stream",
     "text": [
      "EXP\n",
      "python\n",
      "web\n",
      "Coding Explorer\n",
      "Python Basic Programming\n",
      "Web Design HTML CSS\n"
     ]
    }
   ],
   "source": [
    "contoh = {'EXP':'Coding Explorer', 'python':'Python Basic Programming', 'web':'Web Design HTML CSS'}\n",
    "\n",
    "a = contoh.keys()\n",
    "b = contoh.values()\n",
    "\n",
    "for i in a:\n",
    "    print(i)\n",
    "    \n",
    "for c in b:\n",
    "    print(c)"
   ]
  },
  {
   "cell_type": "code",
   "execution_count": 1,
   "id": "c00c4877",
   "metadata": {},
   "outputs": [
    {
     "name": "stdout",
     "output_type": "stream",
     "text": [
      "sebelum diubah :  {'1': 'Ayam', '2': 'Sapi', '3': 'Mawar', '4': 'Kambing', '5': 'Lily'}\n",
      "setelah diubah =  {'1': 'Ayam', '2': 'Sapi', '4': 'Kambing'}\n"
     ]
    }
   ],
   "source": [
    "#assignment\n",
    "\n",
    "a = {\n",
    "    \"1\" : \"Ayam\",\n",
    "    \"2\" : \"Sapi\",\n",
    "    \"3\" : \"Mawar\",\n",
    "    \"4\" : \"Kambing\",\n",
    "    \"5\" : \"Lily\",\n",
    "}\n",
    "\n",
    "tiru = a.copy()\n",
    "print(\"sebelum diubah : \", tiru)\n",
    "\n",
    "kunci = a.keys()\n",
    "\n",
    "for k in list(kunci):\n",
    "    if k == \"3\": \n",
    "        del a[k]\n",
    "    elif k == \"5\":\n",
    "        del a[k]\n",
    "    \n",
    "print(\"setelah diubah = \", a)\n"
   ]
  },
  {
   "cell_type": "code",
   "execution_count": 24,
   "id": "6a3ef1cd",
   "metadata": {},
   "outputs": [
    {
     "name": "stdout",
     "output_type": "stream",
     "text": [
      "sebelum diubah :  {'1': 'Ayam', '2': 'Sapi', '3': 'Mawar', '4': 'Kambing', '5': 'Lily'}\n",
      "setelah diubah :  {'1': 'hewan', '2': 'Sapi', '3': 'hewan', '4': 'Kambing', '5': 'hewan'}\n"
     ]
    }
   ],
   "source": [
    "a = {\n",
    "    \"1\" : \"Ayam\",\n",
    "    \"2\" : \"Sapi\",\n",
    "    \"3\" : \"Mawar\",\n",
    "    \"4\" : \"Kambing\",\n",
    "    \"5\" : \"Lily\",\n",
    "}\n",
    "\n",
    "tiru = a.copy()\n",
    "print(\"sebelum diubah : \", tiru)\n",
    "\n",
    "for k in a:\n",
    "    cek = int(k)\n",
    "    if cek % 2 != 0:\n",
    "        a[k] = \"hewan\"\n",
    "\n",
    "\n",
    "print(\"setelah diubah : \", a)"
   ]
  },
  {
   "cell_type": "code",
   "execution_count": null,
   "id": "4871c44c",
   "metadata": {},
   "outputs": [],
   "source": []
  }
 ],
 "metadata": {
  "kernelspec": {
   "display_name": "Python 3 (ipykernel)",
   "language": "python",
   "name": "python3"
  },
  "language_info": {
   "codemirror_mode": {
    "name": "ipython",
    "version": 3
   },
   "file_extension": ".py",
   "mimetype": "text/x-python",
   "name": "python",
   "nbconvert_exporter": "python",
   "pygments_lexer": "ipython3",
   "version": "3.9.13"
  }
 },
 "nbformat": 4,
 "nbformat_minor": 5
}
