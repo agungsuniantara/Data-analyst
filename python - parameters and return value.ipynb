{
 "cells": [
  {
   "cell_type": "code",
   "execution_count": 1,
   "id": "a163b7b2",
   "metadata": {},
   "outputs": [
    {
     "name": "stdout",
     "output_type": "stream",
     "text": [
      "Nilai Faktorial =  120\n"
     ]
    }
   ],
   "source": [
    "def faktorial(n):\n",
    "    if n == 0:\n",
    "        return 1\n",
    "    else:\n",
    "        return n * faktorial(n-1) \n",
    "\n",
    "nilai_faktorial = faktorial(5)\n",
    "print(\"Nilai Faktorial = \", nilai_faktorial)\n",
    "\n",
    "# 5x4x3x2x1"
   ]
  },
  {
   "cell_type": "code",
   "execution_count": 1,
   "id": "a7b81174",
   "metadata": {},
   "outputs": [
    {
     "name": "stdout",
     "output_type": "stream",
     "text": [
      "silahkan memilih menu : 1. penjumlahan, 2. pengurangan, 3. perkalian, 4. pembagian\n",
      "masukan pilihan : 1\n",
      "masukan angka 1 : 2\n",
      "masukan angka 2 : 1\n",
      "hasil penjumlahan =  3\n",
      "masih ingin memilih ? tidak\n"
     ]
    }
   ],
   "source": [
    "#assignment\n",
    "\n",
    "#assignment\n",
    "def penjumlahan(angka1, angka2):\n",
    "    hasil = angka1 + angka2\n",
    "    return hasil\n",
    "\n",
    "def pengurangan(angka1, angka2):\n",
    "    hasil = angka1 - angka2\n",
    "    return hasil\n",
    "\n",
    "def perkalian(angka1, angka2):\n",
    "    hasil = angka1 * angka2\n",
    "    return hasil\n",
    "\n",
    "def pembagian(angka1, angka2):\n",
    "    hasil = angka1 / angka2\n",
    "    return hasil\n",
    "\n",
    "while True:\n",
    "    print(\"silahkan memilih menu : 1. penjumlahan, 2. pengurangan, 3. perkalian, 4. pembagian\")\n",
    "    \n",
    "    pilih = int(input(\"masukan pilihan : \"))\n",
    "    angka1 = int(input(\"masukan angka 1 : \"))\n",
    "    angka2 = int(input(\"masukan angka 2 : \"))\n",
    "    \n",
    "    if pilih == 1:\n",
    "        hasil = penjumlahan(angka1,angka2)\n",
    "        print(\"hasil penjumlahan = \", hasil)\n",
    "    elif pilih == 2:\n",
    "        hasil = pengurangan(angka1,angka2)\n",
    "        print(\"hasil pengurangan = \", hasil)\n",
    "    elif pilih == 3:\n",
    "        hasil = perkalian(angka1,angka2)\n",
    "        print(\"hasil perkalian = \", hasil)\n",
    "    elif pilih == 4:\n",
    "        hasil = pembagian(angka1,angka2)\n",
    "        print(\"hasil pembagian = \", hasil)\n",
    "    else:\n",
    "        print(\"kondisi tidak sesuai\")\n",
    "    \n",
    "    keluar = input(\"masih ingin memilih ? \")\n",
    "    \n",
    "    if keluar == \"tidak\":\n",
    "        break\n",
    "    \n",
    "    "
   ]
  },
  {
   "cell_type": "code",
   "execution_count": null,
   "id": "79929419",
   "metadata": {},
   "outputs": [],
   "source": [
    "#assignment \n",
    "\n"
   ]
  }
 ],
 "metadata": {
  "kernelspec": {
   "display_name": "Python 3 (ipykernel)",
   "language": "python",
   "name": "python3"
  },
  "language_info": {
   "codemirror_mode": {
    "name": "ipython",
    "version": 3
   },
   "file_extension": ".py",
   "mimetype": "text/x-python",
   "name": "python",
   "nbconvert_exporter": "python",
   "pygments_lexer": "ipython3",
   "version": "3.9.13"
  }
 },
 "nbformat": 4,
 "nbformat_minor": 5
}
