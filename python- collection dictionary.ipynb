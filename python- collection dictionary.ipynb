{
 "cells": [
  {
   "cell_type": "code",
   "execution_count": 1,
   "id": "2bf9c32e",
   "metadata": {},
   "outputs": [
    {
     "name": "stdout",
     "output_type": "stream",
     "text": [
      "{'username': 'KodingAkademi', 'password': 12345}\n"
     ]
    }
   ],
   "source": [
    "akun = {\n",
    "    \"username\" : \"KodingAkademi\",\n",
    "    \"password\" : 12345\n",
    "}\n",
    "\n",
    "print(akun)"
   ]
  },
  {
   "cell_type": "code",
   "execution_count": 2,
   "id": "0b277df0",
   "metadata": {},
   "outputs": [
    {
     "name": "stdout",
     "output_type": "stream",
     "text": [
      "{'nama': 'Robert Johnson', 'umur': 18, 'alamat': 'Jalan Tukad Batanghari', 'username': 'koding_akademi', 'password': 12345}\n"
     ]
    }
   ],
   "source": [
    "biodata = {\n",
    "    \"nama\"     : \"Robert Johnson\",\n",
    "    \"umur\"     : 18,\n",
    "    \"alamat\"   : \"Jalan Tukad Batanghari\",\n",
    "    \"username\" : \"koding_akademi\",\n",
    "    \"password\" : 12345\n",
    "}\n",
    "\n",
    "print(biodata)"
   ]
  },
  {
   "cell_type": "code",
   "execution_count": 3,
   "id": "c7cb2027",
   "metadata": {},
   "outputs": [
    {
     "name": "stdout",
     "output_type": "stream",
     "text": [
      "Robert Johnson\n",
      "18\n"
     ]
    },
    {
     "data": {
      "text/plain": [
       "12345"
      ]
     },
     "execution_count": 3,
     "metadata": {},
     "output_type": "execute_result"
    }
   ],
   "source": [
    "dict(nama=\"Robert Johnson\", umur=18, alamat=\"Jalan Tukad Batanghari\", username=\"koding_akademi\", password=12345)\n",
    "\n",
    "\"Untuk mengakses nama\"\n",
    "print(biodata[\"nama\"])\n",
    "\n",
    "\"Untuk mengakses umur\"\n",
    "print(biodata[\"umur\"])\n",
    "\n",
    "\"Untuk mengakses alamat\"\n",
    "biodata[\"alamat\"]\n",
    "\n",
    "\"Untuk mengakses username\"\n",
    "biodata[\"username\"]\n",
    "\n",
    "\"Untuk mengakses password\"\n",
    "biodata[\"password\"]"
   ]
  },
  {
   "cell_type": "code",
   "execution_count": 8,
   "id": "ed8d128a",
   "metadata": {},
   "outputs": [
    {
     "name": "stdout",
     "output_type": "stream",
     "text": [
      "Robert Johnson\n",
      "18\n",
      "Jalan Tukad Batanghari\n",
      "koding_akademi\n",
      "12345\n"
     ]
    }
   ],
   "source": [
    "biodata = {\n",
    "    \"nama\"    :\"Robert Johnson\",\n",
    "    \"umur\"    :18,\n",
    "    \"alamat\"  :\"Jalan Tukad Batanghari\",\n",
    "    \"username\":\"koding_akademi\",\n",
    "    \"password\":12345\n",
    "}\n",
    "for key in biodata:\n",
    "    print(biodata[key])"
   ]
  },
  {
   "cell_type": "code",
   "execution_count": 12,
   "id": "a766afea",
   "metadata": {},
   "outputs": [
    {
     "name": "stdout",
     "output_type": "stream",
     "text": [
      "[1, 1, 2, 3, 4]\n",
      "{1, 2, 3, 4}\n",
      "(1, 1, 2, 3, 4)\n"
     ]
    }
   ],
   "source": [
    "contoh = [1,1,2,3,4]\n",
    "contoh1 = {1,1,2,3,4}\n",
    "contoh2 = (1,1,2,3,4)\n",
    "\n",
    "print(contoh)\n",
    "print(contoh1)\n",
    "print(contoh2)"
   ]
  },
  {
   "cell_type": "code",
   "execution_count": 14,
   "id": "610be2c6",
   "metadata": {},
   "outputs": [
    {
     "name": "stdout",
     "output_type": "stream",
     "text": [
      "{'nama': 'Robert Johnson', 'umur': 18, 'alamat': 'Jalan Tukad Batanghari', 'username': 'admin', 'password': 12345}\n"
     ]
    }
   ],
   "source": [
    "biodata = {\n",
    "    \"nama\"    :\"Robert Johnson\",\n",
    "    \"umur\"    :18,\n",
    "    \"alamat\"  :\"Jalan Tukad Batanghari\",\n",
    "    \"username\":\"koding_akademi\",\n",
    "    \"password\":12345\n",
    "}\n",
    "\n",
    "\"Mengganti nilai item dengan key username\"\n",
    "biodata[\"username\"] = \"admin\"\n",
    "\n",
    "print(biodata)"
   ]
  },
  {
   "cell_type": "code",
   "execution_count": 16,
   "id": "ff90922f",
   "metadata": {},
   "outputs": [
    {
     "name": "stdout",
     "output_type": "stream",
     "text": [
      "{'nama': 'Robert Johnson', 'alamat': 'Jalan Tukad Batanghari', 'username': 'koding_akademi', 'password': 12345}\n"
     ]
    }
   ],
   "source": [
    "biodata = {\n",
    "    \"nama\"    :\"Robert Johnson\",\n",
    "    \"umur\"    :18,\n",
    "    \"alamat\"  :\"Jalan Tukad Batanghari\",\n",
    "    \"username\":\"koding_akademi\",\n",
    "    \"password\":12345\n",
    "}\n",
    "biodata.pop(\"umur\")\n",
    "\n",
    "print(biodata)"
   ]
  },
  {
   "cell_type": "code",
   "execution_count": 18,
   "id": "407b8b6a",
   "metadata": {},
   "outputs": [
    {
     "name": "stdout",
     "output_type": "stream",
     "text": [
      "{'nama': 'Robert Johnson', 'alamat': 'Jalan Tukad Batanghari', 'username': 'koding_akademi', 'password': 12345}\n"
     ]
    }
   ],
   "source": [
    "biodata = {\n",
    "    \"nama\"    :\"Robert Johnson\",\n",
    "    \"umur\"    :18,\n",
    "    \"alamat\"  :\"Jalan Tukad Batanghari\",\n",
    "    \"username\":\"koding_akademi\",\n",
    "    \"password\":12345\n",
    "}\n",
    "del biodata[\"umur\"]\n",
    "\n",
    "print(biodata)"
   ]
  },
  {
   "cell_type": "code",
   "execution_count": 19,
   "id": "2faa9ab8",
   "metadata": {},
   "outputs": [],
   "source": [
    "akun = {\n",
    "    \"username\" : \"admin\"\n",
    "}\n",
    "akun.update({\"password\" : 123})"
   ]
  },
  {
   "cell_type": "code",
   "execution_count": 20,
   "id": "62afe9b2",
   "metadata": {},
   "outputs": [
    {
     "name": "stdout",
     "output_type": "stream",
     "text": [
      "2\n"
     ]
    }
   ],
   "source": [
    "akun = {\n",
    "    \"username\" : \"admin\",\n",
    "    \"password\" : 123\n",
    "}\n",
    "print(len(akun))"
   ]
  },
  {
   "cell_type": "code",
   "execution_count": 37,
   "id": "0b8be49a",
   "metadata": {},
   "outputs": [
    {
     "name": "stdout",
     "output_type": "stream",
     "text": [
      "masukkan nama anda: agung\n",
      "masukkan umur anda: 19\n",
      "masukkan alamat anda: denpasar\n",
      "masukkan username anda: suniantara\n",
      "masukkan password anda: iuo\n",
      "nama =  agung\n",
      "umur =  19\n",
      "alamat =  denpasar\n",
      "username =  suniantara\n",
      "password =  iuo\n"
     ]
    }
   ],
   "source": [
    "#assignment \n",
    "\n",
    "nama = input(\"masukkan nama anda: \")\n",
    "umur = input(\"masukkan umur anda: \")\n",
    "alamat = input(\"masukkan alamat anda: \")\n",
    "username = input(\"masukkan username anda: \")\n",
    "password = input(\"masukkan password anda: \")\n",
    "\n",
    "data = {}\n",
    "\n",
    "data.update({\"nama\" : nama})\n",
    "data.update({\"umur\" : umur})\n",
    "data.update({\"alamat\" : alamat})\n",
    "data.update({\"username\" : username})\n",
    "data.update({\"password\" : password})\n",
    "\n",
    "print(\"nama = \", data[\"nama\"])\n",
    "print(\"umur = \", data[\"umur\"])\n",
    "print(\"alamat = \", data[\"alamat\"])\n",
    "print(\"username = \", data[\"username\"])\n",
    "print(\"password = \", data[\"password\"])"
   ]
  },
  {
   "cell_type": "code",
   "execution_count": 3,
   "id": "4139ba67",
   "metadata": {},
   "outputs": [
    {
     "name": "stdout",
     "output_type": "stream",
     "text": [
      "data =  {'marvel': 'action', 'cod': 'war'}\n",
      "ingin tambah atau hapus ? hapus\n",
      "masukkan nama film : marvel\n",
      "data =  {'cod': 'war'}\n"
     ]
    }
   ],
   "source": [
    "data = {\n",
    "    \"marvel\" : \"action\",\n",
    "    \"cod\" : \"war\"\n",
    "}\n",
    "\n",
    "print(\"data = \",data)\n",
    "\n",
    "while True:\n",
    "    kondisi = input(\"ingin tambah atau hapus ? \")\n",
    "    \n",
    "    if kondisi == \"tambah\":\n",
    "        nama = input(\"masukkan nama film : \")\n",
    "        tipe = input(\"masukkan jenis film : \")\n",
    "        data.update({tipe : nama})\n",
    "        print(\"data = \", data)\n",
    "        break\n",
    "    elif kondisi == \"hapus\":\n",
    "        nama = input(\"masukkan nama film : \")\n",
    "        data.pop(nama)\n",
    "        print(\"data = \", data)\n",
    "        break\n",
    "    else:\n",
    "        print(\"operator tidak sesuai\")\n",
    "    "
   ]
  },
  {
   "cell_type": "code",
   "execution_count": null,
   "id": "4361c33b",
   "metadata": {},
   "outputs": [],
   "source": []
  }
 ],
 "metadata": {
  "kernelspec": {
   "display_name": "Python 3 (ipykernel)",
   "language": "python",
   "name": "python3"
  },
  "language_info": {
   "codemirror_mode": {
    "name": "ipython",
    "version": 3
   },
   "file_extension": ".py",
   "mimetype": "text/x-python",
   "name": "python",
   "nbconvert_exporter": "python",
   "pygments_lexer": "ipython3",
   "version": "3.9.13"
  }
 },
 "nbformat": 4,
 "nbformat_minor": 5
}
