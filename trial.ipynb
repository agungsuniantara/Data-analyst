{
 "cells": [
  {
   "cell_type": "code",
   "execution_count": 14,
   "id": "c07f5c60",
   "metadata": {},
   "outputs": [
    {
     "name": "stdout",
     "output_type": "stream",
     "text": [
      "key =  nama  value =  Robert Johnson\n",
      "key =  umur  value =  18\n",
      "key =  alamat  value =  Jalan Tukad Batanghari\n",
      "key =  username  value =  koding_akademi\n",
      "key =  password  value =  12345\n"
     ]
    }
   ],
   "source": [
    "biodata = {\n",
    "    \"nama\"     : \"Robert Johnson\",\n",
    "    \"umur\"     : 18,\n",
    "    \"alamat\"   : \"Jalan Tukad Batanghari\",\n",
    "    \"username\" : \"koding_akademi\",\n",
    "    \"password\" : 12345\n",
    "}\n",
    "\n",
    "\n",
    "for i in biodata:\n",
    "    print(\"key = \",i,\" value = \",biodata[i])\n"
   ]
  },
  {
   "cell_type": "code",
   "execution_count": null,
   "id": "0dfacee0",
   "metadata": {},
   "outputs": [],
   "source": []
  }
 ],
 "metadata": {
  "kernelspec": {
   "display_name": "Python 3 (ipykernel)",
   "language": "python",
   "name": "python3"
  },
  "language_info": {
   "codemirror_mode": {
    "name": "ipython",
    "version": 3
   },
   "file_extension": ".py",
   "mimetype": "text/x-python",
   "name": "python",
   "nbconvert_exporter": "python",
   "pygments_lexer": "ipython3",
   "version": "3.9.13"
  }
 },
 "nbformat": 4,
 "nbformat_minor": 5
}
